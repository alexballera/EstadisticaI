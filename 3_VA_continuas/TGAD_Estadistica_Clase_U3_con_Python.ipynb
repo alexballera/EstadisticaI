{
  "cells": [
    {
      "cell_type": "markdown",
      "metadata": {
        "colab_type": "text",
        "id": "view-in-github"
      },
      "source": [
        "<a href=\"https://colab.research.google.com/github/TGADEstadisticaI/EstadisticaI/blob/main/3%20VA%20continuas/TGAD_Estad%C3%ADstica_Clase_U3_con_Python.ipynb\" target=\"_parent\"><img src=\"https://colab.research.google.com/assets/colab-badge.svg\" alt=\"Open In Colab\"/></a>"
      ]
    },
    {
      "cell_type": "markdown",
      "metadata": {
        "id": "drvDSfWaaYWS"
      },
      "source": [
        "<figure>\n",
        "<center>\n",
        "<img src='https://www.economicas.uba.ar/wp-content/uploads/2020/08/cropped-logo_FCE.png' />\n",
        "</figure>"
      ]
    },
    {
      "cell_type": "markdown",
      "metadata": {
        "id": "eMuYyGo7uqxJ"
      },
      "source": [
        "# **Universidad de Buenos Aires**\n",
        "## **Facultad de Ciencias Económicas**\n",
        "\n",
        "### **Estadística I**\n",
        "\n",
        "### Cátedra: Bianco\n",
        "\n",
        "#### **Resolución ejemplos clase U3 con Python**\n",
        "\n",
        "***Material elaborado por la profesora Natalia Salaberry***"
      ]
    },
    {
      "cell_type": "markdown",
      "metadata": {
        "id": "x1VhSHZj2Nsn"
      },
      "source": [
        "###**Librerías**"
      ]
    },
    {
      "cell_type": "code",
      "execution_count": 1,
      "metadata": {
        "id": "zEqbGveEk4kx"
      },
      "outputs": [
        {
          "ename": "ModuleNotFoundError",
          "evalue": "No module named 'sympy'",
          "output_type": "error",
          "traceback": [
            "\u001b[31m---------------------------------------------------------------------------\u001b[39m",
            "\u001b[31mModuleNotFoundError\u001b[39m                       Traceback (most recent call last)",
            "\u001b[36mCell\u001b[39m\u001b[36m \u001b[39m\u001b[32mIn[1]\u001b[39m\u001b[32m, line 3\u001b[39m\n\u001b[32m      1\u001b[39m \u001b[38;5;28;01mimport\u001b[39;00m\u001b[38;5;250m \u001b[39m\u001b[34;01mpandas\u001b[39;00m\u001b[38;5;250m \u001b[39m\u001b[38;5;28;01mas\u001b[39;00m\u001b[38;5;250m \u001b[39m\u001b[34;01mpd\u001b[39;00m\n\u001b[32m      2\u001b[39m \u001b[38;5;28;01mimport\u001b[39;00m\u001b[38;5;250m \u001b[39m\u001b[34;01mnumpy\u001b[39;00m\u001b[38;5;250m \u001b[39m\u001b[38;5;28;01mas\u001b[39;00m\u001b[38;5;250m \u001b[39m\u001b[34;01mnp\u001b[39;00m\n\u001b[32m----> \u001b[39m\u001b[32m3\u001b[39m \u001b[38;5;28;01mimport\u001b[39;00m\u001b[38;5;250m \u001b[39m\u001b[34;01msympy\u001b[39;00m\n\u001b[32m      4\u001b[39m \u001b[38;5;28;01mfrom\u001b[39;00m\u001b[38;5;250m \u001b[39m\u001b[34;01mitertools\u001b[39;00m\u001b[38;5;250m \u001b[39m\u001b[38;5;28;01mimport\u001b[39;00m product\n\u001b[32m      5\u001b[39m \u001b[38;5;28;01mfrom\u001b[39;00m\u001b[38;5;250m \u001b[39m\u001b[34;01mfractions\u001b[39;00m\u001b[38;5;250m \u001b[39m\u001b[38;5;28;01mimport\u001b[39;00m Fraction\n",
            "\u001b[31mModuleNotFoundError\u001b[39m: No module named 'sympy'"
          ]
        }
      ],
      "source": [
        "import pandas as pd\n",
        "import numpy as np\n",
        "import sympy\n",
        "from itertools import product\n",
        "from fractions import Fraction\n",
        "from IPython.display import display, Math\n",
        "import matplotlib.pyplot as plt\n",
        "from scipy.stats import uniform, expon, norm, binom, poisson"
      ]
    },
    {
      "cell_type": "markdown",
      "metadata": {
        "id": "xuzGIEa_lH4Z"
      },
      "source": [
        "### Ejemplo 1"
      ]
    },
    {
      "cell_type": "markdown",
      "metadata": {
        "id": "yp1jWyNlVuSj"
      },
      "source": [
        "\\begin{equation}\n",
        "Sea f(x)\\left\\{\n",
        "\t       \\begin{array}{cc}\n",
        "\t\t ax^2 \\,\\,\\,\\,\\,\\,\\,\\,\\,\\,\\,\\,\\,\\,\\,\\,\\,\\,\\, 1 \\leq x \\leq 3     \\\\\n",
        "\t\t 0 \\,\\,\\,\\,\\,\\,\\,\\,\\,\\,\\,\\, en \\thinspace otro \\thinspace caso     \\\\\n",
        "\t       \\end{array}\n",
        "\t     \\right.\n",
        "\\end{equation}\n",
        "\n",
        "1)Calcular el valor de 𝑎 para que 𝑓(𝑥) resulte una función densidad de\n",
        "probabilidad.\n",
        "\n",
        "2) Tomando el valor hallado de 𝑎, calcular P(1,7 < x < 2,3) y P(x ≥ 2)"
      ]
    },
    {
      "cell_type": "code",
      "execution_count": null,
      "metadata": {
        "colab": {
          "base_uri": "https://localhost:8080/",
          "height": 131
        },
        "collapsed": true,
        "id": "GeUnGzxswu24",
        "outputId": "66337000-ddd4-469d-b750-e50b997f8dfd"
      },
      "outputs": [
        {
          "name": "stdout",
          "output_type": "stream",
          "text": [
            "para el punto 1)\n",
            "\n"
          ]
        },
        {
          "data": {
            "text/latex": [
              "$\\displaystyle {\\int_{1}^{3} f(x)dx}= 1 =>{\\int_{1}^{3} ax^2 dx}={a \\int_{1}^{3} x^2 dx}=a* {x^3 \\over 3}|_{1}^{3}= 1$"
            ],
            "text/plain": [
              "<IPython.core.display.Math object>"
            ]
          },
          "metadata": {},
          "output_type": "display_data"
        },
        {
          "data": {
            "text/latex": [
              "$\\displaystyle a*[{3^3 \\over 3}-{1^3 \\over 3}]= 1 => a*[{9}-{1\\over 3}]= 1=> a*{26\\over 3}= 1 => a= {3\\over {26}}$"
            ],
            "text/plain": [
              "<IPython.core.display.Math object>"
            ]
          },
          "metadata": {},
          "output_type": "display_data"
        }
      ],
      "source": [
        "print('para el punto 1)')\n",
        "print('')\n",
        "display(Math(r'{\\int_{1}^{3} f(x)dx}= 1 =>{\\int_{1}^{3} ax^2 dx}={a \\int_{1}^{3} x^2 dx}=a* {x^3 \\over 3}|_{1}^{3}= 1'))\n",
        "display(Math(r'a*[{3^3 \\over 3}-{1^3 \\over 3}]= 1 => a*[{9}-{1\\over 3}]= 1=> a*{26\\over 3}= 1 => a= {3\\over {26}}'))"
      ]
    },
    {
      "cell_type": "code",
      "execution_count": null,
      "metadata": {
        "colab": {
          "base_uri": "https://localhost:8080/",
          "height": 248
        },
        "collapsed": true,
        "id": "CE8Obofzx43B",
        "outputId": "b57b803d-2f7a-47c7-fb80-b2aa473a18ef"
      },
      "outputs": [
        {
          "name": "stdout",
          "output_type": "stream",
          "text": [
            "para el punto 2)\n",
            "\n",
            "\n"
          ]
        },
        {
          "data": {
            "text/latex": [
              "$\\displaystyle {P(1.7<X<2.3)}={\\int_{1.7}^{2.3} f(x)dx}={\\int_{1.7}^{2.3} {3\\over{26}}x^2 dx}={{3\\over{26}} \\int_{1.7}^{2.3} x^2 dx}={3\\over{26}}* {x^3 \\over 3}|_{1.7}^{2.3}={3\\over{26}}*[{2.3^3 \\over 3}-{1.7^3 \\over 3}]=$"
            ],
            "text/plain": [
              "<IPython.core.display.Math object>"
            ]
          },
          "metadata": {},
          "output_type": "display_data"
        },
        {
          "name": "stdout",
          "output_type": "stream",
          "text": [
            "\n"
          ]
        },
        {
          "data": {
            "text/latex": [
              "$\\displaystyle {P(1.7<X<2.3)}=0.28$"
            ],
            "text/plain": [
              "<IPython.core.display.Math object>"
            ]
          },
          "metadata": {},
          "output_type": "display_data"
        },
        {
          "name": "stdout",
          "output_type": "stream",
          "text": [
            "\n"
          ]
        },
        {
          "data": {
            "text/latex": [
              "$\\displaystyle {P(X \\geq 2)}={\\int_2^3 f(x)dx}={\\int_2^3 {3\\over{26}}x^2 dx}={{3\\over{26}} \\int_2^3 x^2 dx}={3\\over{26}}* {x^3 \\over 3}|_2^3={3\\over{26}}*[{9 \\over 3}-{4 \\over 3}]=$"
            ],
            "text/plain": [
              "<IPython.core.display.Math object>"
            ]
          },
          "metadata": {},
          "output_type": "display_data"
        },
        {
          "name": "stdout",
          "output_type": "stream",
          "text": [
            "\n"
          ]
        },
        {
          "data": {
            "text/latex": [
              "$\\displaystyle {P(X \\geq 2)}=0.73$"
            ],
            "text/plain": [
              "<IPython.core.display.Math object>"
            ]
          },
          "metadata": {},
          "output_type": "display_data"
        }
      ],
      "source": [
        "print('para el punto 2)')\n",
        "print('')\n",
        "x= sympy.symbols('x')\n",
        "f=(3/26)*x**2\n",
        "print('')\n",
        "display(Math(r'{P(1.7<X<2.3)}={\\int_{1.7}^{2.3} f(x)dx}={\\int_{1.7}^{2.3} {3\\over{26}}x^2 dx}={{3\\over{26}} \\int_{1.7}^{2.3} x^2 dx}={3\\over{26}}* {x^3 \\over 3}|_{1.7}^{2.3}={3\\over{26}}*[{2.3^3 \\over 3}-{1.7^3 \\over 3}]='))\n",
        "print('')\n",
        "display(Math(r'{P(1.7<X<2.3)}='+str(round(sympy.integrate(f,(x,1.7,2.3)),2))))\n",
        "print('')\n",
        "display(Math(r'{P(X \\geq 2)}={\\int_2^3 f(x)dx}={\\int_2^3 {3\\over{26}}x^2 dx}={{3\\over{26}} \\int_2^3 x^2 dx}={3\\over{26}}* {x^3 \\over 3}|_2^3={3\\over{26}}*[{9 \\over 3}-{4 \\over 3}]='))\n",
        "print('')\n",
        "display(Math(r'{P(X \\geq 2)}='+str(round(sympy.integrate(f,(x,2,3)),2))))"
      ]
    },
    {
      "cell_type": "markdown",
      "metadata": {
        "id": "CBzgrSv8x1g9"
      },
      "source": [
        "### Ejemplo 2"
      ]
    },
    {
      "cell_type": "markdown",
      "metadata": {
        "id": "wXC0LOANx5xY"
      },
      "source": [
        "\\begin{equation}\n",
        "Sea f(x)\\left\\{\n",
        "\t       \\begin{array}{cc}\n",
        "\t\t {3 \\over 26}x^2 \\,\\,\\,\\,\\,\\,\\,\\,\\,\\,\\,\\,\\,\\,\\,\\,\\,\\,\\, 1 \\leq x \\leq 3     \\\\\n",
        "\t\t 0 \\,\\,\\,\\,\\,\\,\\,\\,\\,\\,\\,\\, en \\thinspace otro \\thinspace caso     \\\\\n",
        "\t       \\end{array}\n",
        "\t     \\right.\n",
        "\\end{equation}\n",
        "\n",
        "Calcular la función de distribución acumulada F(X) y graficar"
      ]
    },
    {
      "cell_type": "code",
      "execution_count": null,
      "metadata": {
        "colab": {
          "base_uri": "https://localhost:8080/",
          "height": 342
        },
        "collapsed": true,
        "id": "RXNngpXmx5xZ",
        "outputId": "43abb6eb-4c5d-4f1e-8ebb-85ea19420fc2"
      },
      "outputs": [
        {
          "name": "stdout",
          "output_type": "stream",
          "text": [
            "\n"
          ]
        },
        {
          "data": {
            "text/latex": [
              "$\\displaystyle {P(X<1)}={\\int_{- \\infty}^{1} f(x)dx}={\\int_{- \\infty}^{1} 0 dx}= 0$"
            ],
            "text/plain": [
              "<IPython.core.display.Math object>"
            ]
          },
          "metadata": {},
          "output_type": "display_data"
        },
        {
          "name": "stdout",
          "output_type": "stream",
          "text": [
            "\n"
          ]
        },
        {
          "data": {
            "text/latex": [
              "$\\displaystyle {P(1 < X < x)}={\\int_1^x f(x)dx}={\\int_1^x {3\\over{26}}x^2 dx}={{3\\over{26}} \\int_1^x x^2 dx}={3\\over{26}}* {x^3 \\over 3}|_1^x=$"
            ],
            "text/plain": [
              "<IPython.core.display.Math object>"
            ]
          },
          "metadata": {},
          "output_type": "display_data"
        },
        {
          "name": "stdout",
          "output_type": "stream",
          "text": [
            "\n"
          ]
        },
        {
          "data": {
            "text/latex": [
              "$\\displaystyle {3\\over{26}}*[{x^3 \\over 3}-{1^3 \\over 3}]={3\\over{26}}*[{x^3 \\over 3}-{1\\over 3}]={3\\over{26}}*{x^3 -1 \\over 3}={x^3 -1 \\over {26}}$"
            ],
            "text/plain": [
              "<IPython.core.display.Math object>"
            ]
          },
          "metadata": {},
          "output_type": "display_data"
        },
        {
          "name": "stdout",
          "output_type": "stream",
          "text": [
            "\n"
          ]
        },
        {
          "data": {
            "text/latex": [
              "$\\displaystyle {P(1 < X < 3)}={\\int_1^3 f(x)dx}={\\int_1^3 {3\\over{26}}x^2 dx}={{3\\over{26}} \\int_1^3 x^2 dx}={3\\over{26}}* {x^3 \\over 3}|_1^3=$"
            ],
            "text/plain": [
              "<IPython.core.display.Math object>"
            ]
          },
          "metadata": {},
          "output_type": "display_data"
        },
        {
          "name": "stdout",
          "output_type": "stream",
          "text": [
            "\n"
          ]
        },
        {
          "data": {
            "text/latex": [
              "$\\displaystyle {3\\over{26}}*[{3^3 \\over 3}-{1^3 \\over 3}]={3\\over{26}}*[{27 \\over 3}-{1\\over 3}]={3\\over{26}}*{27 -1 \\over 3}={3 \\over {26}}*{26 \\over {3}}=$"
            ],
            "text/plain": [
              "<IPython.core.display.Math object>"
            ]
          },
          "metadata": {},
          "output_type": "display_data"
        },
        {
          "name": "stdout",
          "output_type": "stream",
          "text": [
            "\n"
          ]
        },
        {
          "data": {
            "text/latex": [
              "$\\displaystyle {P(X \\geq 2)}=1.00000000000000$"
            ],
            "text/plain": [
              "<IPython.core.display.Math object>"
            ]
          },
          "metadata": {},
          "output_type": "display_data"
        }
      ],
      "source": [
        "x= sympy.symbols('x')\n",
        "f=(3/26)*x**2\n",
        "print('')\n",
        "display(Math(r'{P(X<1)}={\\int_{- \\infty}^{1} f(x)dx}={\\int_{- \\infty}^{1} 0 dx}= 0'))\n",
        "print('')\n",
        "display(Math(r'{P(1 < X < x)}={\\int_1^x f(x)dx}={\\int_1^x {3\\over{26}}x^2 dx}={{3\\over{26}} \\int_1^x x^2 dx}={3\\over{26}}* {x^3 \\over 3}|_1^x='))\n",
        "print('')\n",
        "display(Math(r'{3\\over{26}}*[{x^3 \\over 3}-{1^3 \\over 3}]={3\\over{26}}*[{x^3 \\over 3}-{1\\over 3}]={3\\over{26}}*{x^3 -1 \\over 3}={x^3 -1 \\over {26}}'))\n",
        "print('')\n",
        "display(Math(r'{P(1 < X < 3)}={\\int_1^3 f(x)dx}={\\int_1^3 {3\\over{26}}x^2 dx}={{3\\over{26}} \\int_1^3 x^2 dx}={3\\over{26}}* {x^3 \\over 3}|_1^3='))\n",
        "print('')\n",
        "display(Math(r'{3\\over{26}}*[{3^3 \\over 3}-{1^3 \\over 3}]={3\\over{26}}*[{27 \\over 3}-{1\\over 3}]={3\\over{26}}*{27 -1 \\over 3}={3 \\over {26}}*{26 \\over {3}}='))\n",
        "print('')\n",
        "display(Math(r'{P(X \\geq 2)}='+str(round(sympy.integrate(f,(x,1,3)),0))))"
      ]
    },
    {
      "cell_type": "markdown",
      "metadata": {
        "id": "n1Ko9FAGz9fR"
      },
      "source": [
        "\\begin{equation}\n",
        "F_X(t)\\left\\{\n",
        "\t       \\begin{array}{cc}\n",
        "\t\t 0 \\,\\,\\,\\,\\,\\,\\,\\,\\,\\,\\,\\,\\, t < 1     \\\\\n",
        "\t\t {t^3 -1 \\over {26}} \\,\\,\\,\\,\\,\\,\\,\\,\\,\\,\\,\\, 1 \\leq t < 3     \\\\\n",
        "     1 \\,\\,\\,\\,\\,\\,\\,\\,\\,\\,\\,\\,\\,\\,\\, 3 \\leq t     \\\\\n",
        "\t       \\end{array}\n",
        "\t     \\right.\n",
        "\\end{equation}"
      ]
    },
    {
      "cell_type": "code",
      "execution_count": null,
      "metadata": {
        "colab": {
          "base_uri": "https://localhost:8080/",
          "height": 472
        },
        "collapsed": true,
        "id": "i0ZClkoVz9fS",
        "outputId": "2ad140a4-df72-4542-b407-0497684806c1"
      },
      "outputs": [
        {
          "data": {
            "image/png": "[encoded data removed]",
            "text/plain": [
              "<Figure size 640x480 with 1 Axes>"
            ]
          },
          "metadata": {},
          "output_type": "display_data"
        }
      ],
      "source": [
        "valoresx=np.linspace(-1,5,10)\n",
        "F_x=[]\n",
        "for i in valoresx:\n",
        "  if i<1:\n",
        "    F_x.append(0)\n",
        "  elif i>=3:\n",
        "    F_x.append(1)\n",
        "  else:\n",
        "    x= sympy.symbols('x')\n",
        "    f=((3/26)*(x**2))\n",
        "    F_x.append(sympy.integrate(f,(x,1,i)))\n",
        "F_x=np.array(F_x)\n",
        "\n",
        "plt.plot(valoresx,F_x)\n",
        "plt.xlabel('X')\n",
        "plt.ylabel('F(X)')\n",
        "plt.title('Función de distribución de X')\n",
        "plt.show()"
      ]
    },
    {
      "cell_type": "markdown",
      "metadata": {
        "id": "DNKuIhzLlR_4"
      },
      "source": [
        "### Ejemplo 3"
      ]
    },
    {
      "cell_type": "markdown",
      "metadata": {
        "id": "XFlYacSrm9X0"
      },
      "source": [
        "Sea X una variable aleatoria cuya función de densidad es\n",
        "\\begin{equation}\n",
        "f(x)\\left\\{\n",
        "\t       \\begin{array}{cc}\n",
        "\t\t {1\\over6}x - {1\\over {36}}x^2 \\,\\,\\,\\,\\,\\,\\,\\,\\,\\,\\,\\,\\,\\,\\, 0 \\leq x \\leq 6     \\\\\n",
        "     0 \\,\\,\\,\\,\\,\\,\\,\\,\\,\\,\\,\\,\\,\\,\\, en \\thinspace otro \\thinspace caso     \\\\\n",
        "\t       \\end{array}\n",
        "\t     \\right.\n",
        "\\end{equation}\n",
        "\n",
        "Calcular el valor esperado."
      ]
    },
    {
      "cell_type": "code",
      "execution_count": null,
      "metadata": {
        "colab": {
          "base_uri": "https://localhost:8080/",
          "height": 212
        },
        "collapsed": true,
        "id": "lVXELx8Vzfwv",
        "outputId": "e669aa9f-4182-4e0d-ccdf-b5988f065d51"
      },
      "outputs": [
        {
          "data": {
            "text/latex": [
              "$\\displaystyle E(X)={\\int_{- \\infty}^{+ \\infty} xf(x)dx}=$"
            ],
            "text/plain": [
              "<IPython.core.display.Math object>"
            ]
          },
          "metadata": {},
          "output_type": "display_data"
        },
        {
          "name": "stdout",
          "output_type": "stream",
          "text": [
            "\n"
          ]
        },
        {
          "data": {
            "text/latex": [
              "$\\displaystyle ={\\int_0^6 xf(x)dx}={\\int_0^6 x*({1\\over6}x-{1\\over {36}}x^2) dx}={\\int_0^6 {1\\over6}x^2dx-\\int_0^6{1\\over36}x^3 dx}=$"
            ],
            "text/plain": [
              "<IPython.core.display.Math object>"
            ]
          },
          "metadata": {},
          "output_type": "display_data"
        },
        {
          "name": "stdout",
          "output_type": "stream",
          "text": [
            "\n"
          ]
        },
        {
          "data": {
            "text/latex": [
              "$\\displaystyle {1\\over6}* {x^3 \\over 3}|_0^6-{1\\over36}* {x^4 \\over 4}|_0^6={1\\over6}*[{6^3 \\over 3}-{0^3 \\over 3}]-{1\\over36}*[{6^4 \\over 4}-{0^4 \\over 4}]=$"
            ],
            "text/plain": [
              "<IPython.core.display.Math object>"
            ]
          },
          "metadata": {},
          "output_type": "display_data"
        },
        {
          "name": "stdout",
          "output_type": "stream",
          "text": [
            "\n"
          ]
        },
        {
          "data": {
            "text/latex": [
              "$\\displaystyle E(X)=3.00000000000000$"
            ],
            "text/plain": [
              "<IPython.core.display.Math object>"
            ]
          },
          "metadata": {},
          "output_type": "display_data"
        }
      ],
      "source": [
        "display(Math(r'E(X)={\\int_{- \\infty}^{+ \\infty} xf(x)dx}='))\n",
        "print('')\n",
        "display(Math(r'={\\int_0^6 xf(x)dx}={\\int_0^6 x*({1\\over6}x-{1\\over {36}}x^2) dx}={\\int_0^6 {1\\over6}x^2dx-\\int_0^6{1\\over36}x^3 dx}='))\n",
        "print('')\n",
        "display(Math(r'{1\\over6}* {x^3 \\over 3}|_0^6-{1\\over36}* {x^4 \\over 4}|_0^6={1\\over6}*[{6^3 \\over 3}-{0^3 \\over 3}]-{1\\over36}*[{6^4 \\over 4}-{0^4 \\over 4}]='))\n",
        "x= sympy.symbols('x')\n",
        "f=(1/6)*x**2\n",
        "f_1=(1/36)*x**3\n",
        "print('')\n",
        "display(Math(r'E(X)='+str(round(sympy.integrate(f,(x,0,6)),4)-(round(sympy.integrate(f_1,(x,0,6)),4)))))"
      ]
    },
    {
      "cell_type": "markdown",
      "metadata": {
        "id": "pB421Hdolj2W"
      },
      "source": [
        "### Ejemplo 4"
      ]
    },
    {
      "cell_type": "markdown",
      "metadata": {
        "id": "Ge4e4YOpHejX"
      },
      "source": [
        "Para el ejemplo 3 calcular la varianza y el desvío."
      ]
    },
    {
      "cell_type": "code",
      "execution_count": null,
      "metadata": {
        "colab": {
          "base_uri": "https://localhost:8080/",
          "height": 307
        },
        "collapsed": true,
        "id": "lVC04n8sKFhv",
        "outputId": "79a75c40-dc48-4bbb-b368-fa36fd7d90d8"
      },
      "outputs": [
        {
          "data": {
            "text/latex": [
              "$\\displaystyle V(X)=E(X^2) - [E(X)]^2= {\\int_{- \\infty}^{+ \\infty} xf(x)dx}=$"
            ],
            "text/plain": [
              "<IPython.core.display.Math object>"
            ]
          },
          "metadata": {},
          "output_type": "display_data"
        },
        {
          "name": "stdout",
          "output_type": "stream",
          "text": [
            "\n",
            "\n"
          ]
        },
        {
          "data": {
            "text/latex": [
              "$\\displaystyle E(X^2)={\\int_0^6 x^2f(x)dx}={\\int_0^6 x^2*({1\\over6}x-{1\\over {36}}x^2) dx}={\\int_0^6 {1\\over6}x^3dx-\\int_0^6{1\\over36}x^4 dx}=$"
            ],
            "text/plain": [
              "<IPython.core.display.Math object>"
            ]
          },
          "metadata": {},
          "output_type": "display_data"
        },
        {
          "name": "stdout",
          "output_type": "stream",
          "text": [
            "\n"
          ]
        },
        {
          "data": {
            "text/latex": [
              "$\\displaystyle {1\\over6}* {x^4 \\over 4}|_0^6-{1\\over36}* {x^5 \\over 5}|_0^6={1\\over6}*[{6^4 \\over 4}-{0^4 \\over 4}]-{1\\over36}*[{6^5 \\over 5}-{0^5 \\over 5}]=$"
            ],
            "text/plain": [
              "<IPython.core.display.Math object>"
            ]
          },
          "metadata": {},
          "output_type": "display_data"
        },
        {
          "name": "stdout",
          "output_type": "stream",
          "text": [
            "\n"
          ]
        },
        {
          "data": {
            "text/latex": [
              "$\\displaystyle E(X^2)=10.8000030517578$"
            ],
            "text/plain": [
              "<IPython.core.display.Math object>"
            ]
          },
          "metadata": {},
          "output_type": "display_data"
        },
        {
          "name": "stdout",
          "output_type": "stream",
          "text": [
            "\n"
          ]
        },
        {
          "data": {
            "text/latex": [
              "$\\displaystyle V(X)=1.8000$"
            ],
            "text/plain": [
              "<IPython.core.display.Math object>"
            ]
          },
          "metadata": {},
          "output_type": "display_data"
        },
        {
          "name": "stdout",
          "output_type": "stream",
          "text": [
            "\n"
          ]
        },
        {
          "data": {
            "text/latex": [
              "$\\displaystyle D(X)=1.3416$"
            ],
            "text/plain": [
              "<IPython.core.display.Math object>"
            ]
          },
          "metadata": {},
          "output_type": "display_data"
        }
      ],
      "source": [
        "display(Math(r'V(X)=E(X^2) - [E(X)]^2= {\\int_{- \\infty}^{+ \\infty} xf(x)dx}='))\n",
        "print('')\n",
        "x= sympy.symbols('x')\n",
        "f=(1/6)*x**2\n",
        "f_1=(1/36)*x**3\n",
        "valor_esperado=sympy.integrate(f,(x,0,6))-sympy.integrate(f_1,(x,0,6))\n",
        "print('')\n",
        "display(Math(r'E(X^2)={\\int_0^6 x^2f(x)dx}={\\int_0^6 x^2*({1\\over6}x-{1\\over {36}}x^2) dx}={\\int_0^6 {1\\over6}x^3dx-\\int_0^6{1\\over36}x^4 dx}='))\n",
        "print('')\n",
        "display(Math(r'{1\\over6}* {x^4 \\over 4}|_0^6-{1\\over36}* {x^5 \\over 5}|_0^6={1\\over6}*[{6^4 \\over 4}-{0^4 \\over 4}]-{1\\over36}*[{6^5 \\over 5}-{0^5 \\over 5}]='))\n",
        "x= sympy.symbols('x')\n",
        "f_2=(1/6)*x**3\n",
        "f_3=(1/36)*x**4\n",
        "print('')\n",
        "display(Math(r'E(X^2)='+str(round(sympy.integrate(f_2,(x,0,6)),4)-(round(sympy.integrate(f_3,(x,0,6)),4)))))\n",
        "valor_esperado2= sympy.integrate(f_2,(x,0,6))-sympy.integrate(f_3,(x,0,6))\n",
        "print('')\n",
        "display(Math(r'V(X)='+str(round(valor_esperado2-valor_esperado**2,4))))\n",
        "print('')\n",
        "display(Math(r'D(X)='+str(round((valor_esperado2-valor_esperado**2)**0.5,4))))"
      ]
    },
    {
      "cell_type": "code",
      "execution_count": null,
      "metadata": {
        "colab": {
          "base_uri": "https://localhost:8080/",
          "height": 37
        },
        "id": "hnFx0u9IMA2f",
        "outputId": "46b729e5-5c46-46f8-fbc1-b15fb89cab67"
      },
      "outputs": [
        {
          "data": {
            "text/latex": [
              "$\\displaystyle 10.8$"
            ],
            "text/plain": [
              "10.8000000000000"
            ]
          },
          "execution_count": 31,
          "metadata": {},
          "output_type": "execute_result"
        }
      ],
      "source": [
        "valor_esperado2"
      ]
    },
    {
      "cell_type": "code",
      "execution_count": null,
      "metadata": {
        "colab": {
          "base_uri": "https://localhost:8080/",
          "height": 146
        },
        "collapsed": true,
        "id": "LCGhY9gzmvT3",
        "outputId": "a7a146e1-bcfb-4276-d904-aa6f3217ca60"
      },
      "outputs": [
        {
          "data": {
            "text/latex": [
              "$\\displaystyle {X \\sim U(-1;1)}$"
            ],
            "text/plain": [
              "<IPython.core.display.Math object>"
            ]
          },
          "metadata": {},
          "output_type": "display_data"
        },
        {
          "name": "stdout",
          "output_type": "stream",
          "text": [
            "\n"
          ]
        },
        {
          "data": {
            "text/latex": [
              "$\\displaystyle c) \\thinspace E(X) = {{a+b} \\over 2}={{1+(-1)} \\over 2}=0.0$"
            ],
            "text/plain": [
              "<IPython.core.display.Math object>"
            ]
          },
          "metadata": {},
          "output_type": "display_data"
        },
        {
          "name": "stdout",
          "output_type": "stream",
          "text": [
            "\n"
          ]
        },
        {
          "data": {
            "text/latex": [
              "$\\displaystyle c) \\thinspace V(X) = {{(b-a)^2} \\over {12}}={{(1-(-1))^2} \\over {12}}=0.3333333333333333$"
            ],
            "text/plain": [
              "<IPython.core.display.Math object>"
            ]
          },
          "metadata": {},
          "output_type": "display_data"
        }
      ],
      "source": [
        "display(Math(r'c) \\thinspace E(X) = {{a+b} \\over 2}={{1+(-1)} \\over 2}='+str( (1-1) / 2)))\n",
        "print('')\n",
        "display(Math(r'c) \\thinspace V(X) = {{(b-a)^2} \\over {12}}={{(1-(-1))^2} \\over {12}}='+str( (1+1)**2 / 12)))"
      ]
    },
    {
      "cell_type": "markdown",
      "metadata": {
        "id": "Pmj3J6K4l2ta"
      },
      "source": [
        "### Ejemplo 5"
      ]
    },
    {
      "cell_type": "markdown",
      "metadata": {
        "id": "uFhoekKDHuBX"
      },
      "source": [
        "Sea $X \\sim U[3;5]$, cuya función de densidad de probabilidad es\n",
        "\n",
        "\\begin{equation}\n",
        " f(x)\\left\\{\n",
        "\t       \\begin{array}{cc}\n",
        "\t\t {1 \\over 2} \\,\\,\\,\\,\\,\\,\\,\\,\\,\\,\\,\\,\\,\\,\\,\\,\\,\\,\\, 3 \\leq x \\leq 5     \\\\\n",
        "\t\t 0 \\,\\,\\,\\,\\,\\,\\,\\,\\,\\,\\,\\, en \\thinspace otro \\thinspace caso     \\\\\n",
        "\t       \\end{array}\n",
        "\t     \\right.\n",
        "\\end{equation}\n",
        "\n",
        "1)Calcular F(X).\n",
        "\n",
        "2) Calcular $P(x \\leq 4)$\n",
        "\n",
        "3) Calcular E(X), V(X) y D(X)"
      ]
    },
    {
      "cell_type": "code",
      "execution_count": null,
      "metadata": {
        "colab": {
          "base_uri": "https://localhost:8080/",
          "height": 109
        },
        "collapsed": true,
        "id": "5dvliHMITXJe",
        "outputId": "86c80ccd-01c8-4227-8a22-c2cc03a0f25d"
      },
      "outputs": [
        {
          "name": "stdout",
          "output_type": "stream",
          "text": [
            "\n"
          ]
        },
        {
          "data": {
            "text/latex": [
              "$\\displaystyle {X \\sim U(3;5)}$"
            ],
            "text/plain": [
              "<IPython.core.display.Math object>"
            ]
          },
          "metadata": {},
          "output_type": "display_data"
        },
        {
          "name": "stdout",
          "output_type": "stream",
          "text": [
            "\n"
          ]
        },
        {
          "data": {
            "text/latex": [
              "$\\displaystyle 1) \\thinspace F(X) = {x-3\\over {5-3}}={x-3\\over {2}}$"
            ],
            "text/plain": [
              "<IPython.core.display.Math object>"
            ]
          },
          "metadata": {},
          "output_type": "display_data"
        }
      ],
      "source": [
        "print('')\n",
        "display(Math(r'{X \\sim U(3;5)}'))\n",
        "print('')\n",
        "display(Math(r'1) \\thinspace F(X) = {x-3\\over {5-3}}={x-3\\over {2}}'))\n"
      ]
    },
    {
      "cell_type": "code",
      "execution_count": null,
      "metadata": {
        "colab": {
          "base_uri": "https://localhost:8080/",
          "height": 107
        },
        "collapsed": true,
        "id": "DDPcO9c-jbFX",
        "outputId": "440ad039-d5ba-48b1-fa92-4824f208507a"
      },
      "outputs": [
        {
          "name": "stdout",
          "output_type": "stream",
          "text": [
            "con Python\n"
          ]
        },
        {
          "data": {
            "text/latex": [
              "$\\displaystyle 2) \\thinspace {P(X \\leq 4)} = F(4)={4-3\\over {2}}={1 \\over 2}$"
            ],
            "text/plain": [
              "<IPython.core.display.Math object>"
            ]
          },
          "metadata": {},
          "output_type": "display_data"
        },
        {
          "name": "stdout",
          "output_type": "stream",
          "text": [
            "con Python\n"
          ]
        },
        {
          "data": {
            "text/latex": [
              "$\\displaystyle 2) \\thinspace {P(X \\leq 4)} =0.5$"
            ],
            "text/plain": [
              "<IPython.core.display.Math object>"
            ]
          },
          "metadata": {},
          "output_type": "display_data"
        }
      ],
      "source": [
        "print('con Python')\n",
        "display(Math(r'2) \\thinspace {P(X \\leq 4)} = F(4)={4-3\\over {2}}={1 \\over 2}'))\n",
        "print('con Python')\n",
        "display(Math(r'2) \\thinspace {P(X \\leq 4)} ='+str(round(uniform.cdf(4,loc=3, scale=5-3),8))))"
      ]
    },
    {
      "cell_type": "code",
      "execution_count": null,
      "metadata": {
        "colab": {
          "base_uri": "https://localhost:8080/",
          "height": 146
        },
        "collapsed": true,
        "id": "Zf8rtcc2BVib",
        "outputId": "3f8e03d3-e64d-4c5f-9def-f6c31c507c04"
      },
      "outputs": [
        {
          "data": {
            "text/latex": [
              "$\\displaystyle 3) \\thinspace E(X) = {{a+b} \\over 2}={{3+5} \\over 2}=4.0$"
            ],
            "text/plain": [
              "<IPython.core.display.Math object>"
            ]
          },
          "metadata": {},
          "output_type": "display_data"
        },
        {
          "name": "stdout",
          "output_type": "stream",
          "text": [
            "\n"
          ]
        },
        {
          "data": {
            "text/latex": [
              "$\\displaystyle 3) \\thinspace V(X) = {{(b-a)^2} \\over {12}}={{(5-3)^2} \\over {12}}=0.3333333333333333$"
            ],
            "text/plain": [
              "<IPython.core.display.Math object>"
            ]
          },
          "metadata": {},
          "output_type": "display_data"
        },
        {
          "name": "stdout",
          "output_type": "stream",
          "text": [
            "\n"
          ]
        },
        {
          "data": {
            "text/latex": [
              "$\\displaystyle 3) \\thinspace D(X) = \\sqrt {V(X)}=0.5773502691896257$"
            ],
            "text/plain": [
              "<IPython.core.display.Math object>"
            ]
          },
          "metadata": {},
          "output_type": "display_data"
        }
      ],
      "source": [
        "display(Math(r'3) \\thinspace E(X) = {{a+b} \\over 2}={{3+5} \\over 2}='+str( (3+5) / 2)))\n",
        "print('')\n",
        "display(Math(r'3) \\thinspace V(X) = {{(b-a)^2} \\over {12}}={{(5-3)^2} \\over {12}}='+str( (5-3)**2 / 12)))\n",
        "print('')\n",
        "display(Math(r'3) \\thinspace D(X) = \\sqrt {V(X)}='+str(((5-3)**2 / 12)**0.5)))"
      ]
    },
    {
      "cell_type": "markdown",
      "metadata": {
        "id": "Vtr-Iq_bmnv2"
      },
      "source": [
        "### Ejemplo 6"
      ]
    },
    {
      "cell_type": "markdown",
      "metadata": {
        "id": "RFxs4Th5pDYZ"
      },
      "source": [
        "Sea con $ X \\sim N(1.48 ,2)$ Calcular:\n",
        "\n",
        "$ a) 𝑝(𝑋 < 5)$\n",
        "\n",
        "$ b) 𝑝(𝑋 < A)=0.8$"
      ]
    },
    {
      "cell_type": "code",
      "execution_count": null,
      "metadata": {
        "colab": {
          "base_uri": "https://localhost:8080/",
          "height": 194
        },
        "collapsed": true,
        "id": "XfNxLKdZpDYq",
        "outputId": "512068ae-1833-41e1-dc7b-ee8f39e527f3"
      },
      "outputs": [
        {
          "data": {
            "text/latex": [
              "$\\displaystyle a) \\thinspace {P(X \\leq 5)} = {P(Z \\leq {5-1.48 \\over 2})}= F(1.76)=0.9608$"
            ],
            "text/plain": [
              "<IPython.core.display.Math object>"
            ]
          },
          "metadata": {},
          "output_type": "display_data"
        },
        {
          "name": "stdout",
          "output_type": "stream",
          "text": [
            "\n"
          ]
        },
        {
          "data": {
            "text/latex": [
              "$\\displaystyle b) \\thinspace {P(X \\leq A)} = 0.8 =>{P(Z \\leq {A-1.48 \\over 2})}= 0.8 => busco \\thinspace el \\thinspace valor \\thinspace de \\thinspace Z \\thinspace para \\thinspace probabilidad \\thinspace de \\thinspace 0.8 =>$"
            ],
            "text/plain": [
              "<IPython.core.display.Math object>"
            ]
          },
          "metadata": {},
          "output_type": "display_data"
        },
        {
          "name": "stdout",
          "output_type": "stream",
          "text": [
            "\n"
          ]
        },
        {
          "data": {
            "text/latex": [
              "$\\displaystyle Z=0.8416$"
            ],
            "text/plain": [
              "<IPython.core.display.Math object>"
            ]
          },
          "metadata": {},
          "output_type": "display_data"
        },
        {
          "name": "stdout",
          "output_type": "stream",
          "text": [
            "\n"
          ]
        },
        {
          "data": {
            "text/latex": [
              "$\\displaystyle {A-1.48 \\over 2}=0.8416=> A=0.8416*2 + 1.48=3.1632$"
            ],
            "text/plain": [
              "<IPython.core.display.Math object>"
            ]
          },
          "metadata": {},
          "output_type": "display_data"
        }
      ],
      "source": [
        "display(Math(r'a) \\thinspace {P(X \\leq 5)} = {P(Z \\leq {5-1.48 \\over 2})}= F(1.76)='+str(round(norm.cdf(1.76,0,1),4))))\n",
        "print('')\n",
        "display(Math(r'b) \\thinspace {P(X \\leq A)} = 0.8 =>{P(Z \\leq {A-1.48 \\over 2})}= 0.8 => busco \\thinspace el \\thinspace valor \\thinspace de \\thinspace Z \\thinspace para \\thinspace probabilidad \\thinspace de \\thinspace 0.8 =>'))\n",
        "print('')\n",
        "display(Math(r'Z='+str(round(norm.ppf(0.8,0,1),4))))\n",
        "print('')\n",
        "display(Math(r'{A-1.48 \\over 2}='+str(round(norm.ppf(0.8,0,1),4))+'=> A='+str(round(norm.ppf(0.8,0,1),4))+'*2 + 1.48='+str(round(norm.ppf(0.8,0,1),4)*2+1.48)))"
      ]
    },
    {
      "cell_type": "markdown",
      "metadata": {
        "id": "VavAiwKKnSzh"
      },
      "source": [
        "### Ejemplo 7"
      ]
    },
    {
      "cell_type": "markdown",
      "metadata": {
        "id": "Fka-jQfEnFrA"
      },
      "source": [
        "Se ha comprobado que la distribución del índice de colesterol para un gran número\n",
        "de personas es aproximadamente normal con media 163 centigramos. Si el 15.87%\n",
        "de las personas tiene un índice comprendido entre 161 y 165 centigramos, calcular el\n",
        "desvío estándar del índice de colesterol."
      ]
    },
    {
      "cell_type": "code",
      "execution_count": null,
      "metadata": {
        "colab": {
          "base_uri": "https://localhost:8080/",
          "height": 245
        },
        "collapsed": true,
        "id": "PppFakYpWoRY",
        "outputId": "77f56122-ed23-4182-8088-8043512fe4dc"
      },
      "outputs": [
        {
          "name": "stdout",
          "output_type": "stream",
          "text": [
            "X= índice de colesterol\n",
            "\n"
          ]
        },
        {
          "data": {
            "text/latex": [
              "$\\displaystyle {X \\sim N(163; \\sigma)}$"
            ],
            "text/plain": [
              "<IPython.core.display.Math object>"
            ]
          },
          "metadata": {},
          "output_type": "display_data"
        },
        {
          "name": "stdout",
          "output_type": "stream",
          "text": [
            "\n"
          ]
        },
        {
          "data": {
            "text/latex": [
              "$\\displaystyle P(161 < X < 165)= 0.1587 => P({161 - 163 \\over {\\sigma}} < Z < {161 - 165 \\over {\\sigma}})=0.1587 =>$"
            ],
            "text/plain": [
              "<IPython.core.display.Math object>"
            ]
          },
          "metadata": {},
          "output_type": "display_data"
        },
        {
          "name": "stdout",
          "output_type": "stream",
          "text": [
            "\n"
          ]
        },
        {
          "data": {
            "text/latex": [
              "$\\displaystyle P({-2 \\over {\\sigma}} < Z < {2 \\over {\\sigma}})=0.1587 => 1-2P(Z>|{2 \\over {\\sigma}}|)=1-0.1587=0.8413 =>Z=1.0$"
            ],
            "text/plain": [
              "<IPython.core.display.Math object>"
            ]
          },
          "metadata": {},
          "output_type": "display_data"
        },
        {
          "name": "stdout",
          "output_type": "stream",
          "text": [
            "\n",
            "\n"
          ]
        },
        {
          "data": {
            "text/latex": [
              "$\\displaystyle =>{2 \\over {\\sigma}}|)= 1 => \\sigma = 2$"
            ],
            "text/plain": [
              "<IPython.core.display.Math object>"
            ]
          },
          "metadata": {},
          "output_type": "display_data"
        }
      ],
      "source": [
        "print('X= índice de colesterol')\n",
        "print('')\n",
        "display(Math(r'{X \\sim N(163; \\sigma)}'))\n",
        "print('')\n",
        "display(Math(r'P(161 < X < 165)= 0.1587 => P({161 - 163 \\over {\\sigma}} < Z < {161 - 165 \\over {\\sigma}})=0.1587 =>'))\n",
        "print('')\n",
        "display(Math(r'P({-2 \\over {\\sigma}} < Z < {2 \\over {\\sigma}})=0.1587 => 1-2P(Z>|{2 \\over {\\sigma}}|)=1-0.1587=0.8413 =>Z='+str(round(norm.ppf(0.8413,0,1),1))))\n",
        "print('')\n",
        "print('')\n",
        "display(Math(r'=>{2 \\over {\\sigma}}|)= 1 => \\sigma = 2'))"
      ]
    },
    {
      "cell_type": "markdown",
      "metadata": {
        "id": "RuDyaGy5ntFr"
      },
      "source": [
        "### Ejemplo 8"
      ]
    },
    {
      "cell_type": "markdown",
      "metadata": {
        "id": "KigHQS_BnOCq"
      },
      "source": [
        "El tiempo de respuesta de un servidor es una variable aleatoria X con distribución\n",
        "exponencial con valor esperado igual a 5 segundos.\n",
        "\n",
        "1) ¿Cuál es la probabilidad de que el tiempo de respuesta sea mayor a 10 segundos?\n",
        "\n",
        "2) ¿Cuál es la probabilidad de que el tiempo de respuesta esté entre 5 y 10\n",
        "segundos?\n",
        "\n",
        "3) Sabiendo que ya se esperaron 3 segundos, ¿cuál es la probabilidad de que haya\n",
        "que esperar más de 13 segundos? (es decir que haya que esperar más de 10\n",
        "segundos a partir de los 3 segundos ya transcurridos)"
      ]
    },
    {
      "cell_type": "code",
      "execution_count": null,
      "metadata": {
        "colab": {
          "base_uri": "https://localhost:8080/",
          "height": 112
        },
        "collapsed": true,
        "id": "HJCn9AParV4a",
        "outputId": "22483f75-52a3-4809-9d88-fb8e33cfa618"
      },
      "outputs": [
        {
          "name": "stdout",
          "output_type": "stream",
          "text": [
            "X= tiempo\n",
            "\n"
          ]
        },
        {
          "data": {
            "text/latex": [
              "$\\displaystyle {X \\sim Exp(1/5)}$"
            ],
            "text/plain": [
              "<IPython.core.display.Math object>"
            ]
          },
          "metadata": {},
          "output_type": "display_data"
        },
        {
          "name": "stdout",
          "output_type": "stream",
          "text": [
            "\n"
          ]
        },
        {
          "data": {
            "text/latex": [
              "$\\displaystyle 1) \\thinspace P( X > 10)=1-F(10)=0.1353$"
            ],
            "text/plain": [
              "<IPython.core.display.Math object>"
            ]
          },
          "metadata": {},
          "output_type": "display_data"
        }
      ],
      "source": [
        "print('X= tiempo')\n",
        "print('')\n",
        "display(Math(r'{X \\sim Exp(1/5)}'))\n",
        "print('')\n",
        "display(Math(r'1) \\thinspace P( X > 10)=1-F(10)='+str(round(1-expon.cdf(10,0,5),4))))"
      ]
    },
    {
      "cell_type": "code",
      "execution_count": null,
      "metadata": {
        "colab": {
          "base_uri": "https://localhost:8080/",
          "height": 112
        },
        "collapsed": true,
        "id": "152j0Nkg1gzT",
        "outputId": "85b4ce0b-7c88-40cf-d7e4-121935cdb69a"
      },
      "outputs": [
        {
          "name": "stdout",
          "output_type": "stream",
          "text": [
            "X= tiempo\n",
            "\n"
          ]
        },
        {
          "data": {
            "text/latex": [
              "$\\displaystyle {X \\sim Exp(1/5)}$"
            ],
            "text/plain": [
              "<IPython.core.display.Math object>"
            ]
          },
          "metadata": {},
          "output_type": "display_data"
        },
        {
          "name": "stdout",
          "output_type": "stream",
          "text": [
            "\n"
          ]
        },
        {
          "data": {
            "text/latex": [
              "$\\displaystyle 2) \\thinspace P(5 < X < 10)=F(10)-F(5)=0.2325$"
            ],
            "text/plain": [
              "<IPython.core.display.Math object>"
            ]
          },
          "metadata": {},
          "output_type": "display_data"
        }
      ],
      "source": [
        "print('X= tiempo')\n",
        "print('')\n",
        "display(Math(r'{X \\sim Exp(1/5)}'))\n",
        "print('')\n",
        "display(Math(r'2) \\thinspace P(5 < X < 10)=F(10)-F(5)='+str(round(expon.cdf(10,0,5)-expon.cdf(5,0,5),4))))"
      ]
    },
    {
      "cell_type": "code",
      "execution_count": null,
      "metadata": {
        "colab": {
          "base_uri": "https://localhost:8080/",
          "height": 112
        },
        "collapsed": true,
        "id": "JJK83yjKXZa1",
        "outputId": "6772eae3-5b95-4de2-86cf-96fe09e11f6a"
      },
      "outputs": [
        {
          "name": "stdout",
          "output_type": "stream",
          "text": [
            "X= tiempo\n",
            "\n"
          ]
        },
        {
          "data": {
            "text/latex": [
              "$\\displaystyle {X \\sim Exp(1/5)}$"
            ],
            "text/plain": [
              "<IPython.core.display.Math object>"
            ]
          },
          "metadata": {},
          "output_type": "display_data"
        },
        {
          "name": "stdout",
          "output_type": "stream",
          "text": [
            "\n"
          ]
        },
        {
          "data": {
            "text/latex": [
              "$\\displaystyle 3) \\thinspace P(X>13 / X>3)=> aplicando \\thinspace la \\thinspace propiedad \\thinspace de \\thinspace falta \\thinspace de \\thinspace memoria = P(X>10)=1-F(10)=0.1353$"
            ],
            "text/plain": [
              "<IPython.core.display.Math object>"
            ]
          },
          "metadata": {},
          "output_type": "display_data"
        }
      ],
      "source": [
        "print('X= tiempo')\n",
        "print('')\n",
        "display(Math(r'{X \\sim Exp(1/5)}'))\n",
        "print('')\n",
        "display(Math(r'3) \\thinspace P(X>13 / X>3)=> aplicando \\thinspace la \\thinspace propiedad \\thinspace de \\thinspace falta \\thinspace de \\thinspace memoria = P(X>10)=1-F(10)='+str(round(1-expon.cdf(10,0,5),4))))"
      ]
    }
  ],
  "metadata": {
    "colab": {
      "collapsed_sections": [
        "x1VhSHZj2Nsn",
        "xuzGIEa_lH4Z",
        "CBzgrSv8x1g9",
        "DNKuIhzLlR_4",
        "pB421Hdolj2W",
        "Pmj3J6K4l2ta",
        "Vtr-Iq_bmnv2",
        "VavAiwKKnSzh",
        "RuDyaGy5ntFr"
      ],
      "include_colab_link": true,
      "provenance": []
    },
    "kernelspec": {
      "display_name": ".venv",
      "language": "python",
      "name": "python3"
    },
    "language_info": {
      "codemirror_mode": {
        "name": "ipython",
        "version": 3
      },
      "file_extension": ".py",
      "mimetype": "text/x-python",
      "name": "python",
      "nbconvert_exporter": "python",
      "pygments_lexer": "ipython3",
      "version": "3.12.3"
    }
  },
  "nbformat": 4,
  "nbformat_minor": 0
}
