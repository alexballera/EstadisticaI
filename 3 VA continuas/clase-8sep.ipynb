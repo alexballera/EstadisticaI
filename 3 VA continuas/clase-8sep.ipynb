{
 "cells": [
  {
   "cell_type": "markdown",
   "id": "83d9df67",
   "metadata": {},
   "source": [
    "# Variables Aleatorias Continuas - Clase 8 de Septiembre\n",
    "\n",
    "## Ejercicio 2: Función de Distribución Acumulada\n",
    "\n",
    "Basado en el material de la Unidad 3 - Variables Aleatorias Continuas"
   ]
  },
  {
   "cell_type": "code",
   "execution_count": 1,
   "id": "c8e29d08",
   "metadata": {},
   "outputs": [],
   "source": [
    "# Librerías necesarias\n",
    "import pandas as pd\n",
    "import numpy as np\n",
    "import sympy\n",
    "from fractions import Fraction\n",
    "from IPython.display import display, Math\n",
    "import matplotlib.pyplot as plt\n",
    "from scipy.stats import uniform, expon, norm"
   ]
  },
  {
   "cell_type": "markdown",
   "id": "8670716a",
   "metadata": {},
   "source": [
    "## Ejemplo 2: Función de Distribución Acumulada\n",
    "\n",
    "Sea una variable aleatoria X con función de densidad:\n",
    "\n",
    "$$f(x) = \\begin{cases}\n",
    "\\frac{3}{26}x^2 & \\text{si } 1 \\leq x \\leq 3 \\\\\n",
    "0 & \\text{en otro caso}\n",
    "\\end{cases}$$\n",
    "\n",
    "**Objetivo:** Calcular la función de distribución acumulada F(X) y graficarla.\n",
    "\n",
    "**Recordatorio:** La función de distribución acumulada se define como:\n",
    "$$F(x) = P(X \\leq x) = \\int_{-\\infty}^{x} f(t) dt$$"
   ]
  },
  {
   "cell_type": "code",
   "execution_count": 2,
   "id": "d36ae19f",
   "metadata": {},
   "outputs": [
    {
     "name": "stdout",
     "output_type": "stream",
     "text": [
      "Análisis por casos para la función de distribución acumulada F(X):\n",
      "\n",
      "Caso 1: x < 1\n"
     ]
    },
    {
     "data": {
      "text/latex": [
       "$\\displaystyle F(x) = P(X \\leq x) = \\int_{-\\infty}^{x} f(t) dt = \\int_{-\\infty}^{x} 0 \\, dt = 0$"
      ],
      "text/plain": [
       "<IPython.core.display.Math object>"
      ]
     },
     "metadata": {},
     "output_type": "display_data"
    },
    {
     "name": "stdout",
     "output_type": "stream",
     "text": [
      "\n",
      "Caso 2: 1 ≤ x < 3\n"
     ]
    },
    {
     "data": {
      "text/latex": [
       "$\\displaystyle F(x) = P(X \\leq x) = \\int_{-\\infty}^{x} f(t) dt = \\int_{1}^{x} \\frac{3}{26}t^2 dt$"
      ],
      "text/plain": [
       "<IPython.core.display.Math object>"
      ]
     },
     "metadata": {},
     "output_type": "display_data"
    },
    {
     "name": "stdout",
     "output_type": "stream",
     "text": [
      "\n"
     ]
    },
    {
     "data": {
      "text/latex": [
       "$\\displaystyle F(x) = \\frac{3}{26} \\int_{1}^{x} t^2 dt = \\frac{3}{26} \\left[ \\frac{t^3}{3} \\right]_{1}^{x}$"
      ],
      "text/plain": [
       "<IPython.core.display.Math object>"
      ]
     },
     "metadata": {},
     "output_type": "display_data"
    },
    {
     "name": "stdout",
     "output_type": "stream",
     "text": [
      "\n"
     ]
    },
    {
     "data": {
      "text/latex": [
       "$\\displaystyle F(x) = \\frac{3}{26} \\left[ \\frac{x^3}{3} - \\frac{1^3}{3} \\right] = \\frac{3}{26} \\cdot \\frac{x^3 - 1}{3} = \\frac{x^3 - 1}{26}$"
      ],
      "text/plain": [
       "<IPython.core.display.Math object>"
      ]
     },
     "metadata": {},
     "output_type": "display_data"
    },
    {
     "name": "stdout",
     "output_type": "stream",
     "text": [
      "\n",
      "Caso 3: x ≥ 3\n"
     ]
    },
    {
     "data": {
      "text/latex": [
       "$\\displaystyle F(x) = P(X \\leq x) = \\int_{-\\infty}^{x} f(t) dt = \\int_{1}^{3} \\frac{3}{26}t^2 dt = 1$"
      ],
      "text/plain": [
       "<IPython.core.display.Math object>"
      ]
     },
     "metadata": {},
     "output_type": "display_data"
    },
    {
     "name": "stdout",
     "output_type": "stream",
     "text": [
      "\n",
      "Verificación para x = 3: F(3) = 1.00000000000000 = 1\n"
     ]
    }
   ],
   "source": [
    "# Definimos la variable simbólica\n",
    "x = sympy.symbols('x')\n",
    "f = (3/26) * x**2\n",
    "\n",
    "print('Análisis por casos para la función de distribución acumulada F(X):')\n",
    "print('')\n",
    "print('Caso 1: x < 1')\n",
    "display(Math(r'F(x) = P(X \\leq x) = \\int_{-\\infty}^{x} f(t) dt = \\int_{-\\infty}^{x} 0 \\, dt = 0'))\n",
    "print('')\n",
    "\n",
    "print('Caso 2: 1 ≤ x < 3')\n",
    "display(Math(r'F(x) = P(X \\leq x) = \\int_{-\\infty}^{x} f(t) dt = \\int_{1}^{x} \\frac{3}{26}t^2 dt'))\n",
    "print('')\n",
    "display(Math(r'F(x) = \\frac{3}{26} \\int_{1}^{x} t^2 dt = \\frac{3}{26} \\left[ \\frac{t^3}{3} \\right]_{1}^{x}'))\n",
    "print('')\n",
    "display(Math(r'F(x) = \\frac{3}{26} \\left[ \\frac{x^3}{3} - \\frac{1^3}{3} \\right] = \\frac{3}{26} \\cdot \\frac{x^3 - 1}{3} = \\frac{x^3 - 1}{26}'))\n",
    "print('')\n",
    "\n",
    "print('Caso 3: x ≥ 3')\n",
    "display(Math(r'F(x) = P(X \\leq x) = \\int_{-\\infty}^{x} f(t) dt = \\int_{1}^{3} \\frac{3}{26}t^2 dt = 1'))\n",
    "print('')\n",
    "\n",
    "# Verificamos el caso x = 3\n",
    "resultado_x3 = sympy.integrate(f, (x, 1, 3))\n",
    "print(f'Verificación para x = 3: F(3) = {resultado_x3} = 1')"
   ]
  },
  {
   "cell_type": "markdown",
   "id": "190c4680",
   "metadata": {},
   "source": [
    "### Función de Distribución Acumulada Final\n",
    "\n",
    "$$F_X(t) = \\begin{cases}\n",
    "0 & \\text{si } t < 1 \\\\\n",
    "\\frac{t^3 - 1}{26} & \\text{si } 1 \\leq t < 3 \\\\\n",
    "1 & \\text{si } t \\geq 3\n",
    "\\end{cases}$$"
   ]
  },
  {
   "cell_type": "code",
   "execution_count": 3,
   "id": "939e5056",
   "metadata": {},
   "outputs": [
    {
     "data": {
      "image/png": "[encoded data removed]",
      "text/plain": [
       "<Figure size 1000x600 with 1 Axes>"
      ]
     },
     "metadata": {},
     "output_type": "display_data"
    },
    {
     "name": "stdout",
     "output_type": "stream",
     "text": [
      "Valores específicos de F(x):\n",
      "F(0) = 0\n",
      "F(1) = 0.0\n",
      "F(2) = 0.2692\n",
      "F(3) = 1\n",
      "F(4) = 1\n"
     ]
    }
   ],
   "source": [
    "# Graficamos la función de distribución acumulada F(X)\n",
    "def calcular_F_x(valor_x):\n",
    "    \"\"\"Calcula F(x) para un valor dado de x\"\"\"\n",
    "    if valor_x < 1:\n",
    "        return 0\n",
    "    elif valor_x >= 3:\n",
    "        return 1\n",
    "    else:\n",
    "        # Para 1 ≤ x < 3: F(x) = (x³ - 1)/26\n",
    "        return (valor_x**3 - 1) / 26\n",
    "\n",
    "# Creamos valores para el gráfico\n",
    "valores_x = np.linspace(-1, 5, 1000)\n",
    "F_x = [calcular_F_x(xi) for xi in valores_x]\n",
    "\n",
    "# Graficamos\n",
    "plt.figure(figsize=(10, 6))\n",
    "plt.plot(valores_x, F_x, 'b-', linewidth=2, label='F(x)')\n",
    "plt.xlabel('x', fontsize=12)\n",
    "plt.ylabel('F(x)', fontsize=12)\n",
    "plt.title('Función de Distribución Acumulada F(x)', fontsize=14)\n",
    "plt.grid(True, alpha=0.3)\n",
    "plt.axhline(y=0, color='k', linestyle='-', alpha=0.3)\n",
    "plt.axhline(y=1, color='k', linestyle='-', alpha=0.3)\n",
    "plt.axvline(x=1, color='r', linestyle='--', alpha=0.5, label='x = 1')\n",
    "plt.axvline(x=3, color='r', linestyle='--', alpha=0.5, label='x = 3')\n",
    "plt.ylim(-0.1, 1.1)\n",
    "plt.legend()\n",
    "plt.show()\n",
    "\n",
    "# Calculamos algunos valores específicos\n",
    "print('Valores específicos de F(x):')\n",
    "print(f'F(0) = {calcular_F_x(0)}')\n",
    "print(f'F(1) = {calcular_F_x(1)}')\n",
    "print(f'F(2) = {calcular_F_x(2):.4f}')\n",
    "print(f'F(3) = {calcular_F_x(3)}')\n",
    "print(f'F(4) = {calcular_F_x(4)}')"
   ]
  },
  {
   "cell_type": "markdown",
   "id": "1f286024",
   "metadata": {},
   "source": [
    "### Ejercicios de Práctica\n",
    "\n",
    "**1.** Verificar que F(x) es una función de distribución válida:\n",
    "- F(x) es no decreciente ✓\n",
    "- F(-∞) = 0 ✓  \n",
    "- F(+∞) = 1 ✓\n",
    "- F(x) es continua por la derecha ✓\n",
    "\n",
    "**2.** Calcular algunas probabilidades usando F(x):\n",
    "- P(X ≤ 2)\n",
    "- P(1.5 < X ≤ 2.5)\n",
    "- P(X > 2)"
   ]
  },
  {
   "cell_type": "code",
   "execution_count": 4,
   "id": "ecdbaf3a",
   "metadata": {},
   "outputs": [
    {
     "name": "stdout",
     "output_type": "stream",
     "text": [
      "Ejercicio 2: Cálculo de probabilidades usando F(x)\n",
      "==================================================\n"
     ]
    },
    {
     "data": {
      "text/latex": [
       "$\\displaystyle P(X \\leq 2) = F(2) = \\frac{2^3 - 1}{26} = \\frac{8 - 1}{26} = \\frac{7}{26} \\approx 0.2692$"
      ],
      "text/plain": [
       "<IPython.core.display.Math object>"
      ]
     },
     "metadata": {},
     "output_type": "display_data"
    },
    {
     "name": "stdout",
     "output_type": "stream",
     "text": [
      "\n"
     ]
    },
    {
     "data": {
      "text/latex": [
       "$\\displaystyle P(1.5 < X \\leq 2.5) = F(2.5) - F(1.5)$"
      ],
      "text/plain": [
       "<IPython.core.display.Math object>"
      ]
     },
     "metadata": {},
     "output_type": "display_data"
    },
    {
     "data": {
      "text/latex": [
       "$\\displaystyle = \\frac{2.5^3 - 1}{26} - \\frac{1.5^3 - 1}{26}$"
      ],
      "text/plain": [
       "<IPython.core.display.Math object>"
      ]
     },
     "metadata": {},
     "output_type": "display_data"
    },
    {
     "data": {
      "text/latex": [
       "$\\displaystyle = \\frac{15.625 - 1}{26} - \\frac{3.375 - 1}{26}$"
      ],
      "text/plain": [
       "<IPython.core.display.Math object>"
      ]
     },
     "metadata": {},
     "output_type": "display_data"
    },
    {
     "data": {
      "text/latex": [
       "$\\displaystyle = \\frac{14.625}{26} - \\frac{2.375}{26} = \\frac{12.25}{26} \\approx 0.4712$"
      ],
      "text/plain": [
       "<IPython.core.display.Math object>"
      ]
     },
     "metadata": {},
     "output_type": "display_data"
    },
    {
     "name": "stdout",
     "output_type": "stream",
     "text": [
      "\n"
     ]
    },
    {
     "data": {
      "text/latex": [
       "$\\displaystyle P(X > 2) = 1 - F(2) = 1 - \\frac{7}{26} = \\frac{19}{26} \\approx 0.7308$"
      ],
      "text/plain": [
       "<IPython.core.display.Math object>"
      ]
     },
     "metadata": {},
     "output_type": "display_data"
    },
    {
     "name": "stdout",
     "output_type": "stream",
     "text": [
      "\n",
      "Resumen de resultados:\n",
      "P(X ≤ 2) = 0.2692\n",
      "P(1.5 < X ≤ 2.5) = 0.4712\n",
      "P(X > 2) = 0.7308\n"
     ]
    }
   ],
   "source": [
    "# Solución de los ejercicios de práctica\n",
    "print('Ejercicio 2: Cálculo de probabilidades usando F(x)')\n",
    "print('=' * 50)\n",
    "\n",
    "# P(X ≤ 2)\n",
    "prob_x_leq_2 = calcular_F_x(2)\n",
    "display(Math(r'P(X \\leq 2) = F(2) = \\frac{2^3 - 1}{26} = \\frac{8 - 1}{26} = \\frac{7}{26} \\approx ' + f'{prob_x_leq_2:.4f}'))\n",
    "print('')\n",
    "\n",
    "# P(1.5 < X ≤ 2.5) = F(2.5) - F(1.5)\n",
    "f_2_5 = calcular_F_x(2.5)\n",
    "f_1_5 = calcular_F_x(1.5)\n",
    "prob_intervalo = f_2_5 - f_1_5\n",
    "display(Math(r'P(1.5 < X \\leq 2.5) = F(2.5) - F(1.5)'))\n",
    "display(Math(r'= \\frac{2.5^3 - 1}{26} - \\frac{1.5^3 - 1}{26}'))\n",
    "display(Math(r'= \\frac{15.625 - 1}{26} - \\frac{3.375 - 1}{26}'))\n",
    "display(Math(r'= \\frac{14.625}{26} - \\frac{2.375}{26} = \\frac{12.25}{26} \\approx ' + f'{prob_intervalo:.4f}'))\n",
    "print('')\n",
    "\n",
    "# P(X > 2) = 1 - F(2)\n",
    "prob_x_gt_2 = 1 - calcular_F_x(2)\n",
    "display(Math(r'P(X > 2) = 1 - F(2) = 1 - \\frac{7}{26} = \\frac{19}{26} \\approx ' + f'{prob_x_gt_2:.4f}'))\n",
    "\n",
    "print('')\n",
    "print('Resumen de resultados:')\n",
    "print(f'P(X ≤ 2) = {prob_x_leq_2:.4f}')\n",
    "print(f'P(1.5 < X ≤ 2.5) = {prob_intervalo:.4f}')\n",
    "print(f'P(X > 2) = {prob_x_gt_2:.4f}')"
   ]
  },
  {
   "cell_type": "markdown",
   "id": "ec08c5bc",
   "metadata": {},
   "source": [
    "---\n",
    "\n",
    "## 📟 Cálculos con HP Prime\n",
    "\n",
    "### Variables Aleatorias Continuas y Función de Distribución\n",
    "\n",
    "La HP Prime puede ser una herramienta útil para **verificar** nuestros cálculos, especialmente para integrales y operaciones algebraicas. Aunque no tiene funciones específicas para distribuciones continuas personalizadas, podemos usar su capacidad de cálculo simbólico.\n",
    "\n",
    "**💡 Modo recomendado:** Trabajar en vista **CAS** para obtener resultados exactos."
   ]
  },
  {
   "cell_type": "markdown",
   "id": "0898c3cf",
   "metadata": {},
   "source": [
    "### 🔍 Paso 1: Verificar que f(x) es una función de densidad válida\n",
    "\n",
    "**En HP Prime (modo CAS):**\n",
    "\n",
    "```\n",
    "# Definir la función de densidad\n",
    "f(x) := (3/26)*x^2\n",
    "\n",
    "# Verificar que la integral es 1\n",
    "int(f(x), x, 1, 3)\n",
    "```\n",
    "\n",
    "**Resultado esperado:** `1` (confirma que es una función de densidad válida)\n",
    "\n",
    "---"
   ]
  },
  {
   "cell_type": "markdown",
   "id": "298a4add",
   "metadata": {},
   "source": [
    "### 📊 Paso 2: Calcular la Función de Distribución F(x)\n",
    "\n",
    "**En HP Prime (modo CAS):**\n",
    "\n",
    "```\n",
    "# Para 1 ≤ x ≤ 3, calcular F(x) = ∫[1 to x] f(t) dt\n",
    "F(x) := int((3/26)*t^2, t, 1, x)\n",
    "\n",
    "# Simplificar la expresión\n",
    "simplify(F(x))\n",
    "```\n",
    "\n",
    "**Resultado esperado:** `(x³-1)/26`\n",
    "\n",
    "**Para calcular valores específicos:**\n",
    "```\n",
    "# Ejemplos de evaluación\n",
    "F(2)        # Resultado: 7/26 ≈ 0.2692\n",
    "F(2.5)      # Resultado: (2.5³-1)/26 = 14.625/26\n",
    "F(3)        # Resultado: 1\n",
    "```\n",
    "\n",
    "---"
   ]
  },
  {
   "cell_type": "markdown",
   "id": "a1db2259",
   "metadata": {},
   "source": [
    "### 🎯 Paso 3: Calcular Probabilidades\n",
    "\n",
    "**P(X ≤ 2) = F(2):**\n",
    "```\n",
    "F(2)\n",
    "# o directamente:\n",
    "(2^3-1)/26\n",
    "```\n",
    "\n",
    "**P(1.5 < X ≤ 2.5) = F(2.5) - F(1.5):**\n",
    "```\n",
    "F(2.5) - F(1.5)\n",
    "# o paso a paso:\n",
    "((2.5)^3-1)/26 - ((1.5)^3-1)/26\n",
    "```\n",
    "\n",
    "**P(X > 2) = 1 - F(2):**\n",
    "```\n",
    "1 - F(2)\n",
    "# o directamente:\n",
    "1 - (2^3-1)/26\n",
    "```\n",
    "\n",
    "---"
   ]
  },
  {
   "cell_type": "markdown",
   "id": "5f7fdeea",
   "metadata": {},
   "source": [
    "### 💡 Consejos para HP Prime con Variables Continuas\n",
    "\n",
    "**✅ Ventajas de usar HP Prime:**\n",
    "- **Cálculo exacto** de integrales simbólicas\n",
    "- **Verificación rápida** de resultados\n",
    "- **Fracciones exactas** en lugar de decimales aproximados\n",
    "- **Capacidad gráfica** para visualizar funciones\n",
    "\n",
    "**🔧 Comandos útiles adicionales:**\n",
    "```\n",
    "# Convertir a decimal aproximado\n",
    "approx(7/26)\n",
    "\n",
    "# Trabajar con fracciones exactas\n",
    "exact(0.2692)\n",
    "\n",
    "# Resolver ecuaciones (por ejemplo, para encontrar percentiles)\n",
    "solve(F(x) = 0.5, x)    # Para encontrar la mediana\n",
    "```\n",
    "\n",
    "**📚 Documentación adicional:**\n",
    "- Ver `hp-prime/docs/Guia_HP_Prime_Probabilidad.md` en este repositorio\n",
    "- Para más funciones estadísticas: menú `Toolbox → Math → Probability`\n",
    "\n",
    "---\n",
    "\n",
    "**🎓 Resumen:** La HP Prime es excelente para **verificar cálculos** y trabajar con **expresiones simbólicas exactas**, complementando perfectamente el trabajo conceptual y numérico realizado en Python."
   ]
  }
 ],
 "metadata": {
  "kernelspec": {
   "display_name": ".venv",
   "language": "python",
   "name": "python3"
  },
  "language_info": {
   "codemirror_mode": {
    "name": "ipython",
    "version": 3
   },
   "file_extension": ".py",
   "mimetype": "text/x-python",
   "name": "python",
   "nbconvert_exporter": "python",
   "pygments_lexer": "ipython3",
   "version": "3.12.3"
  }
 },
 "nbformat": 4,
 "nbformat_minor": 5
}
