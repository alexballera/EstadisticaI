{
 "cells": [
  {
   "cell_type": "markdown",
   "id": "06b7488d",
   "metadata": {},
   "source": [
    "<figure>\n",
    "<center>\n",
    "<img src='https://www.economicas.uba.ar/wp-content/uploads/2020/08/cropped-logo_FCE.png' />\n",
    "</figure>"
   ]
  },
  {
   "cell_type": "markdown",
   "id": "fbf85973",
   "metadata": {},
   "source": [
    "# **Universidad de Buenos Aires**\n",
    "## **Facultad de Ciencias Económicas**\n",
    "\n",
    "### **Estadística I**\n",
    "\n",
    "### Cátedra: Bianco\n",
    "\n",
    "#### **Guía: Manejo de Conjuntos con Python (sets)**\n",
    "\n",
    "***Material de apoyo para estudiantes***"
   ]
  },
  {
   "cell_type": "markdown",
   "id": "1db4af41",
   "metadata": {},
   "source": [
    "## **Introducción**\n",
    "\n",
    "Los **conjuntos** (`set`) en Python son una implementación nativa del concepto matemático de conjuntos. Son perfectos para trabajar con teoría de conjuntos en Estadística y Probabilidad.\n",
    "\n",
    "### **Características principales:**\n",
    "- **No permiten elementos duplicados**\n",
    "- **No tienen orden específico**\n",
    "- **Son mutables** (se pueden modificar)\n",
    "- **Incluyen métodos nativos** para operaciones matemáticas"
   ]
  },
  {
   "cell_type": "markdown",
   "id": "c461cad9",
   "metadata": {},
   "source": [
    "## **1. Creación de Conjuntos**"
   ]
  },
  {
   "cell_type": "code",
   "execution_count": 1,
   "id": "3bc828df",
   "metadata": {},
   "outputs": [
    {
     "name": "stdout",
     "output_type": "stream",
     "text": [
      "A = {1, 2, 3, 4, 5}\n",
      "B = {3, 4, 5, 6, 7}\n",
      "C = {8, 2, 4, 6}\n"
     ]
    }
   ],
   "source": [
    "# Forma 1: Con llaves {}\n",
    "A = {1, 2, 3, 4, 5}\n",
    "B = {3, 4, 5, 6, 7}\n",
    "C = {2, 4, 6, 8}\n",
    "\n",
    "print(f\"A = {A}\")\n",
    "print(f\"B = {B}\")\n",
    "print(f\"C = {C}\")"
   ]
  },
  {
   "cell_type": "code",
   "execution_count": 5,
   "id": "43d3c3eb",
   "metadata": {},
   "outputs": [
    {
     "name": "stdout",
     "output_type": "stream",
     "text": [
      "D = {1, 2, 3}\n",
      "E = {'h', 'e', 'o', 'l'}\n",
      "F = set()\n",
      "\n",
      "=== DIFERENCIAS CLAVE ===\n",
      "Con {}: {1, 2, 3, 4}\n",
      "set([1,2,3,4]): {1, 2, 3, 4}\n",
      "set((1,2,3,4)): {1, 2, 3, 4}\n",
      "set('1234'): {'2', '1', '4', '3'}\n",
      "set(range(1,5)): {1, 2, 3, 4}\n",
      "¿Todos iguales?: True\n",
      "\n",
      "=== CASO ESPECIAL: CONJUNTO VACÍO ===\n",
      "Tipo de {}: <class 'dict'>\n",
      "Tipo de set(): <class 'set'>\n"
     ]
    }
   ],
   "source": [
    "# Forma 2: Con constructor set()\n",
    "D = set([1, 2, 3, 2, 1])  # Los duplicados se eliminan automáticamente\n",
    "E = set(\"hello\")          # De una cadena\n",
    "F = set()                 # Conjunto vacío\n",
    "\n",
    "print(f\"D = {D}\")  # {1, 2, 3}\n",
    "print(f\"E = {E}\")  # {'h', 'e', 'l', 'o'}\n",
    "print(f\"F = {F}\")  # set()\n",
    "\n",
    "print(\"\\n=== DIFERENCIAS CLAVE ===\")\n",
    "\n",
    "# Con {} solo puedes elementos individuales\n",
    "conjunto_llaves = {1, 2, 3, 4}\n",
    "print(f\"Con {{}}: {conjunto_llaves}\")\n",
    "\n",
    "# Con set() puedes convertir CUALQUIER iterable\n",
    "conjunto_de_lista = set([1, 2, 3, 4])\n",
    "conjunto_de_tupla = set((1, 2, 3, 4))\n",
    "conjunto_de_string = set(\"1234\")\n",
    "conjunto_de_range = set(range(1, 5))\n",
    "\n",
    "print(f\"set([1,2,3,4]): {conjunto_de_lista}\")\n",
    "print(f\"set((1,2,3,4)): {conjunto_de_tupla}\")\n",
    "print(f\"set('1234'): {conjunto_de_string}\")\n",
    "print(f\"set(range(1,5)): {conjunto_de_range}\")\n",
    "\n",
    "# TODOS son equivalentes al de llaves!\n",
    "print(f\"¿Todos iguales?: {conjunto_llaves == conjunto_de_lista == conjunto_de_tupla == conjunto_de_range}\")\n",
    "\n",
    "print(\"\\n=== CASO ESPECIAL: CONJUNTO VACÍO ===\")\n",
    "# {} crea un DICCIONARIO, no un conjunto!\n",
    "no_es_conjunto = {}\n",
    "si_es_conjunto = set()\n",
    "\n",
    "print(f\"Tipo de {{}}: {type(no_es_conjunto)}\")  # dict\n",
    "print(f\"Tipo de set(): {type(si_es_conjunto)}\") # set"
   ]
  },
  {
   "cell_type": "code",
   "execution_count": 6,
   "id": "bd26719c",
   "metadata": {},
   "outputs": [
    {
     "name": "stdout",
     "output_type": "stream",
     "text": [
      "Tipo de set(): <class 'set'>\n",
      "Tipo de {}: <class 'dict'>\n"
     ]
    }
   ],
   "source": [
    "# IMPORTANTE: Para conjunto vacío usar set(), NO {}\n",
    "vacio_correcto = set()\n",
    "no_es_conjunto = {}  # Esto es un diccionario vacío!\n",
    "\n",
    "print(f\"Tipo de set(): {type(vacio_correcto)}\")\n",
    "print(f\"Tipo de {{}}: {type(no_es_conjunto)}\")"
   ]
  },
  {
   "cell_type": "markdown",
   "id": "ab2ac5ba",
   "metadata": {},
   "source": [
    "## **2. Operaciones Básicas**"
   ]
  },
  {
   "cell_type": "markdown",
   "id": "959305bf",
   "metadata": {},
   "source": [
    "### **2.1 Unión (∪)**\n",
    "Elementos que están en al menos uno de los conjuntos"
   ]
  },
  {
   "cell_type": "code",
   "execution_count": null,
   "id": "ce875532",
   "metadata": {},
   "outputs": [],
   "source": [
    "A = {1, 2, 3}\n",
    "B = {3, 4, 5}\n",
    "\n",
    "# Método .union()\n",
    "union_metodo = A.union(B)\n",
    "print(f\"A.union(B) = {union_metodo}\")\n",
    "\n",
    "# Operador |\n",
    "union_operador = A | B\n",
    "print(f\"A | B = {union_operador}\")\n",
    "\n",
    "# Múltiples conjuntos\n",
    "C = {5, 6, 7}\n",
    "union_multiple = A.union(B, C)\n",
    "print(f\"A.union(B, C) = {union_multiple}\")"
   ]
  },
  {
   "cell_type": "markdown",
   "id": "d36ceff3",
   "metadata": {},
   "source": [
    "### **2.2 Intersección (∩)**\n",
    "Elementos que están en ambos conjuntos"
   ]
  },
  {
   "cell_type": "code",
   "execution_count": null,
   "id": "f62af2fe",
   "metadata": {},
   "outputs": [],
   "source": [
    "A = {1, 2, 3, 4}\n",
    "B = {3, 4, 5, 6}\n",
    "\n",
    "# Método .intersection()\n",
    "interseccion_metodo = A.intersection(B)\n",
    "print(f\"A.intersection(B) = {interseccion_metodo}\")\n",
    "\n",
    "# Operador &\n",
    "interseccion_operador = A & B\n",
    "print(f\"A & B = {interseccion_operador}\")\n",
    "\n",
    "# Caso: conjuntos disjuntos\n",
    "D = {7, 8, 9}\n",
    "interseccion_vacia = A.intersection(D)\n",
    "print(f\"A.intersection(D) = {interseccion_vacia}\")"
   ]
  },
  {
   "cell_type": "markdown",
   "id": "c9b8d546",
   "metadata": {},
   "source": [
    "### **2.3 Diferencia (-)**\n",
    "Elementos que están en el primer conjunto pero no en el segundo"
   ]
  },
  {
   "cell_type": "code",
   "execution_count": null,
   "id": "f00e884c",
   "metadata": {},
   "outputs": [],
   "source": [
    "A = {1, 2, 3, 4, 5}\n",
    "B = {3, 4, 5, 6, 7}\n",
    "\n",
    "# Método .difference()\n",
    "diferencia_A_B = A.difference(B)\n",
    "print(f\"A.difference(B) = {diferencia_A_B}\")\n",
    "\n",
    "# Operador -\n",
    "diferencia_operador = A - B\n",
    "print(f\"A - B = {diferencia_operador}\")\n",
    "\n",
    "# La diferencia NO es conmutativa\n",
    "diferencia_B_A = B - A\n",
    "print(f\"B - A = {diferencia_B_A}\")"
   ]
  },
  {
   "cell_type": "markdown",
   "id": "1ff400c9",
   "metadata": {},
   "source": [
    "### **2.4 Complemento**\n",
    "Para el complemento necesitamos definir un espacio muestral (universo)"
   ]
  },
  {
   "cell_type": "code",
   "execution_count": null,
   "id": "f8be1124",
   "metadata": {},
   "outputs": [],
   "source": [
    "# Ejemplo: lanzamiento de un dado\n",
    "Omega = {1, 2, 3, 4, 5, 6}  # Espacio muestral\n",
    "A = {1, 3, 5}               # Números impares\n",
    "B = {2, 4, 6}               # Números pares\n",
    "\n",
    "# Complemento de A\n",
    "A_complemento = Omega - A\n",
    "print(f\"Ω = {Omega}\")\n",
    "print(f\"A = {A}\")\n",
    "print(f\"A^C = {A_complemento}\")\n",
    "\n",
    "# Verificación: A ∪ A^C = Ω\n",
    "verificacion = A.union(A_complemento)\n",
    "print(f\"A ∪ A^C = {verificacion}\")\n",
    "print(f\"¿A ∪ A^C = Ω? {verificacion == Omega}\")"
   ]
  },
  {
   "cell_type": "markdown",
   "id": "13662720",
   "metadata": {},
   "source": [
    "### **2.5 Diferencia Simétrica (△)**\n",
    "Elementos que están en uno u otro conjunto, pero no en ambos"
   ]
  },
  {
   "cell_type": "code",
   "execution_count": null,
   "id": "3b54a5b9",
   "metadata": {},
   "outputs": [],
   "source": [
    "A = {1, 2, 3, 4}\n",
    "B = {3, 4, 5, 6}\n",
    "\n",
    "# Método .symmetric_difference()\n",
    "dif_simetrica = A.symmetric_difference(B)\n",
    "print(f\"A.symmetric_difference(B) = {dif_simetrica}\")\n",
    "\n",
    "# Operador ^\n",
    "dif_simetrica_op = A ^ B\n",
    "print(f\"A ^ B = {dif_simetrica_op}\")\n",
    "\n",
    "# Equivale a: (A - B) ∪ (B - A)\n",
    "equivalente = (A - B).union(B - A)\n",
    "print(f\"(A - B) ∪ (B - A) = {equivalente}\")"
   ]
  },
  {
   "cell_type": "markdown",
   "id": "707d83bf",
   "metadata": {},
   "source": [
    "## **3. Relaciones entre Conjuntos**"
   ]
  },
  {
   "cell_type": "markdown",
   "id": "7cee8df1",
   "metadata": {},
   "source": [
    "### **3.1 Subconjunto y Superconjunto**"
   ]
  },
  {
   "cell_type": "code",
   "execution_count": null,
   "id": "33aef3ec",
   "metadata": {},
   "outputs": [],
   "source": [
    "A = {1, 2, 3}\n",
    "B = {1, 2, 3, 4, 5}\n",
    "C = {2, 3, 4}\n",
    "\n",
    "# Subconjunto (⊆)\n",
    "print(f\"¿A ⊆ B? {A.issubset(B)}\")     # True\n",
    "print(f\"¿C ⊆ B? {C.issubset(B)}\")     # False\n",
    "\n",
    "# Subconjunto propio (⊂)\n",
    "print(f\"¿A ⊂ B? {A < B}\")              # True\n",
    "print(f\"¿A ⊂ A? {A < A}\")              # False\n",
    "\n",
    "# Superconjunto (⊇)\n",
    "print(f\"¿B ⊇ A? {B.issuperset(A)}\")   # True\n",
    "print(f\"¿B ⊇ C? {B.issuperset(C)}\")   # False"
   ]
  },
  {
   "cell_type": "markdown",
   "id": "4c337b9b",
   "metadata": {},
   "source": [
    "### **3.2 Conjuntos Disjuntos**"
   ]
  },
  {
   "cell_type": "code",
   "execution_count": null,
   "id": "d8770d1c",
   "metadata": {},
   "outputs": [],
   "source": [
    "A = {1, 2, 3}\n",
    "B = {4, 5, 6}\n",
    "C = {3, 4, 5}\n",
    "\n",
    "# Disjuntos: A ∩ B = ∅\n",
    "print(f\"¿A y B son disjuntos? {A.isdisjoint(B)}\")  # True\n",
    "print(f\"¿A y C son disjuntos? {A.isdisjoint(C)}\")  # False\n",
    "\n",
    "# Verificación manual\n",
    "print(f\"A ∩ B = {A.intersection(B)}\")\n",
    "print(f\"A ∩ C = {A.intersection(C)}\")"
   ]
  },
  {
   "cell_type": "markdown",
   "id": "f99a2a6f",
   "metadata": {},
   "source": [
    "## **4. Métodos de Modificación**"
   ]
  },
  {
   "cell_type": "markdown",
   "id": "fe3e8ff2",
   "metadata": {},
   "source": [
    "### **4.1 Agregar y Eliminar Elementos**"
   ]
  },
  {
   "cell_type": "code",
   "execution_count": null,
   "id": "cfc2020f",
   "metadata": {},
   "outputs": [],
   "source": [
    "A = {1, 2, 3}\n",
    "print(f\"A inicial: {A}\")\n",
    "\n",
    "# Agregar un elemento\n",
    "A.add(4)\n",
    "print(f\"Después de A.add(4): {A}\")\n",
    "\n",
    "# Agregar múltiples elementos\n",
    "A.update([5, 6, 7])\n",
    "print(f\"Después de A.update([5, 6, 7]): {A}\")\n",
    "\n",
    "# Eliminar elemento (error si no existe)\n",
    "A.remove(7)\n",
    "print(f\"Después de A.remove(7): {A}\")\n",
    "\n",
    "# Eliminar elemento (sin error si no existe)\n",
    "A.discard(10)  # No da error aunque 10 no esté en A\n",
    "print(f\"Después de A.discard(10): {A}\")\n",
    "\n",
    "# Eliminar y devolver elemento aleatorio\n",
    "elemento = A.pop()\n",
    "print(f\"Elemento eliminado: {elemento}\")\n",
    "print(f\"A después de pop(): {A}\")"
   ]
  },
  {
   "cell_type": "markdown",
   "id": "a1a4bdea",
   "metadata": {},
   "source": [
    "### **4.2 Operaciones que Modifican el Conjunto**"
   ]
  },
  {
   "cell_type": "code",
   "execution_count": null,
   "id": "d14256e4",
   "metadata": {},
   "outputs": [],
   "source": [
    "A = {1, 2, 3, 4}\n",
    "B = {3, 4, 5, 6}\n",
    "\n",
    "print(f\"A inicial: {A}\")\n",
    "print(f\"B: {B}\")\n",
    "\n",
    "# Actualizar con unión\n",
    "A_copia = A.copy()\n",
    "A_copia.update(B)  # Equivale a A = A ∪ B\n",
    "print(f\"A.update(B): {A_copia}\")\n",
    "\n",
    "# Actualizar con intersección\n",
    "A_copia = A.copy()\n",
    "A_copia.intersection_update(B)  # Equivale a A = A ∩ B\n",
    "print(f\"A.intersection_update(B): {A_copia}\")\n",
    "\n",
    "# Actualizar con diferencia\n",
    "A_copia = A.copy()\n",
    "A_copia.difference_update(B)  # Equivale a A = A - B\n",
    "print(f\"A.difference_update(B): {A_copia}\")"
   ]
  },
  {
   "cell_type": "markdown",
   "id": "19105fca",
   "metadata": {},
   "source": [
    "## **5. Funciones Útiles**"
   ]
  },
  {
   "cell_type": "code",
   "execution_count": null,
   "id": "0966602f",
   "metadata": {},
   "outputs": [],
   "source": [
    "A = {3, 1, 4, 1, 5, 9, 2, 6}\n",
    "\n",
    "print(f\"Conjunto A: {A}\")\n",
    "print(f\"Tamaño: len(A) = {len(A)}\")\n",
    "print(f\"Mínimo: min(A) = {min(A)}\")\n",
    "print(f\"Máximo: max(A) = {max(A)}\")\n",
    "print(f\"Suma: sum(A) = {sum(A)}\")\n",
    "\n",
    "# Convertir a lista ordenada\n",
    "lista_ordenada = sorted(A)\n",
    "print(f\"Ordenado: sorted(A) = {lista_ordenada}\")\n",
    "\n",
    "# Membresía\n",
    "print(f\"¿3 ∈ A? {3 in A}\")\n",
    "print(f\"¿7 ∈ A? {7 in A}\")\n",
    "print(f\"¿8 ∉ A? {8 not in A}\")"
   ]
  },
  {
   "cell_type": "markdown",
   "id": "5a16b556",
   "metadata": {},
   "source": [
    "## **6. Ejemplo Práctico: Problema de Dados**"
   ]
  },
  {
   "cell_type": "code",
   "execution_count": null,
   "id": "2a9e6d2c",
   "metadata": {},
   "outputs": [],
   "source": [
    "# Problema: Al lanzar un dado\n",
    "Omega = {1, 2, 3, 4, 5, 6}      # Espacio muestral\n",
    "A = {1, 3, 5}                   # Evento: \"sale número impar\"\n",
    "B = {2, 4, 6}                   # Evento: \"sale número par\"\n",
    "C = {1, 2, 3}                   # Evento: \"sale número ≤ 3\"\n",
    "D = {4, 5, 6}                   # Evento: \"sale número > 3\"\n",
    "\n",
    "print(\"EVENTOS DEFINIDOS:\")\n",
    "print(f\"Ω (espacio muestral) = {Omega}\")\n",
    "print(f\"A (impar) = {A}\")\n",
    "print(f\"B (par) = {B}\")\n",
    "print(f\"C (≤ 3) = {C}\")\n",
    "print(f\"D (> 3) = {D}\")\n",
    "print()\n",
    "\n",
    "print(\"OPERACIONES:\")\n",
    "print(f\"A ∪ B = {A.union(B)}\")\n",
    "print(f\"A ∩ B = {A.intersection(B)}\")\n",
    "print(f\"A ∩ C = {A.intersection(C)}\")\n",
    "print(f\"B ∩ D = {B.intersection(D)}\")\n",
    "print(f\"A^C = {Omega - A}\")\n",
    "print(f\"C^C = {Omega - C}\")\n",
    "print()\n",
    "\n",
    "print(\"VERIFICACIONES:\")\n",
    "print(f\"¿A y B son disjuntos? {A.isdisjoint(B)}\")\n",
    "print(f\"¿C y D son disjuntos? {C.isdisjoint(D)}\")\n",
    "print(f\"¿A ∪ B = Ω? {A.union(B) == Omega}\")\n",
    "print(f\"¿C ∪ D = Ω? {C.union(D) == Omega}\")"
   ]
  },
  {
   "cell_type": "markdown",
   "id": "f27fc692",
   "metadata": {},
   "source": [
    "## **7. Ejercicios Prácticos**"
   ]
  },
  {
   "cell_type": "markdown",
   "id": "5e36d070",
   "metadata": {},
   "source": [
    "### **Ejercicio 1: Operaciones Básicas**\n",
    "Dados los conjuntos A = {1, 2, 3, 4, 5} y B = {4, 5, 6, 7, 8}, calcula:"
   ]
  },
  {
   "cell_type": "code",
   "execution_count": null,
   "id": "58619bd9",
   "metadata": {},
   "outputs": [],
   "source": [
    "A = {1, 2, 3, 4, 5}\n",
    "B = {4, 5, 6, 7, 8}\n",
    "\n",
    "# Completa aquí:\n",
    "print(f\"A ∪ B = {A.union(B)}\")  # Tu respuesta\n",
    "print(f\"A ∩ B = {A.intersection(B)}\")  # Tu respuesta\n",
    "print(f\"A - B = {A.difference(B)}\")  # Tu respuesta\n",
    "print(f\"B - A = {B.difference(A)}\")  # Tu respuesta\n",
    "print(f\"A △ B = {A.symmetric_difference(B)}\")  # Tu respuesta"
   ]
  },
  {
   "cell_type": "markdown",
   "id": "d67ef338",
   "metadata": {},
   "source": [
    "### **Ejercicio 2: Cartas**\n",
    "En una baraja de cartas, define conjuntos para:"
   ]
  },
  {
   "cell_type": "code",
   "execution_count": null,
   "id": "36be3092",
   "metadata": {},
   "outputs": [],
   "source": [
    "# Define los conjuntos\n",
    "cartas_rojas = {\"♥A\", \"♥2\", \"♥3\", \"♥4\", \"♥5\", \"♥6\", \"♥7\", \"♥8\", \"♥9\", \"♥10\", \"♥J\", \"♥Q\", \"♥K\",\n",
    "\t\t\t\t\"♦A\", \"♦2\", \"♦3\", \"♦4\", \"♦5\", \"♦6\", \"♦7\", \"♦8\", \"♦9\", \"♦10\", \"♦J\", \"♦Q\", \"♦K\"}\n",
    "cartas_negras = {\"♠A\", \"♠2\", \"♠3\", \"♠4\", \"♠5\", \"♠6\", \"♠7\", \"♠8\", \"♠9\", \"♠10\", \"♠J\", \"♠Q\", \"♠K\",\n",
    "\t\t\t\t \"♣A\", \"♣2\", \"♣3\", \"♣4\", \"♣5\", \"♣6\", \"♣7\", \"♣8\", \"♣9\", \"♣10\", \"♣J\", \"♣Q\", \"♣K\"}\n",
    "figuras = {\"♥J\", \"♥Q\", \"♥K\", \"♦J\", \"♦Q\", \"♦K\", \"♠J\", \"♠Q\", \"♠K\", \"♣J\", \"♣Q\", \"♣K\"}\n",
    "numeros = {\"♥A\", \"♥2\", \"♥3\", \"♥4\", \"♥5\", \"♥6\", \"♥7\", \"♥8\", \"♥9\", \"♥10\",\n",
    "\t\t   \"♦A\", \"♦2\", \"♦3\", \"♦4\", \"♦5\", \"♦6\", \"♦7\", \"♦8\", \"♦9\", \"♦10\",\n",
    "\t\t   \"♠A\", \"♠2\", \"♠3\", \"♠4\", \"♠5\", \"♠6\", \"♠7\", \"♠8\", \"♠9\", \"♠10\",\n",
    "\t\t   \"♣A\", \"♣2\", \"♣3\", \"♣4\", \"♣5\", \"♣6\", \"♣7\", \"♣8\", \"♣9\", \"♣10\"}\n",
    "\n",
    "# Calcula:\n",
    "figuras_rojas = figuras.intersection(cartas_rojas)\n",
    "numeros_negros = numeros.intersection(cartas_negras)\n",
    "\n",
    "print(f\"Figuras rojas: {figuras_rojas}\")\n",
    "print(f\"Números negros: {numeros_negros}\")\n",
    "print(f\"¿Son disjuntos rojas y negras? {cartas_rojas.isdisjoint(cartas_negras)}\")"
   ]
  },
  {
   "cell_type": "markdown",
   "id": "ebf36375",
   "metadata": {},
   "source": [
    "## **8. Consejos y Buenas Prácticas**"
   ]
  },
  {
   "cell_type": "markdown",
   "id": "fb814010",
   "metadata": {},
   "source": [
    "### **8.1 Para Visualización Ordenada**"
   ]
  },
  {
   "cell_type": "code",
   "execution_count": null,
   "id": "4c38c43e",
   "metadata": {},
   "outputs": [],
   "source": [
    "def mostrar_conjunto_ordenado(conjunto, nombre=\"Conjunto\"):\n",
    "    \"\"\"Muestra un conjunto de forma ordenada para mejor legibilidad\"\"\"\n",
    "    if conjunto:\n",
    "        ordenado = set(sorted(conjunto))\n",
    "        print(f\"{nombre} = {ordenado}\")\n",
    "    else:\n",
    "        print(f\"{nombre} = ∅ (conjunto vacío)\")\n",
    "\n",
    "# Ejemplo de uso\n",
    "A = {5, 1, 3, 2, 4}\n",
    "B = {3, 4}\n",
    "interseccion = A.intersection(B)\n",
    "diferencia = A - B\n",
    "\n",
    "mostrar_conjunto_ordenado(A, \"A\")\n",
    "mostrar_conjunto_ordenado(B, \"B\")\n",
    "mostrar_conjunto_ordenado(interseccion, \"A ∩ B\")\n",
    "mostrar_conjunto_ordenado(diferencia, \"A - B\")"
   ]
  },
  {
   "cell_type": "markdown",
   "id": "5b9e221f",
   "metadata": {},
   "source": [
    "### **8.2 Verificación de Propiedades**"
   ]
  },
  {
   "cell_type": "code",
   "execution_count": null,
   "id": "929f16d1",
   "metadata": {},
   "outputs": [],
   "source": [
    "def verificar_propiedades_conjuntos(A, B, Omega=None):\n",
    "    \"\"\"Verifica propiedades básicas de los conjuntos\"\"\"\n",
    "    print(\"=== VERIFICACIÓN DE PROPIEDADES ===\")\n",
    "    \n",
    "    # Conmutatividad\n",
    "    union_AB = A.union(B)\n",
    "    union_BA = B.union(A)\n",
    "    print(f\"Conmutatividad unión: A ∪ B = B ∪ A? {union_AB == union_BA}\")\n",
    "    \n",
    "    interseccion_AB = A.intersection(B)\n",
    "    interseccion_BA = B.intersection(A)\n",
    "    print(f\"Conmutatividad intersección: A ∩ B = B ∩ A? {interseccion_AB == interseccion_BA}\")\n",
    "    \n",
    "    # Leyes de De Morgan (si se proporciona Omega)\n",
    "    if Omega:\n",
    "        A_comp = Omega - A\n",
    "        B_comp = Omega - B\n",
    "        \n",
    "        # (A ∪ B)^C = A^C ∩ B^C\n",
    "        ley1_izq = Omega - A.union(B)\n",
    "        ley1_der = A_comp.intersection(B_comp)\n",
    "        print(f\"Ley De Morgan 1: (A ∪ B)^C = A^C ∩ B^C? {ley1_izq == ley1_der}\")\n",
    "        \n",
    "        # (A ∩ B)^C = A^C ∪ B^C\n",
    "        ley2_izq = Omega - A.intersection(B)\n",
    "        ley2_der = A_comp.union(B_comp)\n",
    "        print(f\"Ley De Morgan 2: (A ∩ B)^C = A^C ∪ B^C? {ley2_izq == ley2_der}\")\n",
    "\n",
    "# Ejemplo\n",
    "A = {1, 2, 3}\n",
    "B = {3, 4, 5}\n",
    "Omega = {1, 2, 3, 4, 5, 6}\n",
    "\n",
    "verificar_propiedades_conjuntos(A, B, Omega)"
   ]
  },
  {
   "cell_type": "markdown",
   "id": "25c8eacd",
   "metadata": {},
   "source": [
    "## **9. Resumen de Métodos y Operadores**"
   ]
  },
  {
   "cell_type": "markdown",
   "id": "1a584826",
   "metadata": {},
   "source": [
    "| Operación | Método | Operador | Descripción |\n",
    "|-----------|--------|----------|-------------|\n",
    "| Unión | `A.union(B)` | `A \\| B` | Elementos en A o B o ambos |\n",
    "| Intersección | `A.intersection(B)` | `A & B` | Elementos en A y B |\n",
    "| Diferencia | `A.difference(B)` | `A - B` | Elementos en A pero no en B |\n",
    "| Diferencia simétrica | `A.symmetric_difference(B)` | `A ^ B` | Elementos en A o B, pero no en ambos |\n",
    "| Subconjunto | `A.issubset(B)` | `A <= B` | ¿Todos los elementos de A están en B? |\n",
    "| Subconjunto propio | `A.issubset(B) and A != B` | `A < B` | ¿A ⊆ B y A ≠ B? |\n",
    "| Superconjunto | `A.issuperset(B)` | `A >= B` | ¿Todos los elementos de B están en A? |\n",
    "| Superconjunto propio | `A.issuperset(B) and A != B` | `A > B` | ¿A ⊇ B y A ≠ B? |\n",
    "| Disjuntos | `A.isdisjoint(B)` | - | ¿A ∩ B = ∅? |\n",
    "| Membresía | - | `x in A` | ¿x está en A? |\n",
    "| No membresía | - | `x not in A` | ¿x no está en A? |\n",
    "| Tamaño | `len(A)` | - | Número de elementos en A |\n",
    "| Conjunto vacío | `len(A) == 0` | `not A` | ¿A está vacío? |\n",
    "| Copia | `A.copy()` | `set(A)` | Crear una copia del conjunto A |"
   ]
  },
  {
   "cell_type": "markdown",
   "id": "9c6f17e3",
   "metadata": {},
   "source": [
    "## **10. Recursos Adicionales**\n",
    "\n",
    "### **Documentación oficial:**\n",
    "- [Built-in Types - Set Types](https://docs.python.org/3/library/stdtypes.html#set-types-set-frozenset)\n",
    "- [Tutorial de sets](https://docs.python.org/3/tutorial/datastructures.html#sets)\n",
    "\n",
    "### **Para profundizar:**\n",
    "- **frozenset**: Versión inmutable de sets\n",
    "- **collections.Counter**: Para conjuntos con repeticiones\n",
    "- **itertools**: Para operaciones avanzadas con iterables\n",
    "\n",
    "---\n",
    "\n",
    "**¡Esta guía te ayudará a dominar el manejo de conjuntos en Python para tus estudios de Estadística!**"
   ]
  }
 ],
 "metadata": {
  "kernelspec": {
   "display_name": ".venv",
   "language": "python",
   "name": "python3"
  },
  "language_info": {
   "codemirror_mode": {
    "name": "ipython",
    "version": 3
   },
   "file_extension": ".py",
   "mimetype": "text/x-python",
   "name": "python",
   "nbconvert_exporter": "python",
   "pygments_lexer": "ipython3",
   "version": "3.12.3"
  }
 },
 "nbformat": 4,
 "nbformat_minor": 5
}
