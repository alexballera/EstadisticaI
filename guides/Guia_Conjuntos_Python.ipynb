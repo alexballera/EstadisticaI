{
 "cells": [
  {
   "cell_type": "markdown",
   "id": "06b7488d",
   "metadata": {},
   "source": [
    "<figure>\n",
    "<center>\n",
    "<img src='https://www.economicas.uba.ar/wp-content/uploads/2020/08/cropped-logo_FCE.png' />\n",
    "</figure>"
   ]
  },
  {
   "cell_type": "markdown",
   "id": "fbf85973",
   "metadata": {},
   "source": [
    "# **Universidad de Buenos Aires**\n",
    "## **Facultad de Ciencias Económicas**\n",
    "\n",
    "### **Estadística I**\n",
    "\n",
    "### Cátedra: Bianco\n",
    "\n",
    "#### **Guía: Manejo de Conjuntos con Python (sets)**\n",
    "\n",
    "***Material de apoyo para estudiantes***"
   ]
  },
  {
   "cell_type": "markdown",
   "id": "1db4af41",
   "metadata": {},
   "source": [
    "## **Introducción**\n",
    "\n",
    "Los **conjuntos** (`set`) en Python son una implementación nativa del concepto matemático de conjuntos. Son perfectos para trabajar con teoría de conjuntos en Estadística y Probabilidad.\n",
    "\n",
    "### **Características principales:**\n",
    "- **No permiten elementos duplicados**\n",
    "- **No tienen orden específico**\n",
    "- **Son mutables** (se pueden modificar)\n",
    "- **Incluyen métodos nativos** para operaciones matemáticas"
   ]
  },
  {
   "cell_type": "markdown",
   "id": "c461cad9",
   "metadata": {},
   "source": [
    "## **1. Creación de Conjuntos**"
   ]
  },
  {
   "cell_type": "code",
   "execution_count": 1,
   "id": "3bc828df",
   "metadata": {},
   "outputs": [
    {
     "name": "stdout",
     "output_type": "stream",
     "text": [
      "A = {1, 2, 3, 4, 5}\n",
      "B = {3, 4, 5, 6, 7}\n",
      "C = {8, 2, 4, 6}\n"
     ]
    }
   ],
   "source": [
    "# Forma 1: Con llaves {}\n",
    "A = {1, 2, 3, 4, 5}\n",
    "B = {3, 4, 5, 6, 7}\n",
    "C = {2, 4, 6, 8}\n",
    "\n",
    "print(f\"A = {A}\")\n",
    "print(f\"B = {B}\")\n",
    "print(f\"C = {C}\")"
   ]
  },
  {
   "cell_type": "code",
   "execution_count": 5,
   "id": "43d3c3eb",
   "metadata": {},
   "outputs": [
    {
     "name": "stdout",
     "output_type": "stream",
     "text": [
      "D = {1, 2, 3}\n",
      "E = {'h', 'e', 'o', 'l'}\n",
      "F = set()\n",
      "\n",
      "=== DIFERENCIAS CLAVE ===\n",
      "Con {}: {1, 2, 3, 4}\n",
      "set([1,2,3,4]): {1, 2, 3, 4}\n",
      "set((1,2,3,4)): {1, 2, 3, 4}\n",
      "set('1234'): {'2', '1', '4', '3'}\n",
      "set(range(1,5)): {1, 2, 3, 4}\n",
      "¿Todos iguales?: True\n",
      "\n",
      "=== CASO ESPECIAL: CONJUNTO VACÍO ===\n",
      "Tipo de {}: <class 'dict'>\n",
      "Tipo de set(): <class 'set'>\n"
     ]
    }
   ],
   "source": [
    "# Forma 2: Con constructor set()\n",
    "D = set([1, 2, 3, 2, 1])  # Los duplicados se eliminan automáticamente\n",
    "E = set(\"hello\")          # De una cadena\n",
    "F = set()                 # Conjunto vacío\n",
    "\n",
    "print(f\"D = {D}\")  # {1, 2, 3}\n",
    "print(f\"E = {E}\")  # {'h', 'e', 'l', 'o'}\n",
    "print(f\"F = {F}\")  # set()\n",
    "\n",
    "print(\"\\n=== DIFERENCIAS CLAVE ===\")\n",
    "\n",
    "# Con {} solo puedes elementos individuales\n",
    "conjunto_llaves = {1, 2, 3, 4}\n",
    "print(f\"Con {{}}: {conjunto_llaves}\")\n",
    "\n",
    "# Con set() puedes convertir CUALQUIER iterable\n",
    "conjunto_de_lista = set([1, 2, 3, 4])\n",
    "conjunto_de_tupla = set((1, 2, 3, 4))\n",
    "conjunto_de_string = set(\"1234\")\n",
    "conjunto_de_range = set(range(1, 5))\n",
    "\n",
    "print(f\"set([1,2,3,4]): {conjunto_de_lista}\")\n",
    "print(f\"set((1,2,3,4)): {conjunto_de_tupla}\")\n",
    "print(f\"set('1234'): {conjunto_de_string}\")\n",
    "print(f\"set(range(1,5)): {conjunto_de_range}\")\n",
    "\n",
    "# TODOS son equivalentes al de llaves!\n",
    "print(f\"¿Todos iguales?: {conjunto_llaves == conjunto_de_lista == conjunto_de_tupla == conjunto_de_range}\")\n",
    "\n",
    "print(\"\\n=== CASO ESPECIAL: CONJUNTO VACÍO ===\")\n",
    "# {} crea un DICCIONARIO, no un conjunto!\n",
    "no_es_conjunto = {}\n",
    "si_es_conjunto = set()\n",
    "\n",
    "print(f\"Tipo de {{}}: {type(no_es_conjunto)}\")  # dict\n",
    "print(f\"Tipo de set(): {type(si_es_conjunto)}\") # set"
   ]
  },
  {
   "cell_type": "code",
   "execution_count": 6,
   "id": "bd26719c",
   "metadata": {},
   "outputs": [
    {
     "name": "stdout",
     "output_type": "stream",
     "text": [
      "Tipo de set(): <class 'set'>\n",
      "Tipo de {}: <class 'dict'>\n"
     ]
    }
   ],
   "source": [
    "# IMPORTANTE: Para conjunto vacío usar set(), NO {}\n",
    "vacio_correcto = set()\n",
    "no_es_conjunto = {}  # Esto es un diccionario vacío!\n",
    "\n",
    "print(f\"Tipo de set(): {type(vacio_correcto)}\")\n",
    "print(f\"Tipo de {{}}: {type(no_es_conjunto)}\")"
   ]
  },
  {
   "cell_type": "markdown",
   "id": "ab2ac5ba",
   "metadata": {},
   "source": [
    "## **2. Operaciones Básicas**"
   ]
  },
  {
   "cell_type": "markdown",
   "id": "959305bf",
   "metadata": {},
   "source": [
    "### **2.1 Unión (∪)**\n",
    "Elementos que están en al menos uno de los conjuntos"
   ]
  },
  {
   "cell_type": "code",
   "execution_count": 7,
   "id": "ce875532",
   "metadata": {},
   "outputs": [
    {
     "name": "stdout",
     "output_type": "stream",
     "text": [
      "A.union(B) = {1, 2, 3, 4, 5}\n",
      "A | B = {1, 2, 3, 4, 5}\n",
      "A.union(B, C) = {1, 2, 3, 4, 5, 6, 7}\n"
     ]
    }
   ],
   "source": [
    "A = {1, 2, 3}\n",
    "B = {3, 4, 5}\n",
    "\n",
    "# Método .union()\n",
    "union_metodo = A.union(B)\n",
    "print(f\"A.union(B) = {union_metodo}\")\n",
    "\n",
    "# Operador |\n",
    "union_operador = A | B\n",
    "print(f\"A | B = {union_operador}\")\n",
    "\n",
    "# Múltiples conjuntos\n",
    "C = {5, 6, 7}\n",
    "union_multiple = A.union(B, C)\n",
    "print(f\"A.union(B, C) = {union_multiple}\")"
   ]
  },
  {
   "cell_type": "markdown",
   "id": "d36ceff3",
   "metadata": {},
   "source": [
    "### **2.2 Intersección (∩)**\n",
    "Elementos que están en ambos conjuntos"
   ]
  },
  {
   "cell_type": "code",
   "execution_count": 8,
   "id": "f62af2fe",
   "metadata": {},
   "outputs": [
    {
     "name": "stdout",
     "output_type": "stream",
     "text": [
      "A.intersection(B) = {3, 4}\n",
      "A & B = {3, 4}\n",
      "A.intersection(D) = set()\n"
     ]
    }
   ],
   "source": [
    "A = {1, 2, 3, 4}\n",
    "B = {3, 4, 5, 6}\n",
    "\n",
    "# Método .intersection()\n",
    "interseccion_metodo = A.intersection(B)\n",
    "print(f\"A.intersection(B) = {interseccion_metodo}\")\n",
    "\n",
    "# Operador &\n",
    "interseccion_operador = A & B\n",
    "print(f\"A & B = {interseccion_operador}\")\n",
    "\n",
    "# Caso: conjuntos disjuntos\n",
    "D = {7, 8, 9}\n",
    "interseccion_vacia = A.intersection(D)\n",
    "print(f\"A.intersection(D) = {interseccion_vacia}\")"
   ]
  },
  {
   "cell_type": "markdown",
   "id": "c9b8d546",
   "metadata": {},
   "source": [
    "### **2.3 Diferencia (-)**\n",
    "Elementos que están en el primer conjunto pero no en el segundo"
   ]
  },
  {
   "cell_type": "code",
   "execution_count": 9,
   "id": "f00e884c",
   "metadata": {},
   "outputs": [
    {
     "name": "stdout",
     "output_type": "stream",
     "text": [
      "A.difference(B) = {1, 2}\n",
      "A - B = {1, 2}\n",
      "B - A = {6, 7}\n"
     ]
    }
   ],
   "source": [
    "A = {1, 2, 3, 4, 5}\n",
    "B = {3, 4, 5, 6, 7}\n",
    "\n",
    "# Método .difference()\n",
    "diferencia_A_B = A.difference(B)\n",
    "print(f\"A.difference(B) = {diferencia_A_B}\")\n",
    "\n",
    "# Operador -\n",
    "diferencia_operador = A - B\n",
    "print(f\"A - B = {diferencia_operador}\")\n",
    "\n",
    "# La diferencia NO es conmutativa\n",
    "diferencia_B_A = B - A\n",
    "print(f\"B - A = {diferencia_B_A}\")"
   ]
  },
  {
   "cell_type": "markdown",
   "id": "1ff400c9",
   "metadata": {},
   "source": [
    "### **2.4 Complemento**\n",
    "Para el complemento necesitamos definir un espacio muestral (universo)"
   ]
  },
  {
   "cell_type": "code",
   "execution_count": 10,
   "id": "f8be1124",
   "metadata": {},
   "outputs": [
    {
     "name": "stdout",
     "output_type": "stream",
     "text": [
      "Ω = {1, 2, 3, 4, 5, 6}\n",
      "A = {1, 3, 5}\n",
      "A^C = {2, 4, 6}\n",
      "A ∪ A^C = {1, 2, 3, 4, 5, 6}\n",
      "¿A ∪ A^C = Ω? True\n"
     ]
    }
   ],
   "source": [
    "# Ejemplo: lanzamiento de un dado\n",
    "Omega = {1, 2, 3, 4, 5, 6}  # Espacio muestral\n",
    "A = {1, 3, 5}               # Números impares\n",
    "B = {2, 4, 6}               # Números pares\n",
    "\n",
    "# Complemento de A\n",
    "A_complemento = Omega - A\n",
    "print(f\"Ω = {Omega}\")\n",
    "print(f\"A = {A}\")\n",
    "print(f\"A^C = {A_complemento}\")\n",
    "\n",
    "# Verificación: A ∪ A^C = Ω\n",
    "verificacion = A.union(A_complemento)\n",
    "print(f\"A ∪ A^C = {verificacion}\")\n",
    "print(f\"¿A ∪ A^C = Ω? {verificacion == Omega}\")"
   ]
  },
  {
   "cell_type": "markdown",
   "id": "13662720",
   "metadata": {},
   "source": [
    "### **2.5 Diferencia Simétrica (△)**\n",
    "Elementos que están en uno u otro conjunto, pero no en ambos"
   ]
  },
  {
   "cell_type": "code",
   "execution_count": 11,
   "id": "3b54a5b9",
   "metadata": {},
   "outputs": [
    {
     "name": "stdout",
     "output_type": "stream",
     "text": [
      "A.symmetric_difference(B) = {1, 2, 5, 6}\n",
      "A ^ B = {1, 2, 5, 6}\n",
      "(A - B) ∪ (B - A) = {1, 2, 5, 6}\n"
     ]
    }
   ],
   "source": [
    "A = {1, 2, 3, 4}\n",
    "B = {3, 4, 5, 6}\n",
    "\n",
    "# Método .symmetric_difference()\n",
    "dif_simetrica = A.symmetric_difference(B)\n",
    "print(f\"A.symmetric_difference(B) = {dif_simetrica}\")\n",
    "\n",
    "# Operador ^\n",
    "dif_simetrica_op = A ^ B\n",
    "print(f\"A ^ B = {dif_simetrica_op}\")\n",
    "\n",
    "# Equivale a: (A - B) ∪ (B - A)\n",
    "equivalente = (A - B).union(B - A)\n",
    "print(f\"(A - B) ∪ (B - A) = {equivalente}\")"
   ]
  },
  {
   "cell_type": "markdown",
   "id": "707d83bf",
   "metadata": {},
   "source": [
    "## **3. Relaciones entre Conjuntos**"
   ]
  },
  {
   "cell_type": "markdown",
   "id": "7cee8df1",
   "metadata": {},
   "source": [
    "### **3.1 Subconjunto y Superconjunto**"
   ]
  },
  {
   "cell_type": "code",
   "execution_count": 12,
   "id": "33aef3ec",
   "metadata": {},
   "outputs": [
    {
     "name": "stdout",
     "output_type": "stream",
     "text": [
      "¿A ⊆ B? True\n",
      "¿C ⊆ B? True\n",
      "¿A ⊂ B? True\n",
      "¿A ⊂ A? False\n",
      "¿B ⊇ A? True\n",
      "¿B ⊇ C? True\n"
     ]
    }
   ],
   "source": [
    "A = {1, 2, 3}\n",
    "B = {1, 2, 3, 4, 5}\n",
    "C = {2, 3, 4}\n",
    "\n",
    "# Subconjunto (⊆)\n",
    "print(f\"¿A ⊆ B? {A.issubset(B)}\")     # True\n",
    "print(f\"¿C ⊆ B? {C.issubset(B)}\")     # False\n",
    "\n",
    "# Subconjunto propio (⊂)\n",
    "print(f\"¿A ⊂ B? {A < B}\")              # True\n",
    "print(f\"¿A ⊂ A? {A < A}\")              # False\n",
    "\n",
    "# Superconjunto (⊇)\n",
    "print(f\"¿B ⊇ A? {B.issuperset(A)}\")   # True\n",
    "print(f\"¿B ⊇ C? {B.issuperset(C)}\")   # False"
   ]
  },
  {
   "cell_type": "markdown",
   "id": "e3eebf0d",
   "metadata": {},
   "source": [
    "### **💡 Equivalencia: Subconjunto ↔ Superconjunto**\n",
    "\n",
    "**IMPORTANTE**: Subconjunto y superconjunto son **conceptos equivalentes** expresados desde diferentes perspectivas:\n",
    "\n",
    "- **A ⊆ B** significa \"A está incluido en B\" (perspectiva de A)\n",
    "- **B ⊇ A** significa \"B contiene a A\" (perspectiva de B) \n",
    "\n",
    "**Son exactamente la misma relación matemática**, solo cambia el punto de vista."
   ]
  },
  {
   "cell_type": "code",
   "execution_count": 14,
   "id": "6159d43e",
   "metadata": {},
   "outputs": [
    {
     "name": "stdout",
     "output_type": "stream",
     "text": [
      "=== DEMOSTRACIÓN DE EQUIVALENCIA ===\n",
      "A = {1, 2, 3}\n",
      "B = {1, 2, 3, 4, 5}\n",
      "\n",
      "1️⃣ Si A ⊆ B, entonces B ⊇ A?\n",
      "   A ⊆ B = True\n",
      "   B ⊇ A = True\n",
      "   ¿Son equivalentes? True\n",
      "\n",
      "2️⃣ Si B ⊇ A, entonces A ⊆ B?\n",
      "   B ⊇ A = True\n",
      "   A ⊆ B = True\n",
      "   ¿Son equivalentes? True\n",
      "\n",
      "=== VERIFICACIÓN CON DIFERENTES CASOS ===\n",
      "C = {2, 4}, D = {1, 2, 3, 4, 5}\n",
      "C ⊂ D: True\n",
      "D ⊃ C: True\n",
      "¿Equivalentes? True\n",
      "\n",
      "E = {1, 2, 3}, F = {1, 2, 3}\n",
      "E ⊆ F: True\n",
      "F ⊇ E: True\n",
      "¿Son iguales? True\n",
      "¿Equivalentes las relaciones? True\n",
      "\n",
      "G = {1, 2, 3}, H = {4, 5, 6}\n",
      "G ⊆ H: False\n",
      "H ⊇ G: False\n",
      "¿Ninguna relación de inclusión? True\n",
      "\n",
      "✅ CONCLUSIÓN: Las afirmaciones son SIEMPRE equivalentes\n",
      "   A ⊆ B ⟺ B ⊇ A (son la misma relación matemática)\n"
     ]
    }
   ],
   "source": [
    "# Demostración de EQUIVALENCIA entre subconjunto y superconjunto\n",
    "A = {1, 2, 3}\n",
    "B = {1, 2, 3, 4, 5}\n",
    "\n",
    "print(\"=== DEMOSTRACIÓN DE EQUIVALENCIA ===\")\n",
    "print(f\"A = {A}\")\n",
    "print(f\"B = {B}\")\n",
    "print()\n",
    "\n",
    "# Pregunta 1: Si A ⊆ B, entonces B ⊇ A?\n",
    "es_A_subconjunto_de_B = A.issubset(B)\n",
    "es_B_superconjunto_de_A = B.issuperset(A)\n",
    "\n",
    "print(\"1️⃣ Si A ⊆ B, entonces B ⊇ A?\")\n",
    "print(f\"   A ⊆ B = {es_A_subconjunto_de_B}\")\n",
    "print(f\"   B ⊇ A = {es_B_superconjunto_de_A}\")\n",
    "print(f\"   ¿Son equivalentes? {es_A_subconjunto_de_B == es_B_superconjunto_de_A}\")\n",
    "print()\n",
    "\n",
    "# Pregunta 2: Si B ⊇ A, entonces A ⊆ B?\n",
    "print(\"2️⃣ Si B ⊇ A, entonces A ⊆ B?\")\n",
    "print(f\"   B ⊇ A = {es_B_superconjunto_de_A}\")\n",
    "print(f\"   A ⊆ B = {es_A_subconjunto_de_B}\")\n",
    "print(f\"   ¿Son equivalentes? {es_B_superconjunto_de_A == es_A_subconjunto_de_B}\")\n",
    "print()\n",
    "\n",
    "print(\"=== VERIFICACIÓN CON DIFERENTES CASOS ===\")\n",
    "\n",
    "# Caso 1: A ⊂ B (subconjunto propio)\n",
    "C = {2, 4}\n",
    "D = {1, 2, 3, 4, 5}\n",
    "print(f\"C = {C}, D = {D}\")\n",
    "print(f\"C ⊂ D: {C < D}\")\n",
    "print(f\"D ⊃ C: {D > C}\")\n",
    "print(f\"¿Equivalentes? {(C < D) == (D > C)}\")\n",
    "print()\n",
    "\n",
    "# Caso 2: Conjuntos iguales\n",
    "E = {1, 2, 3}\n",
    "F = {3, 2, 1}  # Mismo conjunto, diferente orden\n",
    "print(f\"E = {E}, F = {F}\")\n",
    "print(f\"E ⊆ F: {E <= F}\")\n",
    "print(f\"F ⊇ E: {F >= E}\")\n",
    "print(f\"¿Son iguales? {E == F}\")\n",
    "print(f\"¿Equivalentes las relaciones? {(E <= F) == (F >= E)}\")\n",
    "print()\n",
    "\n",
    "# Caso 3: Sin relación de inclusión\n",
    "G = {1, 2, 3}\n",
    "H = {4, 5, 6}\n",
    "print(f\"G = {G}, H = {H}\")\n",
    "print(f\"G ⊆ H: {G <= H}\")\n",
    "print(f\"H ⊇ G: {H >= G}\")\n",
    "print(f\"¿Ninguna relación de inclusión? {not (G <= H) and not (H >= G)}\")\n",
    "\n",
    "print(\"\\n✅ CONCLUSIÓN: Las afirmaciones son SIEMPRE equivalentes\")\n",
    "print(\"   A ⊆ B ⟺ B ⊇ A (son la misma relación matemática)\")"
   ]
  },
  {
   "cell_type": "markdown",
   "id": "4c337b9b",
   "metadata": {},
   "source": [
    "### **3.2 Conjuntos Disjuntos**"
   ]
  },
  {
   "cell_type": "code",
   "execution_count": 15,
   "id": "d8770d1c",
   "metadata": {},
   "outputs": [
    {
     "name": "stdout",
     "output_type": "stream",
     "text": [
      "¿A y B son disjuntos? True\n",
      "¿A y C son disjuntos? False\n",
      "A ∩ B = set()\n",
      "A ∩ C = {3}\n"
     ]
    }
   ],
   "source": [
    "A = {1, 2, 3}\n",
    "B = {4, 5, 6}\n",
    "C = {3, 4, 5}\n",
    "\n",
    "# Disjuntos: A ∩ B = ∅\n",
    "print(f\"¿A y B son disjuntos? {A.isdisjoint(B)}\")  # True\n",
    "print(f\"¿A y C son disjuntos? {A.isdisjoint(C)}\")  # False\n",
    "\n",
    "# Verificación manual\n",
    "print(f\"A ∩ B = {A.intersection(B)}\")\n",
    "print(f\"A ∩ C = {A.intersection(C)}\")"
   ]
  },
  {
   "cell_type": "markdown",
   "id": "f99a2a6f",
   "metadata": {},
   "source": [
    "## **4. Métodos de Modificación**"
   ]
  },
  {
   "cell_type": "markdown",
   "id": "fe3e8ff2",
   "metadata": {},
   "source": [
    "### **4.1 Agregar y Eliminar Elementos**"
   ]
  },
  {
   "cell_type": "code",
   "execution_count": 21,
   "id": "cfc2020f",
   "metadata": {},
   "outputs": [
    {
     "name": "stdout",
     "output_type": "stream",
     "text": [
      "A inicial: {1, 2, 3}\n",
      "Después de A.add(4): {1, 2, 3, 4}\n",
      "Después de A.update([5, 6, 7]): {1, 2, 3, 4, 5, 6, 7}\n",
      "Después de A.remove(7): {1, 2, 3, 4, 5, 6}\n",
      "Después de A.discard(10): {1, 2, 3, 4, 5, 6}\n",
      "Elemento eliminado: 1\n",
      "A después de pop(): {2, 3, 4, 5, 6}\n",
      "⚠️ .pop() elimina un elemento ARBITRARIO, no necesariamente el 'primero'\n"
     ]
    }
   ],
   "source": [
    "A = {1, 2, 3}\n",
    "print(f\"A inicial: {A}\")\n",
    "\n",
    "# Agregar un elemento\n",
    "A.add(4)\n",
    "print(f\"Después de A.add(4): {A}\")\n",
    "\n",
    "# Agregar múltiples elementos\n",
    "A.update([5, 6, 7])\n",
    "print(f\"Después de A.update([5, 6, 7]): {A}\")\n",
    "\n",
    "# Eliminar elemento (error si no existe)\n",
    "A.remove(7)\n",
    "print(f\"Después de A.remove(7): {A}\")\n",
    "\n",
    "# Eliminar elemento (sin error si no existe)\n",
    "A.discard(10)  # No da error aunque 10 no esté en A\n",
    "print(f\"Después de A.discard(10): {A}\")\n",
    "\n",
    "# Eliminar y devolver elemento arbitrario (NO el \"primero\")\n",
    "elemento = A.pop()\n",
    "print(f\"Elemento eliminado: {elemento}\")\n",
    "print(f\"A después de pop(): {A}\")\n",
    "print(\"⚠️ .pop() elimina un elemento ARBITRARIO, no necesariamente el 'primero'\")"
   ]
  },
  {
   "cell_type": "markdown",
   "id": "925d0271",
   "metadata": {},
   "source": [
    "#### **⚠️ IMPORTANTE: .pop() en Conjuntos vs Otras Estructuras**\n",
    "\n",
    "**En CONJUNTOS**: `.pop()` elimina un **elemento arbitrario** (no hay \"primero\" ni \"último\")\n",
    "**En LISTAS**: `.pop()` elimina el **último elemento** por defecto, o el índice especificado\n",
    "\n",
    "Los conjuntos **NO tienen orden**, por eso `.pop()` devuelve cualquier elemento."
   ]
  },
  {
   "cell_type": "code",
   "execution_count": 31,
   "id": "9446f445",
   "metadata": {},
   "outputs": [
    {
     "name": "stdout",
     "output_type": "stream",
     "text": [
      "=== COMPORTAMIENTO DE .pop() ===\n",
      "Conjunto original: {50, 20, 40, 10, 30}\n",
      "Iteración 1: eliminado = 50, conjunto = {20, 40, 10, 30}\n",
      "Iteración 2: eliminado = 20, conjunto = {40, 10, 30}\n",
      "Iteración 3: eliminado = 40, conjunto = {10, 30}\n",
      "Elementos eliminados en orden: [50, 20, 40]\n",
      "🤔 En este caso parece predecible, pero NO está garantizado por Python\n",
      "   El orden interno puede cambiar entre versiones o implementaciones\n",
      "\n",
      "Lista original: [10, 20, 30, 40, 50]\n",
      "Iteración 1: eliminado = 50, lista = [10, 20, 30, 40]\n",
      "Iteración 2: eliminado = 40, lista = [10, 20, 30]\n",
      "Iteración 3: eliminado = 30, lista = [10, 20]\n",
      "👀 En listas SÍ es predecible: siempre el último elemento\n",
      "\n",
      "=== EXPERIMENTO: ¿Siempre es igual? ===\n",
      "Mismo contenido, diferentes formas de creación:\n",
      "conjunto1 = {1, 2, 3, 4, 5}\n",
      "conjunto2 = {1, 2, 3, 4, 5}\n",
      "conjunto3 = {1, 2, 3, 4, 5}\n",
      "\n",
      "Primer elemento que devuelve .pop():\n",
      "conjunto1.pop() devuelve: 1\n",
      "conjunto2.pop() devuelve: 1\n",
      "conjunto3.pop() devuelve: 1\n",
      "\n",
      "=== EXPERIMENTO: Conjunto más grande ===\n",
      "Conjunto: {66, 38, 73, 10, 45, 80, 17, 52, 87, 24, 59, 94, 31}\n",
      "Primer .pop(): 66\n",
      "¿Es el 'primero' cuando lo imprimes? Depende de la implementación interna\n",
      "\n",
      "✅ CONCLUSIÓN CORREGIDA:\n",
      "- En conjuntos: .pop() puede PARECER predecible en casos simples\n",
      "- Pero NO está GARANTIZADO que sea siempre el mismo patrón\n",
      "- En listas: .pop() SÍ está garantizado (último elemento)\n",
      "- ⚠️ NUNCA asumas un orden específico en conjuntos\n"
     ]
    }
   ],
   "source": [
    "# DEMOSTRACIÓN: .pop() en conjuntos vs listas\n",
    "print(\"=== COMPORTAMIENTO DE .pop() ===\")\n",
    "\n",
    "# 1. En CONJUNTOS (sin orden garantizado)\n",
    "conjunto = {10, 20, 30, 40, 50}\n",
    "print(f\"Conjunto original: {conjunto}\")\n",
    "\n",
    "elementos_eliminados = []\n",
    "conjunto_copia = conjunto.copy()\n",
    "\n",
    "for i in range(3):\n",
    "    elemento = conjunto_copia.pop()\n",
    "    elementos_eliminados.append(elemento)\n",
    "    print(f\"Iteración {i+1}: eliminado = {elemento}, conjunto = {conjunto_copia}\")\n",
    "\n",
    "print(f\"Elementos eliminados en orden: {elementos_eliminados}\")\n",
    "print(\"🤔 En este caso parece predecible, pero NO está garantizado por Python\")\n",
    "print(\"   El orden interno puede cambiar entre versiones o implementaciones\")\n",
    "print()\n",
    "\n",
    "# 2. En LISTAS (con orden)\n",
    "lista = [10, 20, 30, 40, 50]\n",
    "print(f\"Lista original: {lista}\")\n",
    "\n",
    "for i in range(3):\n",
    "    elemento = lista.pop()  # Siempre elimina el último\n",
    "    print(f\"Iteración {i+1}: eliminado = {elemento}, lista = {lista}\")\n",
    "\n",
    "print(\"👀 En listas SÍ es predecible: siempre el último elemento\")\n",
    "print()\n",
    "\n",
    "# 3. EXPERIMENTO: Demostrando la NO garantía de orden\n",
    "print(\"=== EXPERIMENTO: ¿Siempre es igual? ===\")\n",
    "\n",
    "# Crear conjuntos de diferentes maneras\n",
    "conjunto1 = {1, 2, 3, 4, 5}\n",
    "conjunto2 = set([1, 2, 3, 4, 5])\n",
    "conjunto3 = set(range(1, 6))\n",
    "\n",
    "print(\"Mismo contenido, diferentes formas de creación:\")\n",
    "print(f\"conjunto1 = {conjunto1}\")\n",
    "print(f\"conjunto2 = {conjunto2}\")\n",
    "print(f\"conjunto3 = {conjunto3}\")\n",
    "print()\n",
    "\n",
    "# Probar .pop() en cada uno\n",
    "print(\"Primer elemento que devuelve .pop():\")\n",
    "print(f\"conjunto1.pop() devuelve: {conjunto1.copy().pop()}\")\n",
    "print(f\"conjunto2.pop() devuelve: {conjunto2.copy().pop()}\")  \n",
    "print(f\"conjunto3.pop() devuelve: {conjunto3.copy().pop()}\")\n",
    "print()\n",
    "\n",
    "# Experimento con conjunto más grande\n",
    "print(\"=== EXPERIMENTO: Conjunto más grande ===\")\n",
    "conjunto_grande = {i for i in range(10, 100, 7)}  # {10, 17, 24, 31, 38, 45, 52, 59, 66, 73, 80, 87, 94}\n",
    "print(f\"Conjunto: {conjunto_grande}\")\n",
    "print(f\"Primer .pop(): {conjunto_grande.copy().pop()}\")\n",
    "print(\"¿Es el 'primero' cuando lo imprimes? Depende de la implementación interna\")\n",
    "\n",
    "print(\"\\n✅ CONCLUSIÓN CORREGIDA:\")\n",
    "print(\"- En conjuntos: .pop() puede PARECER predecible en casos simples\")\n",
    "print(\"- Pero NO está GARANTIZADO que sea siempre el mismo patrón\")\n",
    "print(\"- En listas: .pop() SÍ está garantizado (último elemento)\")\n",
    "print(\"- ⚠️ NUNCA asumas un orden específico en conjuntos\")"
   ]
  },
  {
   "cell_type": "markdown",
   "id": "cd4fa08f",
   "metadata": {},
   "source": [
    "#### **🔍 ¿Por qué .pop() puede parecer predecible en conjuntos?**\n",
    "\n",
    "**Tu observación es muy astuta.** En muchos casos, `.pop()` en conjuntos parece seguir un patrón (como eliminar el \"primer\" elemento visible). Esto sucede porque:\n",
    "\n",
    "1. **Implementación interna consistente**: Python usa tablas hash con un algoritmo específico\n",
    "2. **Misma versión de Python**: El comportamiento puede ser consistente en la misma versión\n",
    "3. **Conjuntos pequeños**: Los patrones son más visibles con pocos elementos\n",
    "4. **Misma sesión**: Durante la misma ejecución, el comportamiento interno es estable\n",
    "\n",
    "**PERO** esto **NO está garantizado** por la especificación de Python:\n",
    "- Puede cambiar entre versiones de Python\n",
    "- Puede cambiar entre diferentes implementaciones (CPython, PyPy, etc.)\n",
    "- Puede cambiar con conjuntos más grandes o complejos\n",
    "- **No debes escribir código que dependa de este comportamiento**"
   ]
  },
  {
   "cell_type": "markdown",
   "id": "a1a4bdea",
   "metadata": {},
   "source": [
    "### **4.2 Operaciones que Modifican el Conjunto**"
   ]
  },
  {
   "cell_type": "code",
   "execution_count": 25,
   "id": "d14256e4",
   "metadata": {},
   "outputs": [
    {
     "name": "stdout",
     "output_type": "stream",
     "text": [
      "A inicial: {1, 2, 3, 4}\n",
      "B: {3, 4, 5, 6}\n",
      "A.update(B): {1, 2, 3, 4, 5, 6}\n",
      "A.intersection_update(B): {3, 4}\n",
      "A.difference_update(B): {1, 2}\n"
     ]
    }
   ],
   "source": [
    "A = {1, 2, 3, 4}\n",
    "B = {3, 4, 5, 6}\n",
    "\n",
    "print(f\"A inicial: {A}\")\n",
    "print(f\"B: {B}\")\n",
    "\n",
    "# Actualizar con unión\n",
    "A_copia = A.copy()\n",
    "A_copia.update(B)  # Equivale a A = A ∪ B\n",
    "print(f\"A.update(B): {A_copia}\")\n",
    "\n",
    "# Actualizar con intersección\n",
    "A_copia = A.copy()\n",
    "A_copia.intersection_update(B)  # Equivale a A = A ∩ B\n",
    "print(f\"A.intersection_update(B): {A_copia}\")\n",
    "\n",
    "# Actualizar con diferencia\n",
    "A_copia = A.copy()\n",
    "A_copia.difference_update(B)  # Equivale a A = A - B\n",
    "print(f\"A.difference_update(B): {A_copia}\")"
   ]
  },
  {
   "cell_type": "markdown",
   "id": "19105fca",
   "metadata": {},
   "source": [
    "## **5. Funciones Útiles**"
   ]
  },
  {
   "cell_type": "code",
   "execution_count": 26,
   "id": "0966602f",
   "metadata": {},
   "outputs": [
    {
     "name": "stdout",
     "output_type": "stream",
     "text": [
      "Conjunto A: {1, 2, 3, 4, 5, 6, 9}\n",
      "Tamaño: len(A) = 7\n",
      "Mínimo: min(A) = 1\n",
      "Máximo: max(A) = 9\n",
      "Suma: sum(A) = 30\n",
      "Ordenado: sorted(A) = [1, 2, 3, 4, 5, 6, 9]\n",
      "¿3 ∈ A? True\n",
      "¿7 ∈ A? False\n",
      "¿8 ∉ A? True\n"
     ]
    }
   ],
   "source": [
    "A = {3, 1, 4, 1, 5, 9, 2, 6}\n",
    "\n",
    "print(f\"Conjunto A: {A}\")\n",
    "print(f\"Tamaño: len(A) = {len(A)}\")\n",
    "print(f\"Mínimo: min(A) = {min(A)}\")\n",
    "print(f\"Máximo: max(A) = {max(A)}\")\n",
    "print(f\"Suma: sum(A) = {sum(A)}\")\n",
    "\n",
    "# Convertir a lista ordenada\n",
    "lista_ordenada = sorted(A)\n",
    "print(f\"Ordenado: sorted(A) = {lista_ordenada}\")\n",
    "\n",
    "# Membresía\n",
    "print(f\"¿3 ∈ A? {3 in A}\")\n",
    "print(f\"¿7 ∈ A? {7 in A}\")\n",
    "print(f\"¿8 ∉ A? {8 not in A}\")"
   ]
  },
  {
   "cell_type": "markdown",
   "id": "5a16b556",
   "metadata": {},
   "source": [
    "## **6. Ejemplo Práctico: Problema de Dados**"
   ]
  },
  {
   "cell_type": "code",
   "execution_count": 27,
   "id": "2a9e6d2c",
   "metadata": {},
   "outputs": [
    {
     "name": "stdout",
     "output_type": "stream",
     "text": [
      "EVENTOS DEFINIDOS:\n",
      "Ω (espacio muestral) = {1, 2, 3, 4, 5, 6}\n",
      "A (impar) = {1, 3, 5}\n",
      "B (par) = {2, 4, 6}\n",
      "C (≤ 3) = {1, 2, 3}\n",
      "D (> 3) = {4, 5, 6}\n",
      "\n",
      "OPERACIONES:\n",
      "A ∪ B = {1, 2, 3, 4, 5, 6}\n",
      "A ∩ B = set()\n",
      "A ∩ C = {1, 3}\n",
      "B ∩ D = {4, 6}\n",
      "A^C = {2, 4, 6}\n",
      "C^C = {4, 5, 6}\n",
      "\n",
      "VERIFICACIONES:\n",
      "¿A y B son disjuntos? True\n",
      "¿C y D son disjuntos? True\n",
      "¿A ∪ B = Ω? True\n",
      "¿C ∪ D = Ω? True\n"
     ]
    }
   ],
   "source": [
    "# Problema: Al lanzar un dado\n",
    "Omega = {1, 2, 3, 4, 5, 6}      # Espacio muestral\n",
    "A = {1, 3, 5}                   # Evento: \"sale número impar\"\n",
    "B = {2, 4, 6}                   # Evento: \"sale número par\"\n",
    "C = {1, 2, 3}                   # Evento: \"sale número ≤ 3\"\n",
    "D = {4, 5, 6}                   # Evento: \"sale número > 3\"\n",
    "\n",
    "print(\"EVENTOS DEFINIDOS:\")\n",
    "print(f\"Ω (espacio muestral) = {Omega}\")\n",
    "print(f\"A (impar) = {A}\")\n",
    "print(f\"B (par) = {B}\")\n",
    "print(f\"C (≤ 3) = {C}\")\n",
    "print(f\"D (> 3) = {D}\")\n",
    "print()\n",
    "\n",
    "print(\"OPERACIONES:\")\n",
    "print(f\"A ∪ B = {A.union(B)}\")\n",
    "print(f\"A ∩ B = {A.intersection(B)}\")\n",
    "print(f\"A ∩ C = {A.intersection(C)}\")\n",
    "print(f\"B ∩ D = {B.intersection(D)}\")\n",
    "print(f\"A^C = {Omega - A}\")\n",
    "print(f\"C^C = {Omega - C}\")\n",
    "print()\n",
    "\n",
    "print(\"VERIFICACIONES:\")\n",
    "print(f\"¿A y B son disjuntos? {A.isdisjoint(B)}\")\n",
    "print(f\"¿C y D son disjuntos? {C.isdisjoint(D)}\")\n",
    "print(f\"¿A ∪ B = Ω? {A.union(B) == Omega}\")\n",
    "print(f\"¿C ∪ D = Ω? {C.union(D) == Omega}\")"
   ]
  },
  {
   "cell_type": "markdown",
   "id": "f27fc692",
   "metadata": {},
   "source": [
    "## **7. Ejercicios Prácticos**"
   ]
  },
  {
   "cell_type": "markdown",
   "id": "5e36d070",
   "metadata": {},
   "source": [
    "### **Ejercicio 1: Operaciones Básicas**\n",
    "Dados los conjuntos A = {1, 2, 3, 4, 5} y B = {4, 5, 6, 7, 8}, calcula:"
   ]
  },
  {
   "cell_type": "code",
   "execution_count": 28,
   "id": "58619bd9",
   "metadata": {},
   "outputs": [
    {
     "name": "stdout",
     "output_type": "stream",
     "text": [
      "A ∪ B = {1, 2, 3, 4, 5, 6, 7, 8}\n",
      "A ∩ B = {4, 5}\n",
      "A - B = {1, 2, 3}\n",
      "B - A = {8, 6, 7}\n",
      "A △ B = {1, 2, 3, 6, 7, 8}\n"
     ]
    }
   ],
   "source": [
    "A = {1, 2, 3, 4, 5}\n",
    "B = {4, 5, 6, 7, 8}\n",
    "\n",
    "# Completa aquí:\n",
    "print(f\"A ∪ B = {A.union(B)}\")  # Tu respuesta\n",
    "print(f\"A ∩ B = {A.intersection(B)}\")  # Tu respuesta\n",
    "print(f\"A - B = {A.difference(B)}\")  # Tu respuesta\n",
    "print(f\"B - A = {B.difference(A)}\")  # Tu respuesta\n",
    "print(f\"A △ B = {A.symmetric_difference(B)}\")  # Tu respuesta"
   ]
  },
  {
   "cell_type": "markdown",
   "id": "d67ef338",
   "metadata": {},
   "source": [
    "### **Ejercicio 2: Cartas**\n",
    "En una baraja de cartas, define conjuntos para:"
   ]
  },
  {
   "cell_type": "code",
   "execution_count": 29,
   "id": "36be3092",
   "metadata": {},
   "outputs": [
    {
     "name": "stdout",
     "output_type": "stream",
     "text": [
      "Figuras rojas: {'♥Q', '♦K', '♥J', '♥K', '♦J', '♦Q'}\n",
      "Números negros: {'♠8', '♣7', '♣2', '♠4', '♠5', '♠7', '♣A', '♣6', '♠3', '♣4', '♣8', '♠9', '♠2', '♣10', '♣3', '♣9', '♠6', '♣5', '♠10', '♠A'}\n",
      "¿Son disjuntos rojas y negras? True\n"
     ]
    }
   ],
   "source": [
    "# Define los conjuntos\n",
    "cartas_rojas = {\"♥A\", \"♥2\", \"♥3\", \"♥4\", \"♥5\", \"♥6\", \"♥7\", \"♥8\", \"♥9\", \"♥10\", \"♥J\", \"♥Q\", \"♥K\",\n",
    "\t\t\t\t\"♦A\", \"♦2\", \"♦3\", \"♦4\", \"♦5\", \"♦6\", \"♦7\", \"♦8\", \"♦9\", \"♦10\", \"♦J\", \"♦Q\", \"♦K\"}\n",
    "cartas_negras = {\"♠A\", \"♠2\", \"♠3\", \"♠4\", \"♠5\", \"♠6\", \"♠7\", \"♠8\", \"♠9\", \"♠10\", \"♠J\", \"♠Q\", \"♠K\",\n",
    "\t\t\t\t \"♣A\", \"♣2\", \"♣3\", \"♣4\", \"♣5\", \"♣6\", \"♣7\", \"♣8\", \"♣9\", \"♣10\", \"♣J\", \"♣Q\", \"♣K\"}\n",
    "figuras = {\"♥J\", \"♥Q\", \"♥K\", \"♦J\", \"♦Q\", \"♦K\", \"♠J\", \"♠Q\", \"♠K\", \"♣J\", \"♣Q\", \"♣K\"}\n",
    "numeros = {\"♥A\", \"♥2\", \"♥3\", \"♥4\", \"♥5\", \"♥6\", \"♥7\", \"♥8\", \"♥9\", \"♥10\",\n",
    "\t\t   \"♦A\", \"♦2\", \"♦3\", \"♦4\", \"♦5\", \"♦6\", \"♦7\", \"♦8\", \"♦9\", \"♦10\",\n",
    "\t\t   \"♠A\", \"♠2\", \"♠3\", \"♠4\", \"♠5\", \"♠6\", \"♠7\", \"♠8\", \"♠9\", \"♠10\",\n",
    "\t\t   \"♣A\", \"♣2\", \"♣3\", \"♣4\", \"♣5\", \"♣6\", \"♣7\", \"♣8\", \"♣9\", \"♣10\"}\n",
    "\n",
    "# Calcula:\n",
    "figuras_rojas = figuras.intersection(cartas_rojas)\n",
    "numeros_negros = numeros.intersection(cartas_negras)\n",
    "\n",
    "print(f\"Figuras rojas: {figuras_rojas}\")\n",
    "print(f\"Números negros: {numeros_negros}\")\n",
    "print(f\"¿Son disjuntos rojas y negras? {cartas_rojas.isdisjoint(cartas_negras)}\")"
   ]
  },
  {
   "cell_type": "markdown",
   "id": "ebf36375",
   "metadata": {},
   "source": [
    "## **8. Consejos y Buenas Prácticas**"
   ]
  },
  {
   "cell_type": "markdown",
   "id": "fb814010",
   "metadata": {},
   "source": [
    "### **8.1 Para Visualización Ordenada**"
   ]
  },
  {
   "cell_type": "code",
   "execution_count": 30,
   "id": "4c38c43e",
   "metadata": {},
   "outputs": [
    {
     "name": "stdout",
     "output_type": "stream",
     "text": [
      "A = {1, 2, 3, 4, 5}\n",
      "B = {3, 4}\n",
      "A ∩ B = {3, 4}\n",
      "A - B = {1, 2, 5}\n"
     ]
    }
   ],
   "source": [
    "def mostrar_conjunto_ordenado(conjunto, nombre=\"Conjunto\"):\n",
    "    \"\"\"Muestra un conjunto de forma ordenada para mejor legibilidad\"\"\"\n",
    "    if conjunto:\n",
    "        ordenado = set(sorted(conjunto))\n",
    "        print(f\"{nombre} = {ordenado}\")\n",
    "    else:\n",
    "        print(f\"{nombre} = ∅ (conjunto vacío)\")\n",
    "\n",
    "# Ejemplo de uso\n",
    "A = {5, 1, 3, 2, 4}\n",
    "B = {3, 4}\n",
    "interseccion = A.intersection(B)\n",
    "diferencia = A - B\n",
    "\n",
    "mostrar_conjunto_ordenado(A, \"A\")\n",
    "mostrar_conjunto_ordenado(B, \"B\")\n",
    "mostrar_conjunto_ordenado(interseccion, \"A ∩ B\")\n",
    "mostrar_conjunto_ordenado(diferencia, \"A - B\")"
   ]
  },
  {
   "cell_type": "markdown",
   "id": "5b9e221f",
   "metadata": {},
   "source": [
    "### **8.2 Verificación de Propiedades**"
   ]
  },
  {
   "cell_type": "code",
   "execution_count": 32,
   "id": "929f16d1",
   "metadata": {},
   "outputs": [
    {
     "name": "stdout",
     "output_type": "stream",
     "text": [
      "=== VERIFICACIÓN DE PROPIEDADES ===\n",
      "Conmutatividad unión: A ∪ B = B ∪ A? True\n",
      "Conmutatividad intersección: A ∩ B = B ∩ A? True\n",
      "Ley De Morgan 1: (A ∪ B)^C = A^C ∩ B^C? True\n",
      "Ley De Morgan 2: (A ∩ B)^C = A^C ∪ B^C? True\n"
     ]
    }
   ],
   "source": [
    "def verificar_propiedades_conjuntos(A, B, Omega=None):\n",
    "    \"\"\"Verifica propiedades básicas de los conjuntos\"\"\"\n",
    "    print(\"=== VERIFICACIÓN DE PROPIEDADES ===\")\n",
    "    \n",
    "    # Conmutatividad\n",
    "    union_AB = A.union(B)\n",
    "    union_BA = B.union(A)\n",
    "    print(f\"Conmutatividad unión: A ∪ B = B ∪ A? {union_AB == union_BA}\")\n",
    "    \n",
    "    interseccion_AB = A.intersection(B)\n",
    "    interseccion_BA = B.intersection(A)\n",
    "    print(f\"Conmutatividad intersección: A ∩ B = B ∩ A? {interseccion_AB == interseccion_BA}\")\n",
    "    \n",
    "    # Leyes de De Morgan (si se proporciona Omega)\n",
    "    if Omega:\n",
    "        A_comp = Omega - A\n",
    "        B_comp = Omega - B\n",
    "        \n",
    "        # (A ∪ B)^C = A^C ∩ B^C\n",
    "        ley1_izq = Omega - A.union(B)\n",
    "        ley1_der = A_comp.intersection(B_comp)\n",
    "        print(f\"Ley De Morgan 1: (A ∪ B)^C = A^C ∩ B^C? {ley1_izq == ley1_der}\")\n",
    "        \n",
    "        # (A ∩ B)^C = A^C ∪ B^C\n",
    "        ley2_izq = Omega - A.intersection(B)\n",
    "        ley2_der = A_comp.union(B_comp)\n",
    "        print(f\"Ley De Morgan 2: (A ∩ B)^C = A^C ∪ B^C? {ley2_izq == ley2_der}\")\n",
    "\n",
    "# Ejemplo\n",
    "A = {1, 2, 3}\n",
    "B = {3, 4, 5}\n",
    "Omega = {1, 2, 3, 4, 5, 6}\n",
    "\n",
    "verificar_propiedades_conjuntos(A, B, Omega)"
   ]
  },
  {
   "cell_type": "markdown",
   "id": "25c8eacd",
   "metadata": {},
   "source": [
    "## **9. Resumen de Métodos y Operadores**"
   ]
  },
  {
   "cell_type": "markdown",
   "id": "1a584826",
   "metadata": {},
   "source": [
    "| Operación | Método | Operador | Descripción |\n",
    "|-----------|--------|----------|-------------|\n",
    "| Unión | `A.union(B)` | `A \\| B` | Elementos en A o B o ambos |\n",
    "| Intersección | `A.intersection(B)` | `A & B` | Elementos en A y B |\n",
    "| Diferencia | `A.difference(B)` | `A - B` | Elementos en A pero no en B |\n",
    "| Diferencia simétrica | `A.symmetric_difference(B)` | `A ^ B` | Elementos en A o B, pero no en ambos |\n",
    "| Subconjunto | `A.issubset(B)` | `A <= B` | ¿Todos los elementos de A están en B? |\n",
    "| Subconjunto propio | `A.issubset(B) and A != B` | `A < B` | ¿A ⊆ B y A ≠ B? |\n",
    "| Superconjunto | `A.issuperset(B)` | `A >= B` | ¿Todos los elementos de B están en A? |\n",
    "| Superconjunto propio | `A.issuperset(B) and A != B` | `A > B` | ¿A ⊇ B y A ≠ B? |\n",
    "| Disjuntos | `A.isdisjoint(B)` | - | ¿A ∩ B = ∅? |\n",
    "| Membresía | - | `x in A` | ¿x está en A? |\n",
    "| No membresía | - | `x not in A` | ¿x no está en A? |\n",
    "| Tamaño | `len(A)` | - | Número de elementos en A |\n",
    "| Conjunto vacío | `len(A) == 0` | `not A` | ¿A está vacío? |\n",
    "| Copia | `A.copy()` | `set(A)` | Crear una copia del conjunto A |"
   ]
  },
  {
   "cell_type": "markdown",
   "id": "9c6f17e3",
   "metadata": {},
   "source": [
    "## **10. Recursos Adicionales**\n",
    "\n",
    "### **Documentación oficial:**\n",
    "- [Built-in Types - Set Types](https://docs.python.org/3/library/stdtypes.html#set-types-set-frozenset)\n",
    "- [Tutorial de sets](https://docs.python.org/3/tutorial/datastructures.html#sets)\n",
    "\n",
    "### **Para profundizar:**\n",
    "- **frozenset**: Versión inmutable de sets\n",
    "- **collections.Counter**: Para conjuntos con repeticiones\n",
    "- **itertools**: Para operaciones avanzadas con iterables\n",
    "\n",
    "---\n",
    "\n",
    "**¡Esta guía te ayudará a dominar el manejo de conjuntos en Python para tus estudios de Estadística!**"
   ]
  }
 ],
 "metadata": {
  "kernelspec": {
   "display_name": ".venv",
   "language": "python",
   "name": "python3"
  },
  "language_info": {
   "codemirror_mode": {
    "name": "ipython",
    "version": 3
   },
   "file_extension": ".py",
   "mimetype": "text/x-python",
   "name": "python",
   "nbconvert_exporter": "python",
   "pygments_lexer": "ipython3",
   "version": "3.12.3"
  }
 },
 "nbformat": 4,
 "nbformat_minor": 5
}
