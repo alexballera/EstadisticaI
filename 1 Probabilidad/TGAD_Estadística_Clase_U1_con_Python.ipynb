{
  "cells": [
    {
      "cell_type": "markdown",
      "metadata": {
        "colab_type": "text",
        "id": "view-in-github"
      },
      "source": [
        "<a href=\"https://colab.research.google.com/github/TGADEstadisticaI/EstadisticaI/blob/main/1%20Probabilidad/TGAD_Estad%C3%ADstica_Clase_U1_con_Python.ipynb\" target=\"_parent\"><img src=\"https://colab.research.google.com/assets/colab-badge.svg\" alt=\"Open In Colab\"/></a>"
      ]
    },
    {
      "cell_type": "markdown",
      "metadata": {
        "id": "drvDSfWaaYWS"
      },
      "source": [
        "<figure>\n",
        "<center>\n",
        "<img src='https://www.economicas.uba.ar/wp-content/uploads/2020/08/cropped-logo_FCE.png' />\n",
        "</figure>"
      ]
    },
    {
      "cell_type": "markdown",
      "metadata": {
        "id": "eMuYyGo7uqxJ"
      },
      "source": [
        "# **Universidad de Buenos Aires**\n",
        "## **Facultad de Ciencias Económicas**\n",
        "\n",
        "### **Estadística I**\n",
        "\n",
        "### Cátedra: Bianco\n",
        "\n",
        "#### **U1 probabilidad Ejemplos de Clase con Python**\n",
        "\n",
        "***Material elaborado por la profesora Natalia Salaberry***"
      ]
    },
    {
      "cell_type": "markdown",
      "metadata": {
        "id": "x1VhSHZj2Nsn"
      },
      "source": [
        "### **Librerías**"
      ]
    },
    {
      "cell_type": "code",
      "execution_count": 2,
      "metadata": {
        "id": "zEqbGveEk4kx"
      },
      "outputs": [],
      "source": [
        "from itertools import product\n",
        "from IPython.display import display, Math"
      ]
    },
    {
      "cell_type": "code",
      "execution_count": 3,
      "metadata": {
        "colab": {
          "base_uri": "https://localhost:8080/"
        },
        "id": "o4Y_RbBSFiu6",
        "outputId": "ecb154cc-9f67-4652-c906-41c1885ee549"
      },
      "outputs": [
        {
          "name": "stdout",
          "output_type": "stream",
          "text": [
            "Requirement already satisfied: anytree in /home/alexballera/Documents/uba/EstadisticaI/.venv/lib/python3.12/site-packages (2.13.0)\n",
            "Requirement already satisfied: graphviz in /home/alexballera/Documents/uba/EstadisticaI/.venv/lib/python3.12/site-packages (0.21)\n",
            "Note: you may need to restart the kernel to use updated packages.\n"
          ]
        }
      ],
      "source": [
        "%pip install anytree graphviz"
      ]
    },
    {
      "cell_type": "code",
      "execution_count": 4,
      "metadata": {
        "id": "WndLOljIFreE"
      },
      "outputs": [],
      "source": [
        "from anytree import Node\n",
        "from anytree.exporter import DotExporter\n",
        "from graphviz import Source\n"
      ]
    },
    {
      "cell_type": "markdown",
      "metadata": {
        "id": "xuzGIEa_lH4Z"
      },
      "source": [
        "### Ejemplo 1"
      ]
    },
    {
      "cell_type": "markdown",
      "metadata": {
        "id": "hQKnDwDljpHz"
      },
      "source": [
        "Si se tira un dado,\n",
        "\n",
        "El espacio muestral son los posibles resultados 𝜴 = {𝟏; 𝟐; 𝟑; 𝟒; 𝟓; 𝟔}\n",
        "\n",
        "El evento A: \"sale el numero 3\" es un evento simple => 𝐀 = {𝟑}\n",
        "\n",
        "El evento B: \"sale el numero impar\" es un evento compuesto => 𝐁 = {𝟏; 𝟑; 𝟓}\n",
        "\n",
        "El evento C: \"sale un numero par\" es un evento compuesto => 𝑪 = {𝟐; 𝟒; 𝟔}"
      ]
    },
    {
      "cell_type": "markdown",
      "metadata": {
        "id": "CQmlCgou6ZDo"
      },
      "source": [
        "Podemos definir nuevos eventos que se obtienen al aplicar las siguientes operaciones"
      ]
    },
    {
      "cell_type": "code",
      "execution_count": 10,
      "metadata": {
        "colab": {
          "base_uri": "https://localhost:8080/",
          "height": 521
        },
        "collapsed": true,
        "id": "-W44cu8HiELH",
        "outputId": "923f983e-aa6f-405f-97b3-396f46e5faae"
      },
      "outputs": [
        {
          "name": "stdout",
          "output_type": "stream",
          "text": [
            "Dados los eventos:\n",
            "A: 'sale el número 3' = {3}\n",
            "B: 'sale número impar' = {1, 3, 5}\n",
            "C: 'sale número par' = {2, 4, 6}\n",
            "Ω: 'espacio muestral' = {1, 2, 3, 4, 5, 6}\n",
            "==================================================\n"
          ]
        },
        {
          "data": {
            "text/latex": [
              "$\\displaystyle A \\cup B=$"
            ],
            "text/plain": [
              "<IPython.core.display.Math object>"
            ]
          },
          "metadata": {},
          "output_type": "display_data"
        },
        {
          "name": "stdout",
          "output_type": "stream",
          "text": [
            "✓ Su respuesta: A ∪ B = 1,3,5\n",
            "\n"
          ]
        },
        {
          "data": {
            "text/latex": [
              "$\\displaystyle A \\cap B=$"
            ],
            "text/plain": [
              "<IPython.core.display.Math object>"
            ]
          },
          "metadata": {},
          "output_type": "display_data"
        },
        {
          "name": "stdout",
          "output_type": "stream",
          "text": [
            "✓ Su respuesta: A ∩ B = vacío\n",
            "\n"
          ]
        },
        {
          "data": {
            "text/latex": [
              "$\\displaystyle A \\cup C=$"
            ],
            "text/plain": [
              "<IPython.core.display.Math object>"
            ]
          },
          "metadata": {},
          "output_type": "display_data"
        },
        {
          "name": "stdout",
          "output_type": "stream",
          "text": [
            "✓ Su respuesta: A ∪ C = 2,3,4,6\n",
            "\n"
          ]
        },
        {
          "data": {
            "text/latex": [
              "$\\displaystyle A \\cap C=$"
            ],
            "text/plain": [
              "<IPython.core.display.Math object>"
            ]
          },
          "metadata": {},
          "output_type": "display_data"
        },
        {
          "name": "stdout",
          "output_type": "stream",
          "text": [
            "✓ Su respuesta: A ∩ C = vacío\n",
            "\n"
          ]
        },
        {
          "data": {
            "text/latex": [
              "$\\displaystyle B \\cup C=$"
            ],
            "text/plain": [
              "<IPython.core.display.Math object>"
            ]
          },
          "metadata": {},
          "output_type": "display_data"
        },
        {
          "name": "stdout",
          "output_type": "stream",
          "text": [
            "✓ Su respuesta: B ∪ C = 1,2,3,4,5,6\n",
            "\n"
          ]
        },
        {
          "data": {
            "text/latex": [
              "$\\displaystyle B \\cap C=$"
            ],
            "text/plain": [
              "<IPython.core.display.Math object>"
            ]
          },
          "metadata": {},
          "output_type": "display_data"
        },
        {
          "name": "stdout",
          "output_type": "stream",
          "text": [
            "✓ Su respuesta: B ∩ C = vacío\n",
            "\n"
          ]
        },
        {
          "data": {
            "text/latex": [
              "$\\displaystyle A^C =$"
            ],
            "text/plain": [
              "<IPython.core.display.Math object>"
            ]
          },
          "metadata": {},
          "output_type": "display_data"
        },
        {
          "name": "stdout",
          "output_type": "stream",
          "text": [
            "✓ Su respuesta: A^C = 1,2,4,5,6\n",
            "\n"
          ]
        },
        {
          "data": {
            "text/latex": [
              "$\\displaystyle B^C =$"
            ],
            "text/plain": [
              "<IPython.core.display.Math object>"
            ]
          },
          "metadata": {},
          "output_type": "display_data"
        },
        {
          "name": "stdout",
          "output_type": "stream",
          "text": [
            "✓ Su respuesta: B^C = 2,4,6\n",
            "\n"
          ]
        },
        {
          "data": {
            "text/latex": [
              "$\\displaystyle C^C =$"
            ],
            "text/plain": [
              "<IPython.core.display.Math object>"
            ]
          },
          "metadata": {},
          "output_type": "display_data"
        },
        {
          "name": "stdout",
          "output_type": "stream",
          "text": [
            "✓ Su respuesta: C^C = 1,3,5\n",
            "\n",
            "==================================================\n",
            "RESUMEN DE SUS RESPUESTAS:\n",
            "==================================================\n",
            "A ∪ B = 1,3,5\n",
            "A ∩ B = vacío\n",
            "A ∪ C = 2,3,4,6\n",
            "A ∩ C = vacío\n",
            "B ∪ C = 1,2,3,4,5,6\n",
            "B ∩ C = vacío\n",
            "A^C = 1,2,4,5,6\n",
            "B^C = 2,4,6\n",
            "C^C = 1,3,5\n"
          ]
        }
      ],
      "source": [
        "# Ejercicio interactivo: Operaciones con eventos\n",
        "# A = {3}, B = {1, 3, 5}, C = {2, 4, 6}\n",
        "\n",
        "print(\"Dados los eventos:\")\n",
        "print(\"A: 'sale el número 3' = {3}\")\n",
        "print(\"B: 'sale número impar' = {1, 3, 5}\")  \n",
        "print(\"C: 'sale número par' = {2, 4, 6}\")\n",
        "print(\"Ω: 'espacio muestral' = {1, 2, 3, 4, 5, 6}\")\n",
        "print(\"=\" * 50)\n",
        "\n",
        "display(Math(r'A \\cup B='))\n",
        "union_A_B = input('Ingrese el resultado de A ∪ B: ')\n",
        "print(f'✓ Su respuesta: A ∪ B = {union_A_B}')\n",
        "print()\n",
        "\n",
        "display(Math(r'A \\cap B='))\n",
        "interseccion_A_B = input('Ingrese el resultado de A ∩ B: ')\n",
        "print(f'✓ Su respuesta: A ∩ B = {interseccion_A_B}')\n",
        "print()\n",
        "\n",
        "display(Math(r'A \\cup C='))\n",
        "union_A_C = input('Ingrese el resultado de A ∪ C: ')\n",
        "print(f'✓ Su respuesta: A ∪ C = {union_A_C}')\n",
        "print()\n",
        "\n",
        "display(Math(r'A \\cap C='))\n",
        "interseccion_A_C = input('Ingrese el resultado de A ∩ C: ')\n",
        "print(f'✓ Su respuesta: A ∩ C = {interseccion_A_C}')\n",
        "print()\n",
        "\n",
        "display(Math(r'B \\cup C='))\n",
        "union_B_C = input('Ingrese el resultado de B ∪ C: ')\n",
        "print(f'✓ Su respuesta: B ∪ C = {union_B_C}')\n",
        "print()\n",
        "\n",
        "display(Math(r'B \\cap C='))\n",
        "interseccion_B_C = input('Ingrese el resultado de B ∩ C: ')\n",
        "print(f'✓ Su respuesta: B ∩ C = {interseccion_B_C}')\n",
        "print()\n",
        "\n",
        "display(Math(r'A^C ='))\n",
        "complemento_A = input('Ingrese el complemento de A: ')\n",
        "print(f'✓ Su respuesta: A^C = {complemento_A}')\n",
        "print()\n",
        "\n",
        "display(Math(r'B^C ='))\n",
        "complemento_B = input('Ingrese el complemento de B: ')\n",
        "print(f'✓ Su respuesta: B^C = {complemento_B}')\n",
        "print()\n",
        "\n",
        "display(Math(r'C^C ='))\n",
        "complemento_C = input('Ingrese el complemento de C: ')\n",
        "print(f'✓ Su respuesta: C^C = {complemento_C}')\n",
        "print()\n",
        "\n",
        "print(\"=\" * 50)\n",
        "print(\"RESUMEN DE SUS RESPUESTAS:\")\n",
        "print(\"=\" * 50)\n",
        "print(f\"A ∪ B = {union_A_B}\")\n",
        "print(f\"A ∩ B = {interseccion_A_B}\")\n",
        "print(f\"A ∪ C = {union_A_C}\")\n",
        "print(f\"A ∩ C = {interseccion_A_C}\")\n",
        "print(f\"B ∪ C = {union_B_C}\")\n",
        "print(f\"B ∩ C = {interseccion_B_C}\")\n",
        "print(f\"A^C = {complemento_A}\")\n",
        "print(f\"B^C = {complemento_B}\")\n",
        "print(f\"C^C = {complemento_C}\")"
      ]
    },
    {
      "cell_type": "code",
      "execution_count": null,
      "metadata": {},
      "outputs": [
        {
          "name": "stdout",
          "output_type": "stream",
          "text": [
            "RESPUESTAS CORRECTAS:\n",
            "==================================================\n",
            "A ∪ B = {1, 3, 5} = {1, 3, 5}\n",
            "A ∩ B = {3} = {3}\n",
            "A ∪ C = {2, 3, 4, 6} = {2, 3, 4, 6}\n",
            "A ∩ C = set() = ∅ (conjunto vacío)\n",
            "B ∪ C = {1, 2, 3, 4, 5, 6} = {1, 2, 3, 4, 5, 6}\n",
            "B ∩ C = set() = ∅ (conjunto vacío)\n",
            "A^C = {1, 2, 4, 5, 6} = {1, 2, 4, 5, 6}\n",
            "B^C = {2, 4, 6} = {2, 4, 6}\n",
            "C^C = {1, 3, 5} = {1, 3, 5}\n",
            "\n",
            "Recuerda:\n",
            "• La unión (∪) incluye todos los elementos que están en al menos uno de los conjuntos\n",
            "• La intersección (∩) incluye solo los elementos que están en ambos conjuntos\n",
            "• El complemento (^C) incluye todos los elementos del espacio muestral que NO están en el conjunto\n"
          ]
        }
      ],
      "source": [
        "# RESPUESTAS CORRECTAS\n",
        "print(\"RESPUESTAS CORRECTAS:\")\n",
        "print(\"=\" * 50)\n",
        "\n",
        "# Definimos los eventos para verificación\n",
        "A = {3}\n",
        "B = {1, 3, 5}\n",
        "C = {2, 4, 6}\n",
        "Omega = {1, 2, 3, 4, 5, 6}\n",
        "\n",
        "print(f\"A ∪ B = {A.union(B)} = {set(sorted(A.union(B)))}\")\n",
        "print(f\"A ∩ B = {A.intersection(B)} = {set(sorted(A.intersection(B))) if A.intersection(B) else '∅ (conjunto vacío)'}\")\n",
        "print(f\"A ∪ C = {A.union(C)} = {set(sorted(A.union(C)))}\")\n",
        "print(f\"A ∩ C = {A.intersection(C)} = {set(sorted(A.intersection(C))) if A.intersection(C) else '∅ (conjunto vacío)'}\")\n",
        "print(f\"B ∪ C = {B.union(C)} = {set(sorted(B.union(C)))}\")\n",
        "print(f\"B ∩ C = {B.intersection(C)} = {set(sorted(B.intersection(C))) if B.intersection(C) else '∅ (conjunto vacío)'}\")\n",
        "print(f\"A^C = {Omega - A} = {set(sorted(Omega - A))}\")\n",
        "print(f\"B^C = {Omega - B} = {set(sorted(Omega - B))}\")\n",
        "print(f\"C^C = {Omega - C} = {set(sorted(Omega - C))}\")\n",
        "\n",
        "print()\n",
        "print(\"Recuerda:\")\n",
        "print(\"• La unión (∪) incluye todos los elementos que están en al menos uno de los conjuntos\")\n",
        "print(\"• La intersección (∩) incluye solo los elementos que están en ambos conjuntos\")\n",
        "print(\"• El complemento (^C) incluye todos los elementos del espacio muestral que NO están en el conjunto\")"
      ]
    },
    {
      "cell_type": "markdown",
      "metadata": {
        "id": "DNKuIhzLlR_4"
      },
      "source": [
        "### Ejercicio 2"
      ]
    },
    {
      "cell_type": "markdown",
      "metadata": {
        "id": "dou5o6bSl3fc"
      },
      "source": [
        "Se tiran dos dados. Calcular la probabilidad de los siguientes eventos:\n",
        "\n",
        "1. Evento A: “Salen dos números iguales”\n",
        "\n",
        "2. Evento B: “El segundo número es mayor estricto que el primero”\n",
        "\n",
        "3. Evento C: “La suma de los dados es 6”\n",
        "\n",
        "Definimos el espacio muestral:"
      ]
    },
    {
      "cell_type": "code",
      "execution_count": null,
      "metadata": {
        "colab": {
          "base_uri": "https://localhost:8080/",
          "height": 96
        },
        "collapsed": true,
        "id": "TskB9MnRlXf7",
        "outputId": "3285b0ab-aede-4a3f-cba5-665af6940d60"
      },
      "outputs": [],
      "source": [
        "espacio_muestral_b = list(product(range(1, 7), repeat=2))\n",
        "print(\"El espacio muestral es:\")\n",
        "display(Math('\\Omega ='+str(espacio_muestral_b)))"
      ]
    },
    {
      "cell_type": "code",
      "execution_count": null,
      "metadata": {
        "colab": {
          "base_uri": "https://localhost:8080/",
          "height": 109
        },
        "collapsed": true,
        "id": "tXO91TL9AFY2",
        "outputId": "0175f285-8f2d-45e2-f340-a9a942bbeb03"
      },
      "outputs": [],
      "source": [
        "display(Math(r'Casos \\thinspace favorables = \\{ (1,1);(2,2);(3,3);(4,4);(5,5);(6,6) \\}'))\n",
        "print('')\n",
        "display(Math(r'P(A) = {6 \\over 36} = {1 \\over 6} \\simeq '+str(round(6/36,2))))\n",
        "print('Rta: la probabilidad de obtener dos números iguales al tirar dos dados es aproximadamente 17%')"
      ]
    },
    {
      "cell_type": "code",
      "execution_count": null,
      "metadata": {
        "colab": {
          "base_uri": "https://localhost:8080/",
          "height": 109
        },
        "collapsed": true,
        "id": "3DEw6SGaBrky",
        "outputId": "a6a1ffb6-f54b-439c-abe8-465cb0f16ba3"
      },
      "outputs": [],
      "source": [
        "display(Math(r'Casos \\thinspace favorables = \\{ (1,2);(1,3);(1,4);(1,5);(1,6);(2,3);(2,4);(2,5);(2,6);(3,4);(3,5);(3,6);(4,5);(4,6);(5,6) \\}'))\n",
        "print('')\n",
        "display(Math(r'P(B) = {15 \\over 36} \\simeq '+str(round(15/36,2))))\n",
        "print('Rta: la probabilidad de obtener el segundo número mayor que el primero es aproximadamente 42%')"
      ]
    },
    {
      "cell_type": "code",
      "execution_count": null,
      "metadata": {
        "colab": {
          "base_uri": "https://localhost:8080/",
          "height": 109
        },
        "collapsed": true,
        "id": "vrKSnpz9BrVs",
        "outputId": "1fe0efcc-c8dc-4b6a-e28b-4ed7be3927e2"
      },
      "outputs": [],
      "source": [
        "display(Math(r'Casos \\thinspace favorables = \\{ (1,5);(2,4);(3,3);(4,2);(5,1) \\}'))\n",
        "print('')\n",
        "display(Math(r'P(C) = {5 \\over 36} \\simeq '+str(round(5/36,2))))\n",
        "print('Rta: la probabilidad de que al suma de los dados sea 6 es aproximadamente 14%')"
      ]
    },
    {
      "cell_type": "markdown",
      "metadata": {
        "id": "pB421Hdolj2W"
      },
      "source": [
        "### Ejemplo 3"
      ]
    },
    {
      "cell_type": "markdown",
      "metadata": {
        "id": "xOAf6tQQm4y-"
      },
      "source": [
        "Ejemplo: En un grupo de 100 individuos, 30 son contadores, 20 administradores, 15 economistas, 8 actuarios, 5 profesionales de sistemas de información y 22 no tienen profesión. Para un individuo elegido al azar, calcular la probabilidad de los siguientes\n",
        "eventos:\n",
        "\n",
        "1. Evento A: “Tiene profesión”\n",
        "\n",
        "2. Evento B: “No tiene profesión”\n",
        "\n",
        "3. Evento C: “Es administrador”"
      ]
    },
    {
      "cell_type": "code",
      "execution_count": null,
      "metadata": {
        "colab": {
          "base_uri": "https://localhost:8080/",
          "height": 179
        },
        "collapsed": true,
        "id": "SGOaH0O2GvQ4",
        "outputId": "9fd6ae52-6455-48a8-8b1a-2523547689a8"
      },
      "outputs": [],
      "source": [
        "display(Math(r'Casos \\thinspace favorables = \\{ 30;20;15;8;5 \\}'))\n",
        "print('')\n",
        "display(Math(r'P(A) = {30+20+15+8+5 \\over 100} = '+str(round(78/100,2))))\n",
        "print('Rta: la probabilidad de que tenga profesión es 78%')\n",
        "print('')\n",
        "print('también podríamos plantear')\n",
        "display(Math(r'P(A) = {100-22 \\over 100} = '+str(round(78/100,2))))"
      ]
    },
    {
      "cell_type": "code",
      "execution_count": null,
      "metadata": {
        "colab": {
          "base_uri": "https://localhost:8080/",
          "height": 167
        },
        "collapsed": true,
        "id": "Vi4wy3J_Juj9",
        "outputId": "088b02a9-2295-4fa1-cb3f-6ff73592db68"
      },
      "outputs": [],
      "source": [
        "display(Math(r'Casos \\thinspace favorables = \\{ 22 \\}'))\n",
        "print('')\n",
        "display(Math(r'P(B) = {22 \\over 100} = '+str(round(22/100,2))))\n",
        "print('Rta: la probabilidad de que no tenga profesión es 22%')\n",
        "print('')\n",
        "print('también podríamos plantear')\n",
        "display(Math(r'P(A) = 1-P(A) = 1-0.78 = '+str(round(1-0.78,2))))"
      ]
    },
    {
      "cell_type": "code",
      "execution_count": null,
      "metadata": {
        "colab": {
          "base_uri": "https://localhost:8080/",
          "height": 109
        },
        "collapsed": true,
        "id": "PxhiqX4LJlsr",
        "outputId": "d68c503b-c096-43d0-cbef-cf6e0887445e"
      },
      "outputs": [],
      "source": [
        "display(Math(r'Casos \\thinspace favorables = \\{ 20 \\}'))\n",
        "print('')\n",
        "display(Math(r'P(C) = {20 \\over 100} = '+str(round(20/100,2))))\n",
        "print('Rta: la probabilidad de que sea administrador es 20%')"
      ]
    },
    {
      "cell_type": "markdown",
      "metadata": {
        "id": "Pmj3J6K4l2ta"
      },
      "source": [
        "### Ejemplo 4"
      ]
    },
    {
      "cell_type": "markdown",
      "metadata": {
        "id": "UIIXuOqWQ4v2"
      },
      "source": [
        "Consideremos los datos\n",
        "acerca de la distribución por\n",
        "grupos quinquenales de la\n",
        "población argentina en el\n",
        "año 2019, publicados por el\n",
        "INDEC. La población total fue\n",
        "de 44.938.712 de habitantes:\n",
        "\n",
        "\\begin{equation}\n",
        "\\begin{array}{|c|c|}\n",
        "    \\hline\n",
        "    Edad & Frecuencia \\\\\n",
        "    \\hline\n",
        "    0-4 & 3.726.162  \\\\\n",
        "    \\hline\n",
        "    5-9 & 3.743.931 \\\\\n",
        "    \\hline\n",
        "    10-14 & 3.542.513  \\\\\n",
        "    \\hline\n",
        "    15-19 & 3.508.965  \\\\\n",
        "    \\hline\n",
        "    20-24 & 3.548.389  \\\\\n",
        "    \\hline\n",
        "    25-29 & 3.522.333  \\\\\n",
        "    \\hline\n",
        "    30-34 & 3.287.553  \\\\\n",
        "    \\hline\n",
        "    35-39 & 3.141.871  \\\\\n",
        "    \\hline\n",
        "    40-44 & 3.027.334  \\\\\n",
        "    \\hline\n",
        "    45-49 & 2.579.461  \\\\\n",
        "    \\hline\n",
        "    50 y más & 11.310.200  \\\\\n",
        "    \\hline\n",
        "\\end{array}\n",
        "\\end{equation}\n",
        "\n",
        "Si elegimos al azar un habitante de Argentina, calcular:\n",
        "\n",
        "A) Evento A: La probabilidad de que tenga entre 20 y 24 años\n",
        "\n",
        "B) Evento B: La probabilidad de que tenga menos de 15 años\n",
        "\n",
        "C) Evento C: La probabilidad de que tenga entre 40 y 50 años"
      ]
    },
    {
      "cell_type": "code",
      "execution_count": null,
      "metadata": {
        "colab": {
          "base_uri": "https://localhost:8080/",
          "height": 69
        },
        "collapsed": true,
        "id": "pWdO-IWXQJIL",
        "outputId": "4ac28971-fda0-416f-e450-7a1a81a16b7c"
      },
      "outputs": [],
      "source": [
        "display(Math(r'P(A) = {3548389 \\over 44938712} = '+str(round(3548389/44938712,2))))\n",
        "print('Rta: La probabilidad de que tenga entre 20 y 24 años es 8%')"
      ]
    },
    {
      "cell_type": "code",
      "execution_count": null,
      "metadata": {
        "colab": {
          "base_uri": "https://localhost:8080/",
          "height": 69
        },
        "collapsed": true,
        "id": "KJC4EfNMVBtC",
        "outputId": "bbd97ba2-47f9-4e10-e430-94d09325390e"
      },
      "outputs": [],
      "source": [
        "display(Math(r'P(B) = {3726162 + 3743931 + 3542513 \\over 44938712} = '+str(round((3726162 + 3743931 + 3542513)/44938712,2))))\n",
        "print('Rta: La probabilidad de que tenga menos de 15 años es 25%')"
      ]
    },
    {
      "cell_type": "code",
      "execution_count": null,
      "metadata": {
        "colab": {
          "base_uri": "https://localhost:8080/",
          "height": 69
        },
        "collapsed": true,
        "id": "OFYa2GJtUytO",
        "outputId": "e45417d6-d528-4eee-8bb1-89a65a91694d"
      },
      "outputs": [],
      "source": [
        "display(Math(r'P(C) = {3027334 +2579461 \\over 44938712} = '+str(round((3027334 +2579461)/44938712,2))))\n",
        "print('Rta: La probabilidad de que tenga entre 40 y 50 años es 12%')"
      ]
    },
    {
      "cell_type": "markdown",
      "metadata": {
        "id": "QO7AG8LMmMtG"
      },
      "source": [
        "### Ejemplo 5"
      ]
    },
    {
      "cell_type": "markdown",
      "metadata": {
        "id": "EaaSTz4onxml"
      },
      "source": [
        "Se elige al azar un estudiante de una universidad. La probabilidad de que el/la\n",
        "estudiante seleccionado tenga tarjeta de crédito Visa es 0,5; la probabilidad de que\n",
        "tenga una MasterCard es 0,4 y la probabilidad de que tenga las dos es 0,25.\n",
        "\n",
        "1. Calcular la probabilidad de que el/la estudiante seleccionado tenga al menos una\n",
        "de las dos tarjetas.\n",
        "\n",
        "2. ¿Cuál es la probabilidad de que el/la estudiante no tenga ninguna de las dos\n",
        "tarjetas?\n",
        "\n",
        "3. Calcular la probabilidad de que el/la estudiante tenga una tarjeta Visa pero no una\n",
        "MasterCard.\n"
      ]
    },
    {
      "cell_type": "code",
      "execution_count": null,
      "metadata": {
        "colab": {
          "base_uri": "https://localhost:8080/",
          "height": 115
        },
        "collapsed": true,
        "id": "GGf9u7i9gxZb",
        "outputId": "a8765fc7-c4b2-48dd-c39d-dbaba0faab47"
      },
      "outputs": [],
      "source": [
        "display(Math(r'{P(Visa) = 0,5 \\thinspace P(Mastercard)=0,4 \\thinspace P(Visa \\cap Mastercard)=0,25}'))\n",
        "print('')\n",
        "display(Math(r'{P(al \\thinspace menos \\thinspace una \\thinspace tarjeta)} = P(Visa) + P(Mastercard) - {P(Visa \\cap Mastercard)}= 0.5+0.4-0.15='+str(0.5+0.4-0.25)))\n",
        "print('')\n",
        "print('la probabilidad de que el/la estudiante seleccionado tenga al menos una de las dos tarjetas es 65%')"
      ]
    },
    {
      "cell_type": "code",
      "execution_count": null,
      "metadata": {
        "colab": {
          "base_uri": "https://localhost:8080/",
          "height": 75
        },
        "collapsed": true,
        "id": "HpPVQTipgyM7",
        "outputId": "a7700ff2-c88b-4abf-9271-9886b8730790"
      },
      "outputs": [],
      "source": [
        "display(Math(r'{P(ninguna)} = {P(Visa^C \\cap Mastercard^C)}=1-{P(Visa \\cup Mastercard)}=1- 0.65='+str(1-0.65)))\n",
        "print('')\n",
        "print('la probabilidad de que el/la estudiante no tenga ninguna de las dos tarjetas es 35%')"
      ]
    },
    {
      "cell_type": "code",
      "execution_count": null,
      "metadata": {
        "colab": {
          "base_uri": "https://localhost:8080/",
          "height": 135
        },
        "collapsed": true,
        "id": "DyZH5h_sgyKo",
        "outputId": "9cfccc3b-d442-47dc-b920-4f2ddd7647eb"
      },
      "outputs": [],
      "source": [
        "display(Math(r'{P(Visa \\cap Mastercard^C)}'))\n",
        "print('')\n",
        "display(Math(r'P(Visa)= {P(Visa \\cap Mastercard)}+{P(Visa \\cap Mastercard^C)}=>{P(Visa \\cap Mastercard^C)}=P(A) - {P(Visa \\cap Mastercard)}='))\n",
        "display(Math(r'0.5-0.25='+str(0.5-0.25)))\n",
        "print('')\n",
        "print('la probabilidad de que el/la estudiante tenga una tarjeta Visa pero no una MasterCard es 25%')"
      ]
    },
    {
      "cell_type": "markdown",
      "metadata": {
        "id": "Vtr-Iq_bmnv2"
      },
      "source": [
        "### Ejemplo 6"
      ]
    },
    {
      "cell_type": "markdown",
      "metadata": {
        "id": "zEKfiFxRo_U0"
      },
      "source": [
        "Consideremos el lanzamiento de un dado. La probabilidad del evento A = “el resultado\n",
        "está entre 2 y 4, ambos inclusive” está dada por:"
      ]
    },
    {
      "cell_type": "code",
      "execution_count": null,
      "metadata": {
        "colab": {
          "base_uri": "https://localhost:8080/",
          "height": 51
        },
        "collapsed": true,
        "id": "jHUSYhjZpFdO",
        "outputId": "6a13da1b-e9fa-40b7-ac42-a604092d9d36"
      },
      "outputs": [],
      "source": [
        "display(Math(r'P(A) = P(2)+P(3)+P(4) = {1\\over 6} + {1\\over 6} + {1\\over 6} ={3\\over 6}={1\\over 2} '))"
      ]
    },
    {
      "cell_type": "markdown",
      "metadata": {
        "id": "ITN99vc-eDaz"
      },
      "source": [
        "Definamos los siguientes eventos simples:\n",
        "\n",
        "𝐴1 = “el resultado es mayor o igual a 2”\n",
        "\n",
        "𝐴2 = “ el resultado es menor o igual a 4”.\n",
        "\n",
        "Claramente podemos ver qué A= 𝐴1∩ 𝐴2 .\n",
        "\n",
        "Enotnces, la probabilidad conjunta es:"
      ]
    },
    {
      "cell_type": "code",
      "execution_count": null,
      "metadata": {
        "colab": {
          "base_uri": "https://localhost:8080/",
          "height": 51
        },
        "collapsed": true,
        "id": "3Jh5qdRUX8HJ",
        "outputId": "5f94ba7d-d2a3-4d68-8406-f94e850bf588"
      },
      "outputs": [],
      "source": [
        "display(Math(r'P(A_1 \\cap A_2) = P(A)= {1 \\over 2}'))"
      ]
    },
    {
      "cell_type": "markdown",
      "metadata": {
        "id": "_tKRo78lm_cz"
      },
      "source": [
        "### Ejemplo 7"
      ]
    },
    {
      "cell_type": "markdown",
      "metadata": {
        "id": "obEnjGGXoynw"
      },
      "source": [
        "Continuando con el ejemplo anterior, la Probabilidad Marginal de cada uno de los\n",
        "eventos es:"
      ]
    },
    {
      "cell_type": "code",
      "execution_count": null,
      "metadata": {
        "colab": {
          "base_uri": "https://localhost:8080/",
          "height": 103
        },
        "collapsed": true,
        "id": "B4dyfWqx84_w",
        "outputId": "4435ea3b-ad26-4858-bea7-7b07c7d2b7a6"
      },
      "outputs": [],
      "source": [
        "display(Math(r'{P(A_1)= P(2)+P(3)+P(4)+P(5)+P(6) = {1\\over 6} + {1\\over 6} + {1\\over 6}+ {1\\over 6}+ {1\\over 6} ={5\\over 6}}'))\n",
        "print('')\n",
        "display(Math(r'{P(A_2)= P(1) +P(2)+P(3)+P(4)= {1\\over 6} + {1\\over 6} + {1\\over 6}+ {1\\over 6}={4\\over 6}={2\\over 3}}'))"
      ]
    },
    {
      "cell_type": "markdown",
      "metadata": {
        "id": "VavAiwKKnSzh"
      },
      "source": [
        "### Ejemplo 8"
      ]
    },
    {
      "cell_type": "markdown",
      "metadata": {
        "id": "XFlYacSrm9X0"
      },
      "source": [
        "Consideremos el lanzamiento de dos dados. El resultado del primero de ellos se\n",
        "denotará por $𝑑_1$ y el resultado del segundo por $𝑑_2$.\n",
        "La probabilidad de que la suma de los dos dados sea 3, sabiendo que el resultado del primer dado fue 2 es:\n"
      ]
    },
    {
      "cell_type": "code",
      "execution_count": null,
      "metadata": {
        "colab": {
          "base_uri": "https://localhost:8080/",
          "height": 62
        },
        "collapsed": true,
        "id": "bJxiSt5zBZko",
        "outputId": "58bdd814-2dac-4ed9-c1d8-8158cdda80b3"
      },
      "outputs": [],
      "source": [
        "display(Math(r'{P(d_1+d_2=3 / d_1=2)} = {P(d_1+d_2=3 \\cap d_1=2) \\over {P(d_1=2)}}={{1 \\over 36} \\over {1 \\over 6}} = {1 \\over 6}'))"
      ]
    },
    {
      "cell_type": "markdown",
      "metadata": {
        "id": "RuDyaGy5ntFr"
      },
      "source": [
        "### Ejemplo 9"
      ]
    },
    {
      "cell_type": "markdown",
      "metadata": {
        "id": "Ok7rXMwCnUcz"
      },
      "source": [
        "A los habitantes de una ciudad se les hizo una encuesta con el propósito de\n",
        "determinar la cantidad de lectores de las revistas A y B. Los resultados fueron los\n",
        "siguientes: el 7% lee la revista A, el 5% la revista B y el 1% ambas revistas.\n",
        "\n",
        "1. Si se selecciona al azar un lector de la revista A, ¿cuál es la probabilidad que\n",
        "también lea la revista B?\n",
        "\n",
        "2. Si se selecciona al azar un lector de la revista B, ¿ cuál es la probabilidad que\n",
        "también lea la revista A?\n",
        "\n",
        "Definimos:\n",
        "\n",
        "A: “encuestados que leen la revista A”\n",
        "\n",
        "B: “encuestados que leen la revista B”"
      ]
    },
    {
      "cell_type": "code",
      "execution_count": null,
      "metadata": {
        "colab": {
          "base_uri": "https://localhost:8080/",
          "height": 57
        },
        "collapsed": true,
        "id": "ouLxgXAXQG5c",
        "outputId": "9f0b5cfe-1b6c-48d9-d7e5-8723d48cfb34"
      },
      "outputs": [],
      "source": [
        "display(Math(r'{P(B/A)} = {P(B \\cap A) \\over {P(A)}}= {0.01 \\over 0.07} ='+str(round(0.01/ 0.07,3))))"
      ]
    },
    {
      "cell_type": "code",
      "execution_count": null,
      "metadata": {
        "colab": {
          "base_uri": "https://localhost:8080/",
          "height": 57
        },
        "collapsed": true,
        "id": "rgkOOFf0QGzZ",
        "outputId": "e6e35d4f-61bc-4da3-bc91-71c0cad450fa"
      },
      "outputs": [],
      "source": [
        "display(Math(r'{P(A/B)} = {P(A \\cap B) \\over {P(B)}}= {0.01 \\over 0.05} ='+str(round(0.01/ 0.05,3))))"
      ]
    },
    {
      "cell_type": "markdown",
      "metadata": {
        "id": "wcikbuGKoHWF"
      },
      "source": [
        "### Ejemplo 10"
      ]
    },
    {
      "cell_type": "markdown",
      "metadata": {
        "id": "EYjvloWfnkQA"
      },
      "source": [
        "Se extraen dos bolillas al azar con **reposición** de una urna que contiene 3 bolillas\n",
        "blancas y 7 azules. ¿Cuál es la probabilidad de sacar primero una bolilla blanca y\n",
        "segundo una bolilla azul?\n",
        "\n",
        "Definimos los eventos:\n",
        "\n",
        "A : primero sale una bolilla blanca y B : segundo sale una bolilla azul.\n"
      ]
    },
    {
      "cell_type": "code",
      "execution_count": null,
      "metadata": {
        "colab": {
          "base_uri": "https://localhost:8080/",
          "height": 51
        },
        "collapsed": true,
        "id": "r9OTQ3WedZOp",
        "outputId": "ede60e71-8099-4eeb-ced9-d20f87487400"
      },
      "outputs": [],
      "source": [
        "display(Math(r'{P(A \\cap B)} = P(A)* P(B)= {3 \\over 10}*{7 \\over 10}={21 \\over 10}'))"
      ]
    },
    {
      "cell_type": "markdown",
      "metadata": {
        "id": "T6QPwHBYoWXf"
      },
      "source": [
        "### Ejemplo 11"
      ]
    },
    {
      "cell_type": "markdown",
      "metadata": {
        "id": "RG9VKNbwoYni"
      },
      "source": [
        "Se extraen dos bolillas al azar sin reposición de una urna que contiene 3 bolillas\n",
        "blancas y 7 azules. ¿Cuál es la probabilidad de sacar primero una bolilla blanca y\n",
        "segundo una bolilla azul?\n",
        "\n",
        "Definimos los eventos:\n",
        "\n",
        "A : primero sale una bolilla blanca y B : segundo sale una bolilla azul."
      ]
    },
    {
      "cell_type": "code",
      "execution_count": null,
      "metadata": {
        "colab": {
          "base_uri": "https://localhost:8080/",
          "height": 51
        },
        "collapsed": true,
        "id": "2GPZrLTxdgfS",
        "outputId": "367d0079-cc73-4d2c-956c-7e552e2fa3f0"
      },
      "outputs": [],
      "source": [
        "display(Math(r'{P(A \\cap B)} = {P( B/ A)*P(A)}= {7 \\over 9}*{3 \\over 10}={21 \\over 90}'))"
      ]
    },
    {
      "cell_type": "markdown",
      "metadata": {
        "id": "L0wsnZlaoqxA"
      },
      "source": [
        "### Ejemplo 12"
      ]
    },
    {
      "cell_type": "markdown",
      "metadata": {
        "id": "j4qk1pTIonWS"
      },
      "source": [
        "Una cadena de venta de electrodomésticos vende 3 marcas de televisores. De sus\n",
        "ventas de televisores, el 50% son de la marca 1, el 30% de la marca 2 y el resto de la\n",
        "marca 3. Cada fabricante ofrece un año de garantía. Se sabe que el 25% de los\n",
        "televisores de marca 1 necesita reparación estando en garantía, mientras que los\n",
        "porcentajes correspondientes a las marcas 2 y 3 son 20% y 10% respectivamente.\n",
        "\n",
        "1. ¿Cuál es la probabilidad de que un comprador elegido al azar haya comprado un\n",
        "televisor de la marca 1 que necesite reparación mientras está en garantía?\n",
        "\n",
        "2. ¿Cuál es la probabilidad de que un comprador elegido al azar tenga un televisor que\n",
        "requiera reparación mientras está en garantía?\n",
        "\n",
        "Definimos los eventos:\n",
        "\n",
        "𝐴𝑖: el televisor es de la marca i\n",
        "\n",
        "B: el televisor necesita reparación estando en garantía"
      ]
    },
    {
      "cell_type": "code",
      "execution_count": null,
      "metadata": {
        "colab": {
          "base_uri": "https://localhost:8080/",
          "height": 39
        },
        "collapsed": true,
        "id": "lUADbvQLnFwH",
        "outputId": "eb9e745c-961e-48e6-c874-3f4669cb97ac"
      },
      "outputs": [],
      "source": [
        "display(Math(r'P(A_1 \\cap B)=P(B / A_1)*P(A_1)= {0.25}*{0.5}='+str(0.25*0.5)))"
      ]
    },
    {
      "cell_type": "code",
      "execution_count": null,
      "metadata": {
        "colab": {
          "base_uri": "https://localhost:8080/",
          "height": 59
        },
        "collapsed": true,
        "id": "0Do0W_b1ocao",
        "outputId": "e6aeb445-1fef-47c9-b30e-23d964304ee4"
      },
      "outputs": [],
      "source": [
        "display(Math(r'{P(B)} =P(B \\cap A_1) +P(B \\cap A_2)+P(B \\cap A_3)={P(B/ A_1)*P(A_1)} + {P(B/ A_2)*P(A_2)} + {P(B/ A_3)*P(A_3)}= {0.25*0.5}+{0.2*0.3}+{0.1*0.2}='+str(round(0.25*0.5 + 0.2*0.3 + 0.1*0.2,3))))\n"
      ]
    },
    {
      "cell_type": "markdown",
      "metadata": {
        "id": "u43H9fsdmbAr"
      },
      "source": [
        "###Ejemplo 13"
      ]
    },
    {
      "cell_type": "markdown",
      "metadata": {
        "id": "IdmY3SuGmeMx"
      },
      "source": [
        "Una cadena de venta de electrodomésticos vende 3 marcas de televisores. De sus\n",
        "ventas de televisores, el 50% son de la marca 1, el 30% de la marca 2 y el resto de la\n",
        "marca 3. Cada fabricante ofrece un año de garantía. Se sabe que el 25% de los\n",
        "televisores de marca 1 necesita trabajo estando en garantía, mientras que los\n",
        "porcentajes correspondientes a las marcas 2 y 3 son 20% y 10% respectivamente.\n",
        "\n",
        "Si un cliente vuelve con un televisor que necesite reparación estando en garantía,\n",
        "¿cuál es la probabilidad de que sea de la marca 1?¿Y de la marca 2? ¿Y de la marca 3?\n",
        "\n",
        "\n",
        "Definimos los eventos:\n",
        "\n",
        "𝐴𝑖: el televisor es de la marca i\n",
        "\n",
        "B: el televisor necesita reparación estando en garantía"
      ]
    },
    {
      "cell_type": "code",
      "execution_count": null,
      "metadata": {
        "colab": {
          "base_uri": "https://localhost:8080/",
          "height": 111
        },
        "collapsed": true,
        "id": "ll3KpPQHmDO9",
        "outputId": "21b3a527-1d23-43a0-c663-59e579cfaeb7"
      },
      "outputs": [],
      "source": [
        "display(Math(r'{P(A_1 / B)} = {P(A_1 \\cap B) \\over P(B)} ={P(A_1 \\cap B) \\over {P(B \\cap A_1) +P(B \\cap A_2)+P(B \\cap A_3)}}={P(B/ A_1)*P(A_1) \\over{P(B/ A_1)*P(A_1)} + {P(B/ A_2)*P(A_2)} + {P(B/ A_3)*P(A_3)}}='))\n",
        "print('')\n",
        "display(Math(r'= {{0.25*0.5} \\over {0.25*0.5}+{0.2*0.3}+{0.1*0.2}}='+str(round((0.25*0.5)/(0.25*0.5 + 0.2*0.3 + 0.1*0.2),3))))"
      ]
    },
    {
      "cell_type": "code",
      "execution_count": null,
      "metadata": {
        "colab": {
          "base_uri": "https://localhost:8080/",
          "height": 111
        },
        "collapsed": true,
        "id": "8ipJUWotnb4P",
        "outputId": "98ac95ee-35fc-42b6-e4bc-6d215dfe2e9d"
      },
      "outputs": [],
      "source": [
        "display(Math(r'{P(A_2 / B)} = {P(A_2 \\cap B) \\over P(B)} ={P(A_2 \\cap B) \\over {P(B \\cap A_1) +P(B \\cap A_2)+P(B \\cap A_3)}}={P(B/ A_2)*P(A_2) \\over{P(B/ A_1)*P(A_1)} + {P(B/ A_2)*P(A_2)} + {P(B/ A_3)*P(A_3)}}='))\n",
        "print('')\n",
        "display(Math(r'= {{0.2*0.3} \\over {0.25*0.5}+{0.2*0.3}+{0.1*0.2}}='+str(round((0.2*0.3)/(0.25*0.5 + 0.2*0.3 + 0.1*0.2),3))))"
      ]
    },
    {
      "cell_type": "code",
      "execution_count": null,
      "metadata": {
        "colab": {
          "base_uri": "https://localhost:8080/",
          "height": 111
        },
        "collapsed": true,
        "id": "JJbDNs69nvTF",
        "outputId": "26c7d0ee-c992-4398-8ecb-cbdb1ccc3365"
      },
      "outputs": [],
      "source": [
        "display(Math(r'{P(A_3 / B)} = {P(A_3 \\cap B) \\over P(B)} ={P(A_3 \\cap B) \\over {P(B \\cap A_1) +P(B \\cap A_2)+P(B \\cap A_3)}}={P(B/ A_3)*P(A_3) \\over{P(B/ A_1)*P(A_1)} + {P(B/ A_2)*P(A_2)} + {P(B/ A_3)*P(A_3)}}='))\n",
        "print('')\n",
        "display(Math(r'= {{0.1*0.2} \\over {0.25*0.5}+{0.2*0.3}+{0.1*0.2}}='+str(round((0.1*0.2)/(0.25*0.5 + 0.2*0.3 + 0.1*0.2),3))))"
      ]
    },
    {
      "cell_type": "markdown",
      "metadata": {
        "id": "bHrXNTlpn_e5"
      },
      "source": [
        "###Ejemplo 14"
      ]
    },
    {
      "cell_type": "markdown",
      "metadata": {
        "id": "xojomVfPoEqI"
      },
      "source": [
        "Una fábrica de zapatillas produce en tres plantas distintas (llamémoslas E1, E2 y E3).\n",
        "Semanalmente cada una de ellas produce 500, 2000 y 1500 zapatillas\n",
        "respectivamente.\n",
        "Se sabe que la planta E1 produce un 2% de zapatillas defectuosas, la E2 un 1,5% y la\n",
        "E3 un 3%.\n",
        "Se toma una zapatilla al azar entre las 4000 producidas en una semana. Qué\n",
        "probabilidad hay de que:\n",
        "\n",
        "1) La zapatilla sea defectuosa.\n",
        "\n",
        "2) La zapatilla haya sido producida en la planta E1\n",
        "\n",
        "3) La zapatilla haya sido producida en la planta E2 y sea defectuosa.\n",
        "\n",
        "4) La zapatilla haya sido producida en la planta E3 o sea defectuosa.\n",
        "\n",
        "5) La zapatilla sea defectuosa sabiendo que fue producida en la planta E1."
      ]
    },
    {
      "cell_type": "markdown",
      "metadata": {
        "id": "CMqAD9wxomBj"
      },
      "source": [
        "Identificamos eventos:\n",
        "\n",
        "E1: zapatillas producidas en al planta 1\n",
        "\n",
        "E2: zapatillas producidas en al planta 2\n",
        "\n",
        "E3: zapatillas producidas en al planta 3\n",
        "\n",
        "B: la zapatillas es defectuosa"
      ]
    },
    {
      "cell_type": "markdown",
      "metadata": {
        "id": "twJFKkDMrVJ0"
      },
      "source": [
        "Podríamos comenzar por represaentar la información en una ** tabla de doble entrada**. En esta se representa **probabilidades marginales y conjuntas**.\n",
        "\n",
        "\\begin{equation}\n",
        "\\begin{array}{|c|c|c|c|c|}\n",
        "    \\hline\n",
        "     & E1 & E2 & E3 & Total \\\\\n",
        "    \\hline\n",
        "    Defectuosa & 10 & 30 & 45 & 85 \\\\\n",
        "    \\hline\n",
        "    No \\thinspace Defectuosa & 490 & 1970 & 1455 & 3915 \\\\\n",
        "    \\hline\n",
        "    Total & 500 & 2000 & 1500 & 4000 \\\\\n",
        "    \\hline\n",
        "\\end{array}\n",
        "\\end{equation}\n",
        "\n",
        "Dividimos todo por el total de zapatillas producidas = 4000\n",
        "\n",
        "\\begin{equation}\n",
        "\\begin{array}{|c|c|c|c|c|}\n",
        "    \\hline\n",
        "     & E1 & E2 & E3 & Total \\\\\n",
        "    \\hline\n",
        "    Defectuosa & 10/4000 & 30/4000 & 45/4000 & 85/4000 \\\\\n",
        "    \\hline\n",
        "    No \\thinspace Defectuosa & 490/4000 & 1970/4000 & 1455/4000 & 3915/4000 \\\\\n",
        "    \\hline\n",
        "    Total & 500/4000 & 2000/4000 & 1500/4000 & 4000/4000 \\\\\n",
        "    \\hline\n",
        "\\end{array}\n",
        "\\end{equation}\n",
        "\n",
        "\n",
        "\\begin{equation}\n",
        "\\begin{array}{|c|c|c|c|c|}\n",
        "    \\hline\n",
        "     & E1 & E2 & E3 & Total \\\\\n",
        "    \\hline\n",
        "    Defectuosa & 0,0025 & 0,0075 & 0,0112 & 0,0212 \\\\\n",
        "    \\hline\n",
        "    No \\thinspace Defectuosa & 0,1225 & 0,4925 & 0,3638 & 0,9788 \\\\\n",
        "    \\hline\n",
        "    Total & 0,125 & 0,5 & 0,375 & 1 \\\\\n",
        "    \\hline\n",
        "\\end{array}\n",
        "\\end{equation}"
      ]
    },
    {
      "cell_type": "markdown",
      "metadata": {
        "id": "pwY3nltnobJ1"
      },
      "source": [
        "\n",
        "Pero, si prestamos atención al enunciado, nos estan dando **probabilidades condicionales** (y podemos calcular las marginales). Dado esto, entonces la representación adecuada de la información es un **árbol de decisión**:\n",
        "\n"
      ]
    },
    {
      "cell_type": "code",
      "execution_count": null,
      "metadata": {
        "colab": {
          "base_uri": "https://localhost:8080/",
          "height": 440
        },
        "collapsed": true,
        "id": "E-igfDlzn6qb",
        "outputId": "c910c562-17b4-4b4e-969f-c30349c790c5"
      },
      "outputs": [],
      "source": [
        "# Definición de las partes del árbol\n",
        "root = Node(\"Zapatillas\")\n",
        "\n",
        "n1 = Node(\"E1\", parent=root)\n",
        "n1_1 = Node(\"Defectuosas(D)\", parent=n1)\n",
        "n1_2 = Node(\"No Defectuosas(ND)\", parent=n1)\n",
        "\n",
        "b1 = Node(\"E2\", parent=root)\n",
        "b1_1 = Node(\"Defectuosas(D) \", parent=b1)\n",
        "b1_2 = Node(\"No Defectuosas(ND) \", parent=b1)\n",
        "\n",
        "b2 = Node(\"E3\", parent=root)\n",
        "b2_1 = Node(\"Defectuosas(D)  \", parent=b2)\n",
        "b2_2 = Node(\"No Defectuosas(ND)  \", parent=b2)\n",
        "\n",
        "# creación de las etiquetas\n",
        "def edge_attributes(parent, child):\n",
        "    etiquetas = {\n",
        "        (\"Zapatillas\", \"E1\"): \"0,125\",\n",
        "        (\"E1\", \"Defectuosas(D)\"): \"0,02\",\n",
        "        (\"E1\", \"No Defectuosas(ND)\"): \"0,98\",\n",
        "        (\"Zapatillas\", \"E2\"): \"0,5\",\n",
        "        (\"E2\", \"Defectuosas(D) \"): \"0,015\",\n",
        "        (\"E2\", \"No Defectuosas(ND) \"): \"0,985\",\n",
        "        (\"Zapatillas\", \"E3\"): \"0,375\",\n",
        "        (\"E3\", \"Defectuosas(D)  \"): \"0,03\",\n",
        "        (\"E3\", \"No Defectuosas(ND)  \"): \"0,97\",\n",
        "    }\n",
        "    key = (parent.name, child.name)\n",
        "    label = etiquetas.get(key, \"\")\n",
        "    return f'label=\"{label}\" fontsize=10' if label else \"\"\n",
        "\n",
        "# árbol con orientación horizontal\n",
        "dot_str = ''.join(DotExporter(root, edgeattrfunc=edge_attributes))\n",
        "dot_str = dot_str.replace('digraph tree {', 'digraph tree {\\n  rankdir=LR;')\n",
        "\n",
        "# Mostrar árbol\n",
        "Source(dot_str)"
      ]
    },
    {
      "cell_type": "code",
      "execution_count": null,
      "metadata": {
        "colab": {
          "base_uri": "https://localhost:8080/",
          "height": 59
        },
        "collapsed": true,
        "id": "s0DhkzoIqUIb",
        "outputId": "514a35f2-beb5-4093-ca2e-27b5c01cf1bf"
      },
      "outputs": [],
      "source": [
        "display(Math(r'1). \\thinspace {P(Defectuosa)} =P(D \\cap E_1) +P(D \\cap E_2)+P(D \\cap E_3)={P(D/ E_1)*P(E_1)} + {P(D/ E_2)*P(E_2)} + {P(D/ E_3)*P(E_3)}= {0.02*0.125}+{0.015*0.5}+{0.03*0.375}='+str(round( 0.02*0.125 + 0.015*0.5 + 0.03*0.375,5))))\n"
      ]
    },
    {
      "cell_type": "code",
      "execution_count": null,
      "metadata": {
        "colab": {
          "base_uri": "https://localhost:8080/",
          "height": 39
        },
        "collapsed": true,
        "id": "8Upmh7oRuJ27",
        "outputId": "b8206d54-9a6c-42cc-9a03-35797bd12450"
      },
      "outputs": [],
      "source": [
        "display(Math(r'2). \\thinspace Directamente \\thinspace es \\thinspace una \\thinspace probabilidad \\thinspace marginal: P(E_1) = 0.125'))"
      ]
    },
    {
      "cell_type": "code",
      "execution_count": null,
      "metadata": {
        "colab": {
          "base_uri": "https://localhost:8080/",
          "height": 39
        },
        "collapsed": true,
        "id": "MPjdiYwAuiJy",
        "outputId": "f93f500c-2c64-4826-dbec-6578feb25465"
      },
      "outputs": [],
      "source": [
        "display(Math(r'3). \\thinspace como \\thinspace no \\thinspace hay \\thinspace independencia \\thinspace entonces: P(D \\cap E_2) =P(D / E_2)*P(E_2)= 0.015*0.5='+str(round(0.015*0.5,4))))"
      ]
    },
    {
      "cell_type": "code",
      "execution_count": null,
      "metadata": {
        "colab": {
          "base_uri": "https://localhost:8080/",
          "height": 39
        },
        "collapsed": true,
        "id": "-G7lqH6xvC-i",
        "outputId": "df331a6d-f658-4c49-ffa3-c95e471abd89"
      },
      "outputs": [],
      "source": [
        "display(Math(r'4). \\thinspace P(D \\cup E_3) =P(D) +P(E_3) - P(D \\cap E_3) = P(D) +P(E_3) - P(D / E_3)*P(E_3)= 0.02125 + 0.375 - 0.03*0.375='+str(round(0.02125 + 0.375 - 0.03*0.375,4))))"
      ]
    },
    {
      "cell_type": "code",
      "execution_count": null,
      "metadata": {
        "colab": {
          "base_uri": "https://localhost:8080/",
          "height": 39
        },
        "collapsed": true,
        "id": "vowggFycvn65",
        "outputId": "16278aeb-17c1-44b6-d3fc-098d34de241e"
      },
      "outputs": [],
      "source": [
        "display(Math(r'5). \\thinspace P(D/E_1) = 0.02'))"
      ]
    },
    {
      "cell_type": "code",
      "execution_count": null,
      "metadata": {
        "colab": {
          "base_uri": "https://localhost:8080/",
          "height": 115
        },
        "collapsed": true,
        "id": "PuaytdkevzpF",
        "outputId": "68b553f0-4984-4e38-b4a7-9af7eee9fdae"
      },
      "outputs": [],
      "source": [
        "display(Math(r'6). \\thinspace {P(E_2 /Defectuosa)} = {P(E_2 \\cap D) \\over P(D)}= {P(E_2 \\cap D) \\over {P(E_1 \\cap D)+P(E_2 \\cap D)+P(E_3 \\cap D)}}='))\n",
        "print('')\n",
        "display(Math(r'{{P(D/ E_2)*P(E_2)} \\over {P(D/ E_1)*P(E_1)} + {P(D/ E_2)*P(E_2)} + {P(D/ E_3)*P(E_3)}}= {{0.015*0.5} \\over {0.02*0.125}+{0.015*0.5}+{0.03*0.375}}='+str(round((0.015*0.5) / (0.02*0.125 + 0.015*0.5 + 0.03*0.375),5))))\n"
      ]
    }
  ],
  "metadata": {
    "colab": {
      "collapsed_sections": [
        "x1VhSHZj2Nsn",
        "xuzGIEa_lH4Z",
        "DNKuIhzLlR_4",
        "pB421Hdolj2W",
        "Pmj3J6K4l2ta",
        "QO7AG8LMmMtG",
        "Vtr-Iq_bmnv2",
        "_tKRo78lm_cz",
        "VavAiwKKnSzh",
        "RuDyaGy5ntFr",
        "wcikbuGKoHWF",
        "T6QPwHBYoWXf",
        "L0wsnZlaoqxA",
        "u43H9fsdmbAr",
        "bHrXNTlpn_e5"
      ],
      "include_colab_link": true,
      "provenance": []
    },
    "kernelspec": {
      "display_name": ".venv",
      "language": "python",
      "name": "python3"
    },
    "language_info": {
      "codemirror_mode": {
        "name": "ipython",
        "version": 3
      },
      "file_extension": ".py",
      "mimetype": "text/x-python",
      "name": "python",
      "nbconvert_exporter": "python",
      "pygments_lexer": "ipython3",
      "version": "3.12.3"
    }
  },
  "nbformat": 4,
  "nbformat_minor": 0
}
