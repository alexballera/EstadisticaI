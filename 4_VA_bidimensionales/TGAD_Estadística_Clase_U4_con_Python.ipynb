{
  "nbformat": 4,
  "nbformat_minor": 0,
  "metadata": {
    "colab": {
      "provenance": [],
      "collapsed_sections": [
        "x1VhSHZj2Nsn",
        "xuzGIEa_lH4Z"
      ],
      "include_colab_link": true
    },
    "kernelspec": {
      "name": "python3",
      "display_name": "Python 3"
    },
    "language_info": {
      "name": "python"
    }
  },
  "cells": [
    {
      "cell_type": "markdown",
      "metadata": {
        "id": "view-in-github",
        "colab_type": "text"
      },
      "source": [
        "<a href=\"https://colab.research.google.com/github/TGADEstadisticaI/EstadisticaI/blob/main/4%20VA%20bidimensionales/TGAD_Estad%C3%ADstica_Clase_U4_con_Python.ipynb\" target=\"_parent\"><img src=\"https://colab.research.google.com/assets/colab-badge.svg\" alt=\"Open In Colab\"/></a>"
      ]
    },
    {
      "cell_type": "markdown",
      "source": [
        "<figure>\n",
        "<center>\n",
        "<img src='https://www.economicas.uba.ar/wp-content/uploads/2020/08/cropped-logo_FCE.png' />\n",
        "</figure>"
      ],
      "metadata": {
        "id": "drvDSfWaaYWS"
      }
    },
    {
      "cell_type": "markdown",
      "source": [
        "# **Universidad de Buenos Aires**\n",
        "## **Facultad de Ciencias Económicas**\n",
        "\n",
        "### **Estadística I**\n",
        "\n",
        "### Cátedra: Bianco\n",
        "\n",
        "#### **Resolución ejemplos clase U4 con Python**\n",
        "\n",
        "***Material elaborado por la profesora Natalia Salaberry***"
      ],
      "metadata": {
        "id": "eMuYyGo7uqxJ"
      }
    },
    {
      "cell_type": "markdown",
      "source": [
        "###**Librerías**"
      ],
      "metadata": {
        "id": "x1VhSHZj2Nsn"
      }
    },
    {
      "cell_type": "code",
      "source": [
        "import pandas as pd\n",
        "import numpy as np\n",
        "import sympy\n",
        "from itertools import product\n",
        "from fractions import Fraction\n",
        "from IPython.display import display, Math\n",
        "import matplotlib.pyplot as plt"
      ],
      "metadata": {
        "id": "zEqbGveEk4kx"
      },
      "execution_count": null,
      "outputs": []
    },
    {
      "cell_type": "markdown",
      "source": [
        "### Ejemplo 1"
      ],
      "metadata": {
        "id": "xuzGIEa_lH4Z"
      }
    },
    {
      "cell_type": "markdown",
      "source": [
        "De una urna que contiene 6 bolillas blancas y 4 negras, se extraen 3 sin reposición.\n",
        "Se define:\n",
        "\n",
        "X=“Número de bolillas blancas extraídas”\n",
        "\n",
        "Y=1 si el número de bolillas negras extraídas es par o cero.\n",
        "\n",
        "Y=0 si el número de bolillas negras extraídas es impar."
      ],
      "metadata": {
        "id": "yp1jWyNlVuSj"
      }
    },
    {
      "cell_type": "code",
      "source": [
        "print('Determinación de probabilidades')\n",
        "print('')\n",
        "display(Math(r'{P_{XY}(0;0)}= {4 \\over 10}*{3 \\over 9}*{2 \\over 8}= {1 \\over 30}'))\n",
        "print('')\n",
        "display(Math(r'{P_{XY}(1;0)}= 0'))\n",
        "print('')\n",
        "display(Math(r'{P_{XY}(2;0)}= {6 \\over 10}*{5 \\over 9}*{4 \\over 8}+{6 \\over 10}*{4 \\over 9}*{5 \\over 8}+{4 \\over 10}*{6 \\over 9}*{5 \\over 8}= {1 \\over 2}'))\n",
        "print('')\n",
        "display(Math(r'{P_{XY}(3;0)}= 0'))\n",
        "print('')\n",
        "display(Math(r'{P_{XY}(0;1)}= 0'))\n",
        "print('')\n",
        "display(Math(r'{P_{XY}(1;1)}= {6 \\over 10}*{4 \\over 9}*{3 \\over 8}+{4 \\over 10}*{6 \\over 9}*{3 \\over 8}+{4 \\over 10}*{3 \\over 9}*{6 \\over 8}= {3 \\over 10}'))\n",
        "print('')\n",
        "display(Math(r'{P_{XY}(2;1)}= 0'))\n",
        "print('')\n",
        "display(Math(r'{P_{XY}(3;1)}= {6 \\over 10}*{5 \\over 9}*{4 \\over 8}= {1 \\over 6}'))"
      ],
      "metadata": {
        "colab": {
          "base_uri": "https://localhost:8080/",
          "height": 396
        },
        "collapsed": true,
        "id": "GeUnGzxswu24",
        "outputId": "29677340-8ab4-47c3-c51e-42c139ff8253"
      },
      "execution_count": null,
      "outputs": [
        {
          "output_type": "stream",
          "name": "stdout",
          "text": [
            "Determinación de probabilidades\n",
            "\n"
          ]
        },
        {
          "output_type": "display_data",
          "data": {
            "text/plain": [
              "<IPython.core.display.Math object>"
            ],
            "text/latex": "$\\displaystyle {P_{XY}(0;0)}= {4 \\over 10}*{3 \\over 9}*{2 \\over 8}= {1 \\over 30}$"
          },
          "metadata": {}
        },
        {
          "output_type": "stream",
          "name": "stdout",
          "text": [
            "\n"
          ]
        },
        {
          "output_type": "display_data",
          "data": {
            "text/plain": [
              "<IPython.core.display.Math object>"
            ],
            "text/latex": "$\\displaystyle {P_{XY}(1;0)}= 0$"
          },
          "metadata": {}
        },
        {
          "output_type": "stream",
          "name": "stdout",
          "text": [
            "\n"
          ]
        },
        {
          "output_type": "display_data",
          "data": {
            "text/plain": [
              "<IPython.core.display.Math object>"
            ],
            "text/latex": "$\\displaystyle {P_{XY}(2;0)}= {6 \\over 10}*{5 \\over 9}*{4 \\over 8}+{6 \\over 10}*{4 \\over 9}*{5 \\over 8}+{4 \\over 10}*{6 \\over 9}*{5 \\over 8}= {1 \\over 2}$"
          },
          "metadata": {}
        },
        {
          "output_type": "stream",
          "name": "stdout",
          "text": [
            "\n"
          ]
        },
        {
          "output_type": "display_data",
          "data": {
            "text/plain": [
              "<IPython.core.display.Math object>"
            ],
            "text/latex": "$\\displaystyle {P_{XY}(3;0)}= 0$"
          },
          "metadata": {}
        },
        {
          "output_type": "stream",
          "name": "stdout",
          "text": [
            "\n"
          ]
        },
        {
          "output_type": "display_data",
          "data": {
            "text/plain": [
              "<IPython.core.display.Math object>"
            ],
            "text/latex": "$\\displaystyle {P_{XY}(0;1)}= 0$"
          },
          "metadata": {}
        },
        {
          "output_type": "stream",
          "name": "stdout",
          "text": [
            "\n"
          ]
        },
        {
          "output_type": "display_data",
          "data": {
            "text/plain": [
              "<IPython.core.display.Math object>"
            ],
            "text/latex": "$\\displaystyle {P_{XY}(1;1)}= {6 \\over 10}*{4 \\over 9}*{3 \\over 8}+{4 \\over 10}*{6 \\over 9}*{3 \\over 8}+{4 \\over 10}*{3 \\over 9}*{6 \\over 8}= {3 \\over 10}$"
          },
          "metadata": {}
        },
        {
          "output_type": "stream",
          "name": "stdout",
          "text": [
            "\n"
          ]
        },
        {
          "output_type": "display_data",
          "data": {
            "text/plain": [
              "<IPython.core.display.Math object>"
            ],
            "text/latex": "$\\displaystyle {P_{XY}(2;1)}= 0$"
          },
          "metadata": {}
        },
        {
          "output_type": "stream",
          "name": "stdout",
          "text": [
            "\n"
          ]
        },
        {
          "output_type": "display_data",
          "data": {
            "text/plain": [
              "<IPython.core.display.Math object>"
            ],
            "text/latex": "$\\displaystyle {P_{XY}(3;1)}= {6 \\over 10}*{5 \\over 9}*{4 \\over 8}= {1 \\over 6}$"
          },
          "metadata": {}
        }
      ]
    },
    {
      "cell_type": "markdown",
      "source": [
        "Entonces:\n",
        "\n",
        "\\begin{equation}\n",
        "\\begin{array}{|c|c|c|c|c|}\n",
        "    \\hline\n",
        "    Y/X & 1 & 2 & 3 & 4 & Total \\\\\n",
        "    \\hline\n",
        "    0 & {1\\over 30} & 0 & {1\\over 2} & 0 & {8\\over 15} \\\\\n",
        "    \\hline\n",
        "    1 & 0 & {3\\over 10} & 0 & {1\\over 6} & {7\\over 15} \\\\\n",
        "    \\hline\n",
        "    Total & {1\\over 30} & {3\\over 10} & {1\\over 2} & {1\\over 6} & 1 \\\\\n",
        "    \\hline\n",
        "\\end{array}\n",
        "\\end{equation}"
      ],
      "metadata": {
        "id": "6ni9e3OkpET2"
      }
    },
    {
      "cell_type": "code",
      "source": [
        "print('Determinación de probabilidades marginales')\n",
        "print('')\n",
        "display(Math(r'{P_{X}(0)}= {P_{XY}(0;0)} + {P_{XY}(0;1)} ={1 \\over 30}+0= {1 \\over 30}'))\n",
        "print('')\n",
        "display(Math(r'{P_{X}(1)}= {P_{XY}(1;0)} + {P_{XY}(1;1)} =0+{3 \\over 10}= {3 \\over 10}'))\n",
        "print('')\n",
        "display(Math(r'{P_{X}(2)}= {P_{XY}(2;0)} + {P_{XY}(2;1)} ={1 \\over 2}+0= {1 \\over 2}'))\n",
        "print('')\n",
        "display(Math(r'{P_{X}(3)}= {P_{XY}(3;0)} + {P_{XY}(3;1)} =0+{1 \\over 6}= {1 \\over 6}'))\n",
        "print('')\n",
        "display(Math(r'{P_{Y}(0)}= {P_{XY}(0;0)} + {P_{XY}(1;0)} + {P_{XY}(2;0)} + {P_{XY}(3;0)} ={1 \\over 30}+0+{1 \\over 2}+0= {8 \\over 15}'))\n",
        "print('')\n",
        "display(Math(r'{P_{Y}(1)}= {P_{XY}(0;1)} + {P_{XY}(1;1)} + {P_{XY}(2;1)} + {P_{XY}(3;1)} =0+{3 \\over 10}+0+{1 \\over 6}= {7 \\over 15}'))"
      ],
      "metadata": {
        "id": "CE8Obofzx43B",
        "colab": {
          "base_uri": "https://localhost:8080/",
          "height": 342
        },
        "outputId": "25ae0a43-6767-4133-92a1-54832f8e5e93",
        "collapsed": true
      },
      "execution_count": null,
      "outputs": [
        {
          "output_type": "stream",
          "name": "stdout",
          "text": [
            "Determinación de probabilidades marginales\n",
            "\n"
          ]
        },
        {
          "output_type": "display_data",
          "data": {
            "text/plain": [
              "<IPython.core.display.Math object>"
            ],
            "text/latex": "$\\displaystyle {P_{X}(0)}= {P_{XY}(0;0)} + {P_{XY}(0;1)} ={1 \\over 30}+0= {1 \\over 30}$"
          },
          "metadata": {}
        },
        {
          "output_type": "stream",
          "name": "stdout",
          "text": [
            "\n"
          ]
        },
        {
          "output_type": "display_data",
          "data": {
            "text/plain": [
              "<IPython.core.display.Math object>"
            ],
            "text/latex": "$\\displaystyle {P_{X}(1)}= {P_{XY}(1;0)} + {P_{XY}(1;1)} =0+{3 \\over 10}= {3 \\over 10}$"
          },
          "metadata": {}
        },
        {
          "output_type": "stream",
          "name": "stdout",
          "text": [
            "\n"
          ]
        },
        {
          "output_type": "display_data",
          "data": {
            "text/plain": [
              "<IPython.core.display.Math object>"
            ],
            "text/latex": "$\\displaystyle {P_{X}(2)}= {P_{XY}(2;0)} + {P_{XY}(2;1)} ={1 \\over 2}+0= {1 \\over 2}$"
          },
          "metadata": {}
        },
        {
          "output_type": "stream",
          "name": "stdout",
          "text": [
            "\n"
          ]
        },
        {
          "output_type": "display_data",
          "data": {
            "text/plain": [
              "<IPython.core.display.Math object>"
            ],
            "text/latex": "$\\displaystyle {P_{X}(3)}= {P_{XY}(3;0)} + {P_{XY}(3;1)} =0+{1 \\over 6}= {1 \\over 6}$"
          },
          "metadata": {}
        },
        {
          "output_type": "stream",
          "name": "stdout",
          "text": [
            "\n"
          ]
        },
        {
          "output_type": "display_data",
          "data": {
            "text/plain": [
              "<IPython.core.display.Math object>"
            ],
            "text/latex": "$\\displaystyle {P_{Y}(0)}= {P_{XY}(0;0)} + {P_{XY}(1;0)} + {P_{XY}(2;0)} + {P_{XY}(3;0)} ={1 \\over 30}+0+{1 \\over 2}+0= {8 \\over 15}$"
          },
          "metadata": {}
        },
        {
          "output_type": "stream",
          "name": "stdout",
          "text": [
            "\n"
          ]
        },
        {
          "output_type": "display_data",
          "data": {
            "text/plain": [
              "<IPython.core.display.Math object>"
            ],
            "text/latex": "$\\displaystyle {P_{Y}(1)}= {P_{XY}(0;1)} + {P_{XY}(1;1)} + {P_{XY}(2;1)} + {P_{XY}(3;1)} =0+{3 \\over 10}+0+{1 \\over 6}= {7 \\over 15}$"
          },
          "metadata": {}
        }
      ]
    },
    {
      "cell_type": "code",
      "source": [
        "display(Math(r'Calcular \\thinspace F(2;1)'))\n",
        "print('')\n",
        "display(Math(r'{P_{XY}(0;0)} + {P_{XY}(0;1)} + {P_{XY}(1;0)} + {P_{XY}(1;1)}+ {P_{XY}(2;0)}+ {P_{XY}(2;1)} ={1 \\over 30}+0+0+{3 \\over 10}+{1 \\over 2}+0= {5 \\over 6}'))"
      ],
      "metadata": {
        "colab": {
          "base_uri": "https://localhost:8080/",
          "height": 90
        },
        "collapsed": true,
        "id": "_xRl6Ti7qBGi",
        "outputId": "e1ab9b8d-b05b-4cab-c1cf-0cdfdfdd0e21"
      },
      "execution_count": null,
      "outputs": [
        {
          "output_type": "display_data",
          "data": {
            "text/plain": [
              "<IPython.core.display.Math object>"
            ],
            "text/latex": "$\\displaystyle Calcular \\thinspace F(2;1)$"
          },
          "metadata": {}
        },
        {
          "output_type": "stream",
          "name": "stdout",
          "text": [
            "\n"
          ]
        },
        {
          "output_type": "display_data",
          "data": {
            "text/plain": [
              "<IPython.core.display.Math object>"
            ],
            "text/latex": "$\\displaystyle {P_{XY}(0;0)} + {P_{XY}(0;1)} + {P_{XY}(1;0)} + {P_{XY}(1;1)}+ {P_{XY}(2;0)}+ {P_{XY}(2;1)} ={1 \\over 30}+0+0+{3 \\over 10}+{1 \\over 2}+0= {5 \\over 6}$"
          },
          "metadata": {}
        }
      ]
    },
    {
      "cell_type": "code",
      "source": [
        "print('Determinación de probabilidades condicionales de X')\n",
        "print('')\n",
        "display(Math(r'{P_{X/Y=0}(0)}= {{P_{XY}(0;0)} \\over {P_{Y}(0)}} ={{1 \\over 30} \\over {8 \\over 15}}= {1 \\over 16}'))\n",
        "print('')\n",
        "display(Math(r'{P_{X/Y=0}(1)}= {{P_{XY}(1;0)} \\over {P_{Y}(0)}} ={0 \\over {8 \\over 15}}=0'))\n",
        "print('')\n",
        "display(Math(r'{P_{X/Y=0}(2)}= {{P_{XY}(2;0)} \\over {P_{Y}(0)}} ={{1 \\over 2} \\over {8 \\over 15}}= {15 \\over 16}'))\n",
        "print('')\n",
        "display(Math(r'{P_{X/Y=0}(3)}= {{P_{XY}(3;0)} \\over {P_{Y}(0)}} ={0 \\over {8 \\over 15}}=0'))\n",
        "print('')\n",
        "display(Math(r'{P_{X/Y=1}(0)}= {{P_{XY}(0;1)} \\over {P_{Y}(1)}} ={0 \\over {7 \\over 15}}=0'))\n",
        "print('')\n",
        "display(Math(r'{P_{X/Y=1}(1)}= {{P_{XY}(1;1)} \\over {P_{Y}(1)}} ={{3 \\over 10} \\over {7 \\over 15}}= {9 \\over 14}'))\n",
        "print('')\n",
        "display(Math(r'{P_{X/Y=1}(2)}= {{P_{XY}(2;1)} \\over {P_{Y}(1)}} ={0 \\over {7 \\over 15}}=0'))\n",
        "print('')\n",
        "display(Math(r'{P_{X/Y=1}(3)}= {{P_{XY}(3;1)} \\over {P_{Y}(1)}} ={{1 \\over 6} \\over {7 \\over 15}}= {5 \\over 14}'))"
      ],
      "metadata": {
        "colab": {
          "base_uri": "https://localhost:8080/",
          "height": 523
        },
        "collapsed": true,
        "id": "LuuEpEqxqBtQ",
        "outputId": "5c9f8a58-6be4-447f-b82a-88d89326e80f"
      },
      "execution_count": null,
      "outputs": [
        {
          "output_type": "stream",
          "name": "stdout",
          "text": [
            "Determinación de probabilidades condicionales de X\n",
            "\n"
          ]
        },
        {
          "output_type": "display_data",
          "data": {
            "text/plain": [
              "<IPython.core.display.Math object>"
            ],
            "text/latex": "$\\displaystyle {P_{X/Y=0}(0)}= {{P_{XY}(0;0)} \\over {P_{Y}(0)}} ={{1 \\over 30} \\over {8 \\over 15}}= {1 \\over 16}$"
          },
          "metadata": {}
        },
        {
          "output_type": "stream",
          "name": "stdout",
          "text": [
            "\n"
          ]
        },
        {
          "output_type": "display_data",
          "data": {
            "text/plain": [
              "<IPython.core.display.Math object>"
            ],
            "text/latex": "$\\displaystyle {P_{X/Y=0}(1)}= {{P_{XY}(1;0)} \\over {P_{Y}(0)}} ={0 \\over {8 \\over 15}}=0$"
          },
          "metadata": {}
        },
        {
          "output_type": "stream",
          "name": "stdout",
          "text": [
            "\n"
          ]
        },
        {
          "output_type": "display_data",
          "data": {
            "text/plain": [
              "<IPython.core.display.Math object>"
            ],
            "text/latex": "$\\displaystyle {P_{X/Y=0}(2)}= {{P_{XY}(2;0)} \\over {P_{Y}(0)}} ={{1 \\over 2} \\over {8 \\over 15}}= {15 \\over 16}$"
          },
          "metadata": {}
        },
        {
          "output_type": "stream",
          "name": "stdout",
          "text": [
            "\n"
          ]
        },
        {
          "output_type": "display_data",
          "data": {
            "text/plain": [
              "<IPython.core.display.Math object>"
            ],
            "text/latex": "$\\displaystyle {P_{X/Y=0}(3)}= {{P_{XY}(3;0)} \\over {P_{Y}(0)}} ={0 \\over {8 \\over 15}}=0$"
          },
          "metadata": {}
        },
        {
          "output_type": "stream",
          "name": "stdout",
          "text": [
            "\n"
          ]
        },
        {
          "output_type": "display_data",
          "data": {
            "text/plain": [
              "<IPython.core.display.Math object>"
            ],
            "text/latex": "$\\displaystyle {P_{X/Y=1}(0)}= {{P_{XY}(0;1)} \\over {P_{Y}(1)}} ={0 \\over {7 \\over 15}}=0$"
          },
          "metadata": {}
        },
        {
          "output_type": "stream",
          "name": "stdout",
          "text": [
            "\n"
          ]
        },
        {
          "output_type": "display_data",
          "data": {
            "text/plain": [
              "<IPython.core.display.Math object>"
            ],
            "text/latex": "$\\displaystyle {P_{X/Y=1}(1)}= {{P_{XY}(1;1)} \\over {P_{Y}(1)}} ={{3 \\over 10} \\over {7 \\over 15}}= {9 \\over 14}$"
          },
          "metadata": {}
        },
        {
          "output_type": "stream",
          "name": "stdout",
          "text": [
            "\n"
          ]
        },
        {
          "output_type": "display_data",
          "data": {
            "text/plain": [
              "<IPython.core.display.Math object>"
            ],
            "text/latex": "$\\displaystyle {P_{X/Y=1}(2)}= {{P_{XY}(2;1)} \\over {P_{Y}(1)}} ={0 \\over {7 \\over 15}}=0$"
          },
          "metadata": {}
        },
        {
          "output_type": "stream",
          "name": "stdout",
          "text": [
            "\n"
          ]
        },
        {
          "output_type": "display_data",
          "data": {
            "text/plain": [
              "<IPython.core.display.Math object>"
            ],
            "text/latex": "$\\displaystyle {P_{X/Y=1}(3)}= {{P_{XY}(3;1)} \\over {P_{Y}(1)}} ={{1 \\over 6} \\over {7 \\over 15}}= {5 \\over 14}$"
          },
          "metadata": {}
        }
      ]
    },
    {
      "cell_type": "code",
      "source": [
        "print('Determinación de probabilidades condicionales de Y')\n",
        "print('')\n",
        "display(Math(r'{P_{Y/X=0}(0)}= {{P_{XY}(0;0)} \\over {P_{X}(0)}} ={{1 \\over 30} \\over {1 \\over 30}}= 1'))\n",
        "print('')\n",
        "display(Math(r'{P_{Y/X=0}(1)}= {{P_{XY}(0;1)} \\over {P_{X}(1)}} ={0 \\over {1 \\over 30}}= 0'))\n",
        "print('')\n",
        "display(Math(r'{P_{Y/X=1}(0)}= {{P_{XY}(1;0)} \\over {P_{X}(1)}} ={0 \\over {3 \\over 10}}= 0'))\n",
        "print('')\n",
        "display(Math(r'{P_{Y/X=1}(1)}= {{P_{XY}(1;1)} \\over {P_{X}(1)}} ={{3 \\over 10} \\over {3 \\over 10}}= 1'))\n",
        "print('')\n",
        "display(Math(r'{P_{Y/X=2}(0)}= {{P_{XY}(2;0)} \\over {P_{X}(2)}} ={{1 \\over 2} \\over {1 \\over 2}}= 1'))\n",
        "print('')\n",
        "display(Math(r'{P_{Y/X=2}(1)}= {{P_{XY}(2;1)} \\over {P_{X}(2)}} ={0 \\over {1 \\over 6}}= 0'))\n",
        "print('')\n",
        "display(Math(r'{P_{Y/X=3}(0)}= {{P_{XY}(3;0)} \\over {P_{X}(3)}} ={0 \\over {1 \\over 6}}= 0'))\n",
        "print('')\n",
        "display(Math(r'{P_{Y/X=3}(1)}= {{P_{XY}(3;1)} \\over {P_{X}(3)}} ={{1 \\over 6} \\over {1 \\over 6}}= 1'))"
      ],
      "metadata": {
        "colab": {
          "base_uri": "https://localhost:8080/",
          "height": 523
        },
        "collapsed": true,
        "id": "eRujE3tAqBrJ",
        "outputId": "8fe10ee0-52f5-41cb-8f05-5f3e9bd4f706"
      },
      "execution_count": null,
      "outputs": [
        {
          "output_type": "stream",
          "name": "stdout",
          "text": [
            "Determinación de probabilidades condicionales de Y\n",
            "\n"
          ]
        },
        {
          "output_type": "display_data",
          "data": {
            "text/plain": [
              "<IPython.core.display.Math object>"
            ],
            "text/latex": "$\\displaystyle {P_{Y/X=0}(0)}= {{P_{XY}(0;0)} \\over {P_{X}(0)}} ={{1 \\over 30} \\over {1 \\over 30}}= 1$"
          },
          "metadata": {}
        },
        {
          "output_type": "stream",
          "name": "stdout",
          "text": [
            "\n"
          ]
        },
        {
          "output_type": "display_data",
          "data": {
            "text/plain": [
              "<IPython.core.display.Math object>"
            ],
            "text/latex": "$\\displaystyle {P_{Y/X=0}(1)}= {{P_{XY}(0;1)} \\over {P_{X}(1)}} ={0 \\over {1 \\over 30}}= 0$"
          },
          "metadata": {}
        },
        {
          "output_type": "stream",
          "name": "stdout",
          "text": [
            "\n"
          ]
        },
        {
          "output_type": "display_data",
          "data": {
            "text/plain": [
              "<IPython.core.display.Math object>"
            ],
            "text/latex": "$\\displaystyle {P_{Y/X=1}(0)}= {{P_{XY}(1;0)} \\over {P_{X}(1)}} ={0 \\over {3 \\over 10}}= 0$"
          },
          "metadata": {}
        },
        {
          "output_type": "stream",
          "name": "stdout",
          "text": [
            "\n"
          ]
        },
        {
          "output_type": "display_data",
          "data": {
            "text/plain": [
              "<IPython.core.display.Math object>"
            ],
            "text/latex": "$\\displaystyle {P_{Y/X=1}(1)}= {{P_{XY}(1;1)} \\over {P_{X}(1)}} ={{3 \\over 10} \\over {3 \\over 10}}= 1$"
          },
          "metadata": {}
        },
        {
          "output_type": "stream",
          "name": "stdout",
          "text": [
            "\n"
          ]
        },
        {
          "output_type": "display_data",
          "data": {
            "text/plain": [
              "<IPython.core.display.Math object>"
            ],
            "text/latex": "$\\displaystyle {P_{Y/X=2}(0)}= {{P_{XY}(2;0)} \\over {P_{X}(2)}} ={{1 \\over 2} \\over {1 \\over 2}}= 1$"
          },
          "metadata": {}
        },
        {
          "output_type": "stream",
          "name": "stdout",
          "text": [
            "\n"
          ]
        },
        {
          "output_type": "display_data",
          "data": {
            "text/plain": [
              "<IPython.core.display.Math object>"
            ],
            "text/latex": "$\\displaystyle {P_{Y/X=2}(1)}= {{P_{XY}(2;1)} \\over {P_{X}(2)}} ={0 \\over {1 \\over 6}}= 0$"
          },
          "metadata": {}
        },
        {
          "output_type": "stream",
          "name": "stdout",
          "text": [
            "\n"
          ]
        },
        {
          "output_type": "display_data",
          "data": {
            "text/plain": [
              "<IPython.core.display.Math object>"
            ],
            "text/latex": "$\\displaystyle {P_{Y/X=3}(0)}= {{P_{XY}(3;0)} \\over {P_{X}(3)}} ={0 \\over {1 \\over 6}}= 0$"
          },
          "metadata": {}
        },
        {
          "output_type": "stream",
          "name": "stdout",
          "text": [
            "\n"
          ]
        },
        {
          "output_type": "display_data",
          "data": {
            "text/plain": [
              "<IPython.core.display.Math object>"
            ],
            "text/latex": "$\\displaystyle {P_{Y/X=3}(1)}= {{P_{XY}(3;1)} \\over {P_{X}(3)}} ={{1 \\over 6} \\over {1 \\over 6}}= 1$"
          },
          "metadata": {}
        }
      ]
    },
    {
      "cell_type": "code",
      "source": [
        "print('Verificación de independencia')\n",
        "print('')\n",
        "display(Math(r'{P_{XY}(0;0)} ? {{P_{X}(0)} * {P_{Y}(0)}} => {1 \\over 30} ? {1 \\over 30}*{8 \\over 15} => {1 \\over 30} \\neq {4 \\over 225} => No \\thinspace son \\thinspace independientes'))"
      ],
      "metadata": {
        "colab": {
          "base_uri": "https://localhost:8080/",
          "height": 86
        },
        "collapsed": true,
        "id": "dOJaaJdcqBoL",
        "outputId": "acd99c07-38e3-4589-f3fe-9681c586f253"
      },
      "execution_count": null,
      "outputs": [
        {
          "output_type": "stream",
          "name": "stdout",
          "text": [
            "Verificación de independencia\n",
            "\n"
          ]
        },
        {
          "output_type": "display_data",
          "data": {
            "text/plain": [
              "<IPython.core.display.Math object>"
            ],
            "text/latex": "$\\displaystyle {P_{XY}(0;0)} ? {{P_{X}(0)} * {P_{Y}(0)}} => {1 \\over 30} ? {1 \\over 30}*{8 \\over 15} => {1 \\over 30} \\neq {4 \\over 225} => No \\thinspace son \\thinspace independientes$"
          },
          "metadata": {}
        }
      ]
    },
    {
      "cell_type": "code",
      "source": [
        "print('Valor Esperado para h(x;y)=2X+3Y')\n",
        "print('')\n",
        "display(Math(r'E(X)= \\sum_{i=1}^n  \\sum_{j=1}^n h(x;y) P_{XY}(x_i;y_j)='))\n",
        "print('')\n",
        "display(Math(r'=(2*0+3*0)*{P_{XY}(0;0)}+(2*1+3*0)*{P_{XY}(1;0)}+(2*2+3*0)*{P_{XY}(2;0)}+(2*3+3*0)*{P_{XY}(3;0)}+(2*0+3*1)*{P_{XY}(0;1)}+(2*1+3*1)*{P_{XY}(1;1)}+(2*2+3*1)*{P_{XY}(2;1)}+(2*3+3*1)*{P_{XY}(3;1)}='))\n",
        "print('')\n",
        "display(Math(r'=0+0+4*{1 \\over 2}+0+0+5*{3\\over 10}+0+9*{1 \\over 6}='+str(0+0+ 4*(1/2) +0+0+ 5*(3/10)+0+ 9*(1/6))))"
      ],
      "metadata": {
        "colab": {
          "base_uri": "https://localhost:8080/",
          "height": 216
        },
        "collapsed": true,
        "id": "b7Q7UqkSqBkJ",
        "outputId": "57749eb8-0bdc-4d96-f36a-39cc471f588b"
      },
      "execution_count": null,
      "outputs": [
        {
          "output_type": "stream",
          "name": "stdout",
          "text": [
            "Valor Esperado para h(x;y)=2X+3Y\n",
            "\n"
          ]
        },
        {
          "output_type": "display_data",
          "data": {
            "text/plain": [
              "<IPython.core.display.Math object>"
            ],
            "text/latex": "$\\displaystyle E(X)= \\sum_{i=1}^n  \\sum_{j=1}^n h(x;y) P_{XY}(x_i;y_j)=$"
          },
          "metadata": {}
        },
        {
          "output_type": "stream",
          "name": "stdout",
          "text": [
            "\n"
          ]
        },
        {
          "output_type": "display_data",
          "data": {
            "text/plain": [
              "<IPython.core.display.Math object>"
            ],
            "text/latex": "$\\displaystyle =(2*0+3*0)*{P_{XY}(0;0)}+(2*1+3*0)*{P_{XY}(1;0)}+(2*2+3*0)*{P_{XY}(2;0)}+(2*3+3*0)*{P_{XY}(3;0)}+(2*0+3*1)*{P_{XY}(0;1)}+(2*1+3*1)*{P_{XY}(1;1)}+(2*2+3*1)*{P_{XY}(2;1)}+(2*3+3*1)*{P_{XY}(3;1)}=$"
          },
          "metadata": {}
        },
        {
          "output_type": "stream",
          "name": "stdout",
          "text": [
            "\n"
          ]
        },
        {
          "output_type": "display_data",
          "data": {
            "text/plain": [
              "<IPython.core.display.Math object>"
            ],
            "text/latex": "$\\displaystyle =0+0+4*{1 \\over 2}+0+0+5*{3\\over 10}+0+9*{1 \\over 6}=5.0$"
          },
          "metadata": {}
        }
      ]
    },
    {
      "cell_type": "code",
      "source": [
        "print('Covarianza')\n",
        "print('')\n",
        "display(Math(r'COV(X;Y)= E(XY) - E(X)E(Y)='))\n",
        "print('')\n",
        "display(Math(r'E(XY)=(0*0)*{P_{XY}(0;0)}+(1*0)*{P_{XY}(1;0)}+(2*0)*{P_{XY}(2;0)}+(3*0)*{P_{XY}(3;0)}+(0*1)*{P_{XY}(0;1)}+(1*1)*{P_{XY}(1;1)}+(2*1)*{P_{XY}(2;1)}+(3*1)*{P_{XY}(3;1)}='))\n",
        "print('')\n",
        "display(Math(r'=0+0+0+0+0+1*{3\\over 10}+0+3*{1 \\over 6}='+str(0+0+0+0+0+ 1*(3/10)+0+ 3*(1/6))))\n",
        "print('')\n",
        "display(Math(r'E(X)=0*{P_{X}(0)}+1*{P_{X}(1)}+2*{P_{X}(2)}+3*{P_{X}(3)}='+str(round(0+1*(3/10)+2*(1/2)+ 3*(1/6),2))))\n",
        "print('')\n",
        "display(Math(r'E(Y)=0*{P_{Y}(0)}+1*{P_{Y}(1)}='+str(round(0+1*(7/15),2))))\n",
        "print('')\n",
        "display(Math(r'COV(X;Y)= E(XY) - E(X)E(Y)='+str(round((1*(3/10)+ 3*(1/6))-((1*(3/10)+2*(1/2)+ 3*(1/6))*(1*(7/15))),2))))"
      ],
      "metadata": {
        "colab": {
          "base_uri": "https://localhost:8080/",
          "height": 302
        },
        "collapsed": true,
        "id": "T1KPjkFHqBhN",
        "outputId": "fb755544-a3cb-43c3-f312-32e7e57e37d4"
      },
      "execution_count": null,
      "outputs": [
        {
          "output_type": "stream",
          "name": "stdout",
          "text": [
            "Covarianza\n",
            "\n"
          ]
        },
        {
          "output_type": "display_data",
          "data": {
            "text/plain": [
              "<IPython.core.display.Math object>"
            ],
            "text/latex": "$\\displaystyle COV(X;Y)= E(XY) - E(X)E(Y)=$"
          },
          "metadata": {}
        },
        {
          "output_type": "stream",
          "name": "stdout",
          "text": [
            "\n"
          ]
        },
        {
          "output_type": "display_data",
          "data": {
            "text/plain": [
              "<IPython.core.display.Math object>"
            ],
            "text/latex": "$\\displaystyle E(XY)=(0*0)*{P_{XY}(0;0)}+(1*0)*{P_{XY}(1;0)}+(2*0)*{P_{XY}(2;0)}+(3*0)*{P_{XY}(3;0)}+(0*1)*{P_{XY}(0;1)}+(1*1)*{P_{XY}(1;1)}+(2*1)*{P_{XY}(2;1)}+(3*1)*{P_{XY}(3;1)}=$"
          },
          "metadata": {}
        },
        {
          "output_type": "stream",
          "name": "stdout",
          "text": [
            "\n"
          ]
        },
        {
          "output_type": "display_data",
          "data": {
            "text/plain": [
              "<IPython.core.display.Math object>"
            ],
            "text/latex": "$\\displaystyle =0+0+0+0+0+1*{3\\over 10}+0+3*{1 \\over 6}=0.8$"
          },
          "metadata": {}
        },
        {
          "output_type": "stream",
          "name": "stdout",
          "text": [
            "\n"
          ]
        },
        {
          "output_type": "display_data",
          "data": {
            "text/plain": [
              "<IPython.core.display.Math object>"
            ],
            "text/latex": "$\\displaystyle E(X)=0*{P_{X}(0)}+1*{P_{X}(1)}+2*{P_{X}(2)}+3*{P_{X}(3)}=1.8$"
          },
          "metadata": {}
        },
        {
          "output_type": "stream",
          "name": "stdout",
          "text": [
            "\n"
          ]
        },
        {
          "output_type": "display_data",
          "data": {
            "text/plain": [
              "<IPython.core.display.Math object>"
            ],
            "text/latex": "$\\displaystyle E(Y)=0*{P_{Y}(0)}+1*{P_{Y}(1)}=0.47$"
          },
          "metadata": {}
        },
        {
          "output_type": "stream",
          "name": "stdout",
          "text": [
            "\n"
          ]
        },
        {
          "output_type": "display_data",
          "data": {
            "text/plain": [
              "<IPython.core.display.Math object>"
            ],
            "text/latex": "$\\displaystyle COV(X;Y)= E(XY) - E(X)E(Y)=-0.04$"
          },
          "metadata": {}
        }
      ]
    },
    {
      "cell_type": "code",
      "source": [
        "print('Ya verificamos independencia y sabemos que X e Y no son independientes, entonces')\n",
        "display(Math(r'V(X;Y)= a^2V(X)+b^2V(Y) + 2*a*b*COV(X,Y)=4V(X)+9V(Y) + 2*2*3*(-0.04)'))\n",
        "print('')\n",
        "display(Math(r'E(X^2)=0^2*{P_{X}(0)}+1^2*{P_{X}(1)}+2^2*{P_{X}(2)}+3^2*{P_{X}(3)}='+str(round(0+1*(3/10)+4*(1/2)+ 9*(1/6),2))))\n",
        "print('')\n",
        "display(Math(r'V(X)=E(X^2)-[E(X)]^2='+str(round(1*(3/10)+4*(1/2)+ 9*(1/6) - (0+1*(3/10)+2*(1/2)+ 3*(1/6))**2,2))))\n",
        "print('')\n",
        "display(Math(r'E(Y^2)=0^2*{P_{Y}(0)}+1^2*{P_{Y}(1)}='+str(round(0+1*(7/15),2))))\n",
        "print('')\n",
        "display(Math(r'V(Y)=E(Y^2)-[E(Y)]^2='+str(round(1*(7/15) - (0+1*(7/15))**2,2))))\n",
        "print('')\n",
        "display(Math(r'V(X;Y)=4*0.56+9*0.25 + 2*2*3*(-0.04)='+str(round(4*0.56+9*0.25 + 2*2*3*(-0.04),2))))"
      ],
      "metadata": {
        "id": "K7b5Wcl2qBep",
        "colab": {
          "base_uri": "https://localhost:8080/",
          "height": 251
        },
        "collapsed": true,
        "outputId": "636fd2fc-5833-447e-dcdd-cf47c1d292ea"
      },
      "execution_count": null,
      "outputs": [
        {
          "output_type": "stream",
          "name": "stdout",
          "text": [
            "Ya verificamos independencia y sabemos que X e Y no son independientes, entonces\n"
          ]
        },
        {
          "output_type": "display_data",
          "data": {
            "text/plain": [
              "<IPython.core.display.Math object>"
            ],
            "text/latex": "$\\displaystyle V(X;Y)= a^2V(X)+b^2V(Y) + 2*a*b*COV(X,Y)=4V(X)+9V(Y) + 2*2*3*(-0.04)$"
          },
          "metadata": {}
        },
        {
          "output_type": "stream",
          "name": "stdout",
          "text": [
            "\n"
          ]
        },
        {
          "output_type": "display_data",
          "data": {
            "text/plain": [
              "<IPython.core.display.Math object>"
            ],
            "text/latex": "$\\displaystyle E(X^2)=0^2*{P_{X}(0)}+1^2*{P_{X}(1)}+2^2*{P_{X}(2)}+3^2*{P_{X}(3)}=3.8$"
          },
          "metadata": {}
        },
        {
          "output_type": "stream",
          "name": "stdout",
          "text": [
            "\n"
          ]
        },
        {
          "output_type": "display_data",
          "data": {
            "text/plain": [
              "<IPython.core.display.Math object>"
            ],
            "text/latex": "$\\displaystyle V(X)=E(X^2)-[E(X)]^2=0.56$"
          },
          "metadata": {}
        },
        {
          "output_type": "stream",
          "name": "stdout",
          "text": [
            "\n"
          ]
        },
        {
          "output_type": "display_data",
          "data": {
            "text/plain": [
              "<IPython.core.display.Math object>"
            ],
            "text/latex": "$\\displaystyle E(Y^2)=0^2*{P_{Y}(0)}+1^2*{P_{Y}(1)}=0.47$"
          },
          "metadata": {}
        },
        {
          "output_type": "stream",
          "name": "stdout",
          "text": [
            "\n"
          ]
        },
        {
          "output_type": "display_data",
          "data": {
            "text/plain": [
              "<IPython.core.display.Math object>"
            ],
            "text/latex": "$\\displaystyle V(Y)=E(Y^2)-[E(Y)]^2=0.25$"
          },
          "metadata": {}
        },
        {
          "output_type": "stream",
          "name": "stdout",
          "text": [
            "\n"
          ]
        },
        {
          "output_type": "display_data",
          "data": {
            "text/plain": [
              "<IPython.core.display.Math object>"
            ],
            "text/latex": "$\\displaystyle V(X;Y)=4*0.56+9*0.25 + 2*2*3*(-0.04)=4.01$"
          },
          "metadata": {}
        }
      ]
    },
    {
      "cell_type": "code",
      "source": [
        "display(Math(r'\\rho(X;Y)= {COV(X,Y) \\over \\sigma_X*\\sigma_Y}='))\n",
        "print('')\n",
        "display(Math(r'D(X)={\\sqrt V(X)}='+str(round(1*(3/10)+4*(1/2)+ 9*(1/6) - (0+1*(3/10)+2*(1/2)+ 3*(1/6))**2,2)**0.5)))\n",
        "print('')\n",
        "display(Math(r'D(Y)={\\sqrt V(Y)}='+str(round(1*(7/15) - (0+1*(7/15))**2,2)**0.5)))\n",
        "print('')\n",
        "display(Math(r'\\rho(X;Y)='+str(round(round((1*(3/10)+ 3*(1/6))-((1*(3/10)+2*(1/2)+ 3*(1/6))*(1*(7/15))),2) / ((round(1*(3/10)+4*(1/2)+ 9*(1/6) - (0+1*(3/10)+2*(1/2)+ 3*(1/6))**2,2)**0.5)*round(1*(7/15) - (0+1*(7/15))**2,2)**0.5),3))))"
      ],
      "metadata": {
        "id": "m3BSX-HO68eD",
        "colab": {
          "base_uri": "https://localhost:8080/",
          "height": 175
        },
        "collapsed": true,
        "outputId": "7667a429-fdc0-4537-ce89-f556d9b0e1f7"
      },
      "execution_count": null,
      "outputs": [
        {
          "output_type": "display_data",
          "data": {
            "text/plain": [
              "<IPython.core.display.Math object>"
            ],
            "text/latex": "$\\displaystyle \\rho(X;Y)= {COV(X,Y) \\over \\sigma_X*\\sigma_Y}=$"
          },
          "metadata": {}
        },
        {
          "output_type": "stream",
          "name": "stdout",
          "text": [
            "\n"
          ]
        },
        {
          "output_type": "display_data",
          "data": {
            "text/plain": [
              "<IPython.core.display.Math object>"
            ],
            "text/latex": "$\\displaystyle D(X)={\\sqrt V(X)}=0.7483314773547883$"
          },
          "metadata": {}
        },
        {
          "output_type": "stream",
          "name": "stdout",
          "text": [
            "\n"
          ]
        },
        {
          "output_type": "display_data",
          "data": {
            "text/plain": [
              "<IPython.core.display.Math object>"
            ],
            "text/latex": "$\\displaystyle D(Y)={\\sqrt V(Y)}=0.5$"
          },
          "metadata": {}
        },
        {
          "output_type": "stream",
          "name": "stdout",
          "text": [
            "\n"
          ]
        },
        {
          "output_type": "display_data",
          "data": {
            "text/plain": [
              "<IPython.core.display.Math object>"
            ],
            "text/latex": "$\\displaystyle \\rho(X;Y)=-0.107$"
          },
          "metadata": {}
        }
      ]
    },
    {
      "cell_type": "markdown",
      "source": [
        "###Ejemplo 2 para que realicen los y las estudiante en clase"
      ],
      "metadata": {
        "id": "y70taDRjDVui"
      }
    }
  ]
}