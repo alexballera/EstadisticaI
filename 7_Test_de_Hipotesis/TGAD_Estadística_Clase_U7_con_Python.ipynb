{
  "nbformat": 4,
  "nbformat_minor": 0,
  "metadata": {
    "colab": {
      "provenance": [],
      "collapsed_sections": [
        "x1VhSHZj2Nsn",
        "50WgxUNjEBzo",
        "ULmxDroFEKtj",
        "L4HyHMUgENqB",
        "5SkNNCW-ESJF",
        "D9GI_PlCEWuM",
        "gxEWdi4MEc6H",
        "k7K2YxBMEg20",
        "i6ILmAIAMH-N",
        "JATmy9xyOrsm"
      ],
      "include_colab_link": true
    },
    "kernelspec": {
      "name": "python3",
      "display_name": "Python 3"
    },
    "language_info": {
      "name": "python"
    }
  },
  "cells": [
    {
      "cell_type": "markdown",
      "metadata": {
        "id": "view-in-github",
        "colab_type": "text"
      },
      "source": [
        "<a href=\"https://colab.research.google.com/github/TGADEstadisticaI/EstadisticaI/blob/main/7%20Test%20de%20Hipotesis/TGAD_Estad%C3%ADstica_Clase_U7_con_Python.ipynb\" target=\"_parent\"><img src=\"https://colab.research.google.com/assets/colab-badge.svg\" alt=\"Open In Colab\"/></a>"
      ]
    },
    {
      "cell_type": "markdown",
      "source": [
        "<figure>\n",
        "<center>\n",
        "<img src='https://www.economicas.uba.ar/wp-content/uploads/2020/08/cropped-logo_FCE.png' />\n",
        "</figure>"
      ],
      "metadata": {
        "id": "drvDSfWaaYWS"
      }
    },
    {
      "cell_type": "markdown",
      "source": [
        "# **Universidad de Buenos Aires**\n",
        "## **Facultad de Ciencias Económicas**\n",
        "\n",
        "### **Estadística I**\n",
        "\n",
        "### Cátedra: Bianco\n",
        "\n",
        "#### **Resolución ejemplos clase U7 con Python**\n",
        "\n",
        "***Material elaborado por la profesora Natalia Salaberry***"
      ],
      "metadata": {
        "id": "eMuYyGo7uqxJ"
      }
    },
    {
      "cell_type": "markdown",
      "source": [
        "###**Librerías**"
      ],
      "metadata": {
        "id": "x1VhSHZj2Nsn"
      }
    },
    {
      "cell_type": "code",
      "source": [
        "import pandas as pd\n",
        "import requests\n",
        "import numpy as np\n",
        "import sympy\n",
        "import statistics as ss\n",
        "import math\n",
        "from IPython.display import display, Math\n",
        "import matplotlib.pyplot as plt\n",
        "import warnings\n",
        "warnings.filterwarnings('ignore')\n",
        "import seaborn as sns\n",
        "from scipy.stats import t, chi2, norm, f"
      ],
      "metadata": {
        "id": "2me7y8qzJEio"
      },
      "execution_count": null,
      "outputs": []
    },
    {
      "cell_type": "markdown",
      "source": [
        "###Test de Hipótesis para la media de una variable aleatoria normal con varianza conocida"
      ],
      "metadata": {
        "id": "50WgxUNjEBzo"
      }
    },
    {
      "cell_type": "code",
      "source": [
        "def TH_MEDIA_VARCON(media_muestral, mu, sigma, n, alfa, simbolo_H1):\n",
        "  import scipy.stats as ss\n",
        "  import numpy as np\n",
        "  Zobs=round((media_muestral-mu) / (sigma/np.sqrt(n)),4)\n",
        "  if simbolo_H1=='>':\n",
        "    Zalfa  = round(ss.norm.ppf(1-alfa, 0,1),4)\n",
        "    if Zobs > Zalfa:\n",
        "      respuesta='Como se cumple C.D ya que ' + 'Zobs='+str(Zobs)+' es mayor que '+ 'Z_1-alfa='+str(Zalfa)+' entonces se rechaza H0'\n",
        "    else:\n",
        "      respuesta='Como no se cumple C.D ya que ' + 'Zobs='+str(Zobs)+' es menor que '+ 'Z_1-alfa='+str(Zalfa)+' entonces no se rechaza H0'\n",
        "\n",
        "    p_valor=1-ss.norm.cdf(Zobs, 0,1)\n",
        "    if p_valor < alfa:\n",
        "      respuesta1='Como se cumple C.D ya que ' + 'P-valor='+str(p_valor)+  ' es menor que '+ 'alfa='+ str(alfa)+' entonces se rechaza H0'\n",
        "    else:\n",
        "      respuesta1='Como no se cumple C.D ya que ' + 'P-valor='+str(p_valor)+  ' es mayor que '+ 'alfa='+ str(alfa)+' entonces no se rechaza H0'\n",
        "\n",
        "  elif simbolo_H1=='<':\n",
        "    Zalfa  = round(ss.norm.ppf(alfa, 0,1),4)\n",
        "    if Zobs < Zalfa:\n",
        "      respuesta='Como se cumple C.D ya que ' + 'Zobs='+str(Zobs)+' es menor que '+ 'Zalfa='+str(Zalfa)+' entonces se rechaza H0'\n",
        "    else:\n",
        "      respuesta='Como no se cumple C.D ya que ' + 'Zobs='+str(Zobs)+' es mayor que '+ 'Zalfa='+str(Zalfa)+' entonces no se rechaza H0'\n",
        "\n",
        "    p_valor=ss.norm.cdf(Zobs, 0,1)\n",
        "    if p_valor < alfa:\n",
        "      respuesta1='Como se cumple C.D ya que ' + 'P-valor='+str(p_valor)+  ' es menor que '+ 'alfa='+ str(alfa)+' entonces se rechaza H0'\n",
        "    else:\n",
        "      respuesta1='Como no se cumple C.D ya que ' + 'P-valor='+str(p_valor)+  ' es mayor que '+ 'alfa='+ str(alfa)+' entonces no se rechaza H0'\n",
        "\n",
        "  else:\n",
        "    Zalfa  = round(ss.norm.ppf(1-alfa/2, 0,1),4)\n",
        "    if np.abs(Zobs) > Zalfa:\n",
        "      respuesta='Como se cumple C.D ya que ' + '|Zobs|='+'|'+str(Zobs)+'|'+' es mayor que '+ 'Z_1-alfa/2='+str(Zalfa)+' entonces se rechaza H0'\n",
        "    else:\n",
        "      respuesta='Como no se cumple C.D ya que ' + '|Zobs|='+'|'+str(Zobs)+'|'+' es menor que '+ 'Z_1-alfa/2='+str(Zalfa)+' entonces no se rechaza H0'\n",
        "\n",
        "    p_valor=2*(1-ss.norm.cdf(abs(Zobs), 0,1))\n",
        "    if p_valor < alfa:\n",
        "      respuesta1='Como se cumple C.D ya que ' + 'P-valor='+str(p_valor)+  ' es menor que '+ 'alfa='+ str(alfa)+' entonces se rechaza H0'\n",
        "    else:\n",
        "      respuesta1='Como no se cumple C.D ya que ' + 'P-valor='+str(p_valor)+  ' es mayor que '+ 'alfa='+ str(alfa)+' entonces no se rechaza H0'\n",
        "\n",
        "  return respuesta, respuesta1"
      ],
      "metadata": {
        "id": "2LZZX530N5E-"
      },
      "execution_count": null,
      "outputs": []
    },
    {
      "cell_type": "markdown",
      "source": [
        "Ejemplo 1:\n",
        "La compañía A afirma que el contenido del envase del producto que ellos producen tiene un peso medio mínimo de 500gr. Algunas experiencias pasadas han demostrado que la desviación estándar del peso del envase es de 15gr. Un empleado toma una muestra aleatoria de 25 envases producidos por la compañía A y pesa su contenido, obteniendo un peso medio $\\bar X$\n",
        "= 490 gr. Entonces el empleado sospecha que la\n",
        "compañía no llena debidamente los envases y quiere decidir si hacer juicio o no,\n",
        "acusando a la compañía de desleal. Con un nivel de significación del 5%, ¿qué\n",
        "decisión tomará el empleado?"
      ],
      "metadata": {
        "id": "sWroRvyfEuQ9"
      }
    },
    {
      "cell_type": "code",
      "source": [
        "display(Math(r'1) \\thinspace X=\"contenido \\thinspace del \\thinspace envase\"'))\n",
        "print('')\n",
        "display(Math(r'2) \\thinspace X \\sim N(\\mu; \\sigma) \\thinspace con \\thinspace \\sigma \\thinspace conocida'))\n",
        "print('')\n",
        "display(Math(r'3) \\thinspace H0: \\mu \\geq 500   \\thinspace H1: \\mu < 500'))\n",
        "print('')\n",
        "display(Math(r'4 y 5) \\thinspace Z_{obs}= {\\bar X - \\mu \\over {\\sigma \\over \\sqrt n}} \\sim N(0;1)'))\n",
        "print('')\n",
        "display(Math(r'6) \\thinspace CD: Z_{obs} < Z_{\\alpha}  \\thinspace para  \\thinspace rechazar  \\thinspace H0'))\n",
        "print('')\n",
        "display(Math(r'7)'))\n",
        "print(TH_MEDIA_VARCON(490, 500, 15, 25, 0.05, '<')[0])\n",
        "print(TH_MEDIA_VARCON(490, 500, 15, 25, 0.05, '<')[1])\n",
        "print('')\n",
        "print('8) Hay evidencia suficiente para suponer que la sospecha del empleado es cierta con un 95% de confianza y el empleado tomará la decisión de hacer juicio a la compañía A ')"
      ],
      "metadata": {
        "colab": {
          "base_uri": "https://localhost:8080/",
          "height": 346
        },
        "collapsed": true,
        "id": "WWmCh7s8EMlZ",
        "outputId": "4346294f-8f4a-4a5f-d7cd-5b9a28be2d85"
      },
      "execution_count": null,
      "outputs": [
        {
          "output_type": "display_data",
          "data": {
            "text/plain": [
              "<IPython.core.display.Math object>"
            ],
            "text/latex": "$\\displaystyle 1) \\thinspace X=\"contenido \\thinspace del \\thinspace envase\"$"
          },
          "metadata": {}
        },
        {
          "output_type": "stream",
          "name": "stdout",
          "text": [
            "\n"
          ]
        },
        {
          "output_type": "display_data",
          "data": {
            "text/plain": [
              "<IPython.core.display.Math object>"
            ],
            "text/latex": "$\\displaystyle 2) \\thinspace X \\sim N(\\mu; \\sigma) \\thinspace con \\thinspace \\sigma \\thinspace conocida$"
          },
          "metadata": {}
        },
        {
          "output_type": "stream",
          "name": "stdout",
          "text": [
            "\n"
          ]
        },
        {
          "output_type": "display_data",
          "data": {
            "text/plain": [
              "<IPython.core.display.Math object>"
            ],
            "text/latex": "$\\displaystyle 3) \\thinspace H0: \\mu \\geq 500   \\thinspace H1: \\mu < 500$"
          },
          "metadata": {}
        },
        {
          "output_type": "stream",
          "name": "stdout",
          "text": [
            "\n"
          ]
        },
        {
          "output_type": "display_data",
          "data": {
            "text/plain": [
              "<IPython.core.display.Math object>"
            ],
            "text/latex": "$\\displaystyle 4 y 5) \\thinspace Z_{obs}= {\\bar X - \\mu \\over {\\sigma \\over \\sqrt n}} \\sim N(0;1)$"
          },
          "metadata": {}
        },
        {
          "output_type": "stream",
          "name": "stdout",
          "text": [
            "\n"
          ]
        },
        {
          "output_type": "display_data",
          "data": {
            "text/plain": [
              "<IPython.core.display.Math object>"
            ],
            "text/latex": "$\\displaystyle 6) \\thinspace CD: Z_{obs} < Z_{\\alpha}  \\thinspace para  \\thinspace rechazar  \\thinspace H0$"
          },
          "metadata": {}
        },
        {
          "output_type": "stream",
          "name": "stdout",
          "text": [
            "\n"
          ]
        },
        {
          "output_type": "display_data",
          "data": {
            "text/plain": [
              "<IPython.core.display.Math object>"
            ],
            "text/latex": "$\\displaystyle 7)$"
          },
          "metadata": {}
        },
        {
          "output_type": "stream",
          "name": "stdout",
          "text": [
            "Como se cumple C.D ya que Zobs=-3.3333 es menor que Zalfa=-1.6449 entonces se rechaza H0\n",
            "Como se cumple C.D ya que P-valor=0.0004291117453528819 es menor que alfa=0.05 entonces se rechaza H0\n",
            "\n",
            "8) Hay evidencia suficiente para suponer que la sospecha del empleado es cierta con un 95% de confianza y el empleado tomará la decisión de hacer juicio a la compañía A \n"
          ]
        }
      ]
    },
    {
      "cell_type": "markdown",
      "source": [
        "###Test de Hipótesis para la media de una variable aleatoria normal con varianza desconocida"
      ],
      "metadata": {
        "id": "ULmxDroFEKtj"
      }
    },
    {
      "cell_type": "code",
      "source": [
        "def TH_MEDIA_VARDESCON(media_muestral, mu, S, n, alfa, simbolo_H1):\n",
        "  import scipy.stats as ss\n",
        "  import numpy as np\n",
        "  tobs=round((media_muestral-mu) / (S/np.sqrt(n)),4)\n",
        "  if simbolo_H1=='>':\n",
        "    talfa  = round(ss.t.ppf(1-alfa, n-1),4)\n",
        "    if tobs > talfa:\n",
        "      respuesta='Como se cumple C.D ya que ' + 'tobs='+str(tobs)+' es mayor que '+ 't_1-alfa;n-1='+str(talfa)+' entonces se rechaza H0'\n",
        "    else:\n",
        "      respuesta='Como no se cumple C.D ya que ' + 'tobs='+str(tobs)+' es menor que '+ 't_1-alfa;n-1='+str(talfa)+' entonces no se rechaza H0'\n",
        "\n",
        "    p_valor=round(1-ss.t.cdf(tobs, n-1),8)\n",
        "    if p_valor < alfa:\n",
        "      respuesta1='Como se cumple C.D ya que ' + 'P-valor='+str(p_valor)+  ' es menor que '+ 'alfa='+ str(alfa)+' entonces se rechaza H0'\n",
        "    else:\n",
        "      respuesta1='Como no se cumple C.D ya que ' + 'P-valor='+str(p_valor)+  ' es mayor que '+ 'alfa='+ str(alfa)+' entonces no se rechaza H0'\n",
        "\n",
        "  elif simbolo_H1=='<':\n",
        "    talfa  = round(ss.t.ppf(alfa, n-1),4)\n",
        "    if tobs < talfa:\n",
        "      respuesta='Como se cumple C.D ya que ' + 'tobs='+str(tobs)+' es menor que '+ 'talfa;n-1='+str(talfa)+' entonces se rechaza H0'\n",
        "    else:\n",
        "      respuesta='Como no se cumple C.D ya que ' + 'tobs='+str(tobs)+' es mayor que '+ 'talfa;n-1='+str(talfa)+' entonces no se rechaza H0'\n",
        "\n",
        "    p_valor=round(ss.t.cdf(tobs, n-1),8)\n",
        "    if p_valor < alfa:\n",
        "      respuesta1='Como se cumple C.D ya que ' + 'P-valor='+str(p_valor)+  ' es menor que '+ 'alfa='+ str(alfa)+' entonces se rechaza H0'\n",
        "    else:\n",
        "      respuesta1='Como no se cumple C.D ya que ' + 'P-valor='+str(p_valor)+  ' es mayor que '+ 'alfa='+ str(alfa)+' entonces no se rechaza H0'\n",
        "\n",
        "  else:\n",
        "    talfa  = round(ss.t.ppf(1-alfa/2, n-1),4)\n",
        "    if np.abs(tobs) > talfa:\n",
        "      respuesta='Como se cumple C.D ya que ' + '|tobs|='+'|'+str(tobs)+'|'+' es mayor que '+ 't_1-alfa/2;n-1='+str(talfa)+' entonces se rechaza H0'\n",
        "    else:\n",
        "      respuesta='Como no se cumple C.D ya que ' + '|tobs|='+'|'+str(tobs)+'|'+' es menor que '+ 't_1-alfa/2;n-1='+str(talfa)+' entonces no se rechaza H0'\n",
        "\n",
        "    p_valor=2*round(1-ss.t.cdf(abs(tobs), n-1),8)\n",
        "    if p_valor < alfa:\n",
        "      respuesta1='Como se cumple C.D ya que ' + 'P-valor='+str(p_valor)+  ' es menor que '+ 'alfa='+ str(alfa)+' entonces se rechaza H0'\n",
        "    else:\n",
        "      respuesta1='Como no se cumple C.D ya que ' + 'P-valor='+str(p_valor)+  ' es mayor que '+ 'alfa='+ str(alfa)+' entonces no se rechaza H0'\n",
        "\n",
        "  return respuesta, respuesta1"
      ],
      "metadata": {
        "id": "xzK2_FXNN7Hn"
      },
      "execution_count": null,
      "outputs": []
    },
    {
      "cell_type": "markdown",
      "source": [
        "Ejemplo 2: Al ver lo que pasó con la compañía A, la empresa competidora B decide estar muy\n",
        "atento en su línea de producción de los envases de 500gr. Se sabe que tanto el\n",
        "sobrellenado o la falta de llenado son problemas graves y se debe parar la línea de\n",
        "producción en cualquiera de esos casos. El jefe de control de calidad decide tomar\n",
        "muestras aleatorias de 25 unidades cada 2hs con el fin de detectar si debe parar la\n",
        "producción para el ajuste de la maquinaria o bien dejarla funcionando. Si en la última\n",
        "muestra se obtuvo un peso promedio de 491.609 gr con un desvío de 15gr. ¿Qué\n",
        "decisión tomará el jefe de control de calidad si trabaja con un nivel de significación del\n",
        "5%? Suponer que el peso de las cajas sigue una distribución normal"
      ],
      "metadata": {
        "id": "D1JEuPgVFpYt"
      }
    },
    {
      "cell_type": "code",
      "source": [
        "display(Math(r'1) \\thinspace X=\"contenido \\thinspace del \\thinspace envase\"'))\n",
        "print('')\n",
        "display(Math(r'2) \\thinspace X \\sim N(\\mu; \\sigma) \\thinspace con \\thinspace \\sigma \\thinspace desconocida'))\n",
        "print('')\n",
        "display(Math(r'3) \\thinspace H0: \\mu = 500   \\thinspace H1: \\mu \\neq 500'))\n",
        "print('')\n",
        "display(Math(r'4 y 5) \\thinspace Z_{obs}= {\\bar X - \\mu \\over {S \\over \\sqrt n}} \\sim N(0;1)'))\n",
        "print('')\n",
        "display(Math(r'6) \\thinspace CD: |Z_{obs}| > Z_{1-{\\alpha \\over 2}}  \\thinspace para  \\thinspace rechazar  \\thinspace H0'))\n",
        "print('')\n",
        "display(Math(r'7)'))\n",
        "print(TH_MEDIA_VARDESCON(491.609, 500, 15, 25, 0.05, '')[0])\n",
        "print(TH_MEDIA_VARDESCON(491.609, 500, 15, 25, 0.05, '')[1])\n",
        "print('')\n",
        "print('8) Hay evidencia suficiente para suponer que hay que reparar la maquinaria con un 95% de confianza y el jefe tomará la decisión de detener el proceso')"
      ],
      "metadata": {
        "colab": {
          "base_uri": "https://localhost:8080/",
          "height": 328
        },
        "collapsed": true,
        "id": "aA0O2g6UEQ-E",
        "outputId": "e2c84b8d-29b5-4ecb-e825-d06c11ca39e2"
      },
      "execution_count": null,
      "outputs": [
        {
          "output_type": "display_data",
          "data": {
            "text/plain": [
              "<IPython.core.display.Math object>"
            ],
            "text/latex": "$\\displaystyle 1) \\thinspace X=\"contenido \\thinspace del \\thinspace envase\"$"
          },
          "metadata": {}
        },
        {
          "output_type": "stream",
          "name": "stdout",
          "text": [
            "\n"
          ]
        },
        {
          "output_type": "display_data",
          "data": {
            "text/plain": [
              "<IPython.core.display.Math object>"
            ],
            "text/latex": "$\\displaystyle 2) \\thinspace X \\sim N(\\mu; \\sigma) \\thinspace con \\thinspace \\sigma \\thinspace desconocida$"
          },
          "metadata": {}
        },
        {
          "output_type": "stream",
          "name": "stdout",
          "text": [
            "\n"
          ]
        },
        {
          "output_type": "display_data",
          "data": {
            "text/plain": [
              "<IPython.core.display.Math object>"
            ],
            "text/latex": "$\\displaystyle 3) \\thinspace H0: \\mu = 500   \\thinspace H1: \\mu \\neq 500$"
          },
          "metadata": {}
        },
        {
          "output_type": "stream",
          "name": "stdout",
          "text": [
            "\n"
          ]
        },
        {
          "output_type": "display_data",
          "data": {
            "text/plain": [
              "<IPython.core.display.Math object>"
            ],
            "text/latex": "$\\displaystyle 4 y 5) \\thinspace Z_{obs}= {\\bar X - \\mu \\over {S \\over \\sqrt n}} \\sim N(0;1)$"
          },
          "metadata": {}
        },
        {
          "output_type": "stream",
          "name": "stdout",
          "text": [
            "\n"
          ]
        },
        {
          "output_type": "display_data",
          "data": {
            "text/plain": [
              "<IPython.core.display.Math object>"
            ],
            "text/latex": "$\\displaystyle 6) \\thinspace CD: |Z_{obs}| > Z_{1-{\\alpha \\over 2}}  \\thinspace para  \\thinspace rechazar  \\thinspace H0$"
          },
          "metadata": {}
        },
        {
          "output_type": "stream",
          "name": "stdout",
          "text": [
            "\n"
          ]
        },
        {
          "output_type": "display_data",
          "data": {
            "text/plain": [
              "<IPython.core.display.Math object>"
            ],
            "text/latex": "$\\displaystyle 7)$"
          },
          "metadata": {}
        },
        {
          "output_type": "stream",
          "name": "stdout",
          "text": [
            "Como se cumple C.D ya que |tobs|=|-2.797| es mayor que t_1-alfa/2;n-1=2.0639 entonces se rechaza H0\n",
            "Como se cumple C.D ya que P-valor=0.0099986 es menor que alfa=0.05 entonces se rechaza H0\n",
            "\n",
            "8) Hay evidencia suficiente para suponer que hay que reparar la maquinaria con un 95% de confianza y el jefe tomará la decisión de detener el proceso\n"
          ]
        }
      ]
    },
    {
      "cell_type": "markdown",
      "source": [
        "###Test de Hipótesis para la varianza"
      ],
      "metadata": {
        "id": "L4HyHMUgENqB"
      }
    },
    {
      "cell_type": "code",
      "source": [
        "def TH_MEDIA_VARIANZA(var_muestral, var_pob, n, alfa, simbolo_H1):\n",
        "  import scipy.stats as ss\n",
        "  import numpy as np\n",
        "  chiobs=round((n-1)*var_muestral / var_pob,4)\n",
        "  if simbolo_H1=='>':\n",
        "    chialfa  = round(ss.chi2.ppf(1-alfa, n-1),4)\n",
        "    if chiobs > chialfa:\n",
        "      respuesta='Como se cumple C.D ya que ' + 'chiobs='+str(chiobs)+' es mayor que '+ 'Chi_1-alfa;n-1='+str(chialfa)+' entonces se rechaza H0'\n",
        "    else:\n",
        "      respuesta='Como no se cumple C.D ya que ' + 'chiobs='+str(chiobs)+' es menor que '+ 'Chi_1-alfa;n-1='+str(chialfa)+' entonces no se rechaza H0'\n",
        "\n",
        "    p_valor=round(1-ss.chi2.cdf(chiobs, n-1),8)\n",
        "    if p_valor < alfa:\n",
        "      respuesta1='Como se cumple C.D ya que ' + 'P-valor='+str(p_valor)+  ' es menor que '+ 'alfa='+ str(alfa)+' entonces se rechaza H0'\n",
        "    else:\n",
        "      respuesta1='Como no se cumple C.D ya que ' + 'P-valor='+str(p_valor)+  ' es mayor que '+ 'alfa='+ str(alfa)+' entonces no se rechaza H0'\n",
        "\n",
        "  elif simbolo_H1=='<':\n",
        "    chialfa  = round(ss.chi2.ppf(alfa, n-1),4)\n",
        "    if chiobs < chialfa:\n",
        "      respuesta='Como se cumple C.D ya que ' + 'chiobs='+str(chiobs)+' es menor que '+ 'chialfa;n-1='+str(chialfa)+' entonces se rechaza H0'\n",
        "    else:\n",
        "      respuesta='Como no se cumple C.D ya que ' + 'chiobs='+str(chiobs)+' es mayor que '+ 'chialfa;n-1='+str(chialfa)+' entonces no se rechaza H0'\n",
        "\n",
        "    p_valor=round(ss.chi2.cdf(chiobs, n-1),8)\n",
        "    if p_valor < alfa:\n",
        "      respuesta1='Como se cumple C.D ya que ' + 'P-valor='+str(p_valor)+  ' es menor que '+ 'alfa='+ str(alfa)+' entonces se rechaza H0'\n",
        "    else:\n",
        "      respuesta1='Como no se cumple C.D ya que ' + 'P-valor='+str(p_valor)+  ' es mayor que '+ 'alfa='+ str(alfa)+' entonces no se rechaza H0'\n",
        "\n",
        "  else:\n",
        "    chialfa  = round(ss.chi2.ppf(1-alfa/2, n-1),4)\n",
        "    if np.abs(chiobs) > chialfa:\n",
        "      respuesta='Como se cumple C.D ya que ' + '|chiobs|='+'|'+str(chiobs)+'|'+' es mayor que '+ 'Chi_1-alfa/2;n-1='+str(chialfa)+' entonces se rechaza H0'\n",
        "    else:\n",
        "      respuesta='Como no se cumple C.D ya que ' + '|chiobs|='+'|'+str(chiobs)+'|'+' es menor que '+ 'Chi_1-alfa/2;n-1='+str(chialfa)+' entonces no se rechaza H0'\n",
        "\n",
        "    p_valor=2*np.min([round(1-ss.chi2.cdf(chiobs, n-1),8), round(ss.chi2.cdf(chiobs, n-1),8)])\n",
        "    if p_valor < alfa:\n",
        "      respuesta1='Como se cumple C.D ya que ' + 'P-valor='+str(p_valor)+  ' es menor que '+ 'alfa='+ str(alfa)+' entonces se rechaza H0'\n",
        "    else:\n",
        "      respuesta1='Como no se cumple C.D ya que ' + 'P-valor='+str(p_valor)+  ' es mayor que '+ 'alfa='+ str(alfa)+' entonces no se rechaza H0'\n",
        "\n",
        "  return respuesta, respuesta1"
      ],
      "metadata": {
        "id": "FFsV7kD7N5ov"
      },
      "execution_count": null,
      "outputs": []
    },
    {
      "cell_type": "markdown",
      "source": [
        "Ejemplo 3: La empresa A también produce sobres de azúcar individuales. Los sobres se\n",
        "envasan automáticamente. Si la varianza del contenido de los sobres es\n",
        "mayor que $0,2 𝑔𝑟^2$ , se debe parar el proceso de envasado para proceder a\n",
        "su ajuste.\n",
        "Se tomó una muestra de 15 sobres, se pesó su contenido y se obtuvo una\n",
        "media de 10,2g y una varianza de $0,34 𝑔𝑟^2$ .\n",
        "Con un nivel de significación del 5% decidir si se debe ajustar el proceso."
      ],
      "metadata": {
        "id": "DJdpol8qHIB1"
      }
    },
    {
      "cell_type": "code",
      "source": [
        "display(Math(r'1) \\thinspace X=\"variabilidad \\thinspace peso\"'))\n",
        "print('')\n",
        "display(Math(r'2) \\thinspace X \\sim N(\\mu; \\sigma)'))\n",
        "print('')\n",
        "display(Math(r'3) \\thinspace H0: \\sigma^2 \\leq 0.2   \\thinspace H1: \\sigma^2 > 0.2'))\n",
        "print('')\n",
        "display(Math(r'4 y 5) \\thinspace Chi_{obs}= {(n-1) *S^2 \\over {\\sigma^2}} \\sim \\chi^2_{n-1}'))\n",
        "print('')\n",
        "display(Math(r'6) \\thinspace CD: Chi_{obs} > \\chi_{1-\\alpha}^2  \\thinspace para  \\thinspace rechazar  \\thinspace H0'))\n",
        "print('')\n",
        "display(Math(r'7)'))\n",
        "print(TH_MEDIA_VARIANZA(0.34, 0.2, 15, 0.05, '>')[0])\n",
        "print(TH_MEDIA_VARIANZA(0.34, 0.2, 15, 0.05, '>')[1])\n",
        "print('')\n",
        "print('8) Hay evidencia suficiente para detener el proceso para realizar ajustes con un 95% de confianza')"
      ],
      "metadata": {
        "colab": {
          "base_uri": "https://localhost:8080/",
          "height": 317
        },
        "collapsed": true,
        "id": "ca5oz9kAERsn",
        "outputId": "f3fabaaa-41e5-47e6-8da4-b64835d193f7"
      },
      "execution_count": null,
      "outputs": [
        {
          "output_type": "display_data",
          "data": {
            "text/plain": [
              "<IPython.core.display.Math object>"
            ],
            "text/latex": "$\\displaystyle 1) \\thinspace X=\"variabilidad \\thinspace peso\"$"
          },
          "metadata": {}
        },
        {
          "output_type": "stream",
          "name": "stdout",
          "text": [
            "\n"
          ]
        },
        {
          "output_type": "display_data",
          "data": {
            "text/plain": [
              "<IPython.core.display.Math object>"
            ],
            "text/latex": "$\\displaystyle 2) \\thinspace X \\sim N(\\mu; \\sigma)$"
          },
          "metadata": {}
        },
        {
          "output_type": "stream",
          "name": "stdout",
          "text": [
            "\n"
          ]
        },
        {
          "output_type": "display_data",
          "data": {
            "text/plain": [
              "<IPython.core.display.Math object>"
            ],
            "text/latex": "$\\displaystyle 3) \\thinspace H0: \\sigma^2 \\leq 0.2   \\thinspace H1: \\sigma^2 > 0.2$"
          },
          "metadata": {}
        },
        {
          "output_type": "stream",
          "name": "stdout",
          "text": [
            "\n"
          ]
        },
        {
          "output_type": "display_data",
          "data": {
            "text/plain": [
              "<IPython.core.display.Math object>"
            ],
            "text/latex": "$\\displaystyle 4 y 5) \\thinspace Chi_{obs}= {(n-1) *S^2 \\over {\\sigma^2}} \\sim \\chi^2_{n-1}$"
          },
          "metadata": {}
        },
        {
          "output_type": "stream",
          "name": "stdout",
          "text": [
            "\n"
          ]
        },
        {
          "output_type": "display_data",
          "data": {
            "text/plain": [
              "<IPython.core.display.Math object>"
            ],
            "text/latex": "$\\displaystyle 6) \\thinspace CD: Chi_{obs} > \\chi_{1-\\alpha}^2  \\thinspace para  \\thinspace rechazar  \\thinspace H0$"
          },
          "metadata": {}
        },
        {
          "output_type": "stream",
          "name": "stdout",
          "text": [
            "\n"
          ]
        },
        {
          "output_type": "display_data",
          "data": {
            "text/plain": [
              "<IPython.core.display.Math object>"
            ],
            "text/latex": "$\\displaystyle 7)$"
          },
          "metadata": {}
        },
        {
          "output_type": "stream",
          "name": "stdout",
          "text": [
            "Como se cumple C.D ya que chiobs=23.8 es mayor que Chi_1-alfa;n-1=23.6848 entonces se rechaza H0\n",
            "Como se cumple C.D ya que P-valor=0.04843503 es menor que alfa=0.05 entonces se rechaza H0\n",
            "\n",
            "8) Hay evidencia suficiente para detener el proceso para realizar ajustes con un 95% de confianza\n"
          ]
        }
      ]
    },
    {
      "cell_type": "markdown",
      "source": [
        "###Test de Hipótesis para la proporción"
      ],
      "metadata": {
        "id": "5SkNNCW-ESJF"
      }
    },
    {
      "cell_type": "code",
      "source": [
        "def TH_PROPORCION(p_muestral, p, n, alfa, simbolo_H1):\n",
        "  import scipy.stats as ss\n",
        "  import numpy as np\n",
        "  Zobs=round((p_muestral-p) / (np.sqrt((p*(1-p))/n)),4)\n",
        "  if simbolo_H1=='>':\n",
        "    Zalfa  = round(ss.norm.ppf(1-alfa, 0,1),4)\n",
        "    if Zobs > Zalfa:\n",
        "      respuesta='Como se cumple C.D ya que ' + 'Zobs='+str(Zobs)+' es mayor que '+ 'Z_1-alfa='+str(Zalfa)+' entonces se rechaza H0'\n",
        "    else:\n",
        "      respuesta='Como no se cumple C.D ya que ' + 'Zobs='+str(Zobs)+' es menor que '+ 'Z_1-alfa='+str(Zalfa)+' entonces no se rechaza H0'\n",
        "\n",
        "    p_valor=1-ss.norm.cdf(Zobs, 0,1)\n",
        "    if p_valor < alfa:\n",
        "      respuesta1='Como se cumple C.D ya que ' + 'P-valor='+str(p_valor)+  ' es menor que '+ 'alfa='+ str(alfa)+' entonces se rechaza H0'\n",
        "    else:\n",
        "      respuesta1='Como no se cumple C.D ya que ' + 'P-valor='+str(p_valor)+  ' es mayor que '+ 'alfa='+ str(alfa)+' entonces no se rechaza H0'\n",
        "\n",
        "  elif simbolo_H1=='<':\n",
        "    Zalfa  = round(ss.norm.ppf(alfa, 0,1),4)\n",
        "    if Zobs < Zalfa:\n",
        "      respuesta='Como se cumple C.D ya que ' + 'Zobs='+str(Zobs)+' es menor que '+ 'Zalfa='+str(Zalfa)+' entonces se rechaza H0'\n",
        "    else:\n",
        "      respuesta='Como no se cumple C.D ya que ' + 'Zobs='+str(Zobs)+' es mayor que '+ 'Zalfa='+str(Zalfa)+' entonces no se rechaza H0'\n",
        "\n",
        "    p_valor=ss.norm.cdf(Zobs, 0,1)\n",
        "    if p_valor < alfa:\n",
        "      respuesta1='Como se cumple C.D ya que ' + 'P-valor='+str(p_valor)+  ' es menor que '+ 'alfa='+ str(alfa)+' entonces se rechaza H0'\n",
        "    else:\n",
        "      respuesta1='Como no se cumple C.D ya que ' + 'P-valor='+str(p_valor)+  ' es mayor que '+ 'alfa='+ str(alfa)+' entonces no se rechaza H0'\n",
        "\n",
        "  else:\n",
        "    Zalfa  = round(ss.norm.ppf(1-alfa/2, 0,1),4)\n",
        "    if np.abs(Zobs) > Zalfa:\n",
        "      respuesta='Como se cumple C.D ya que ' + '|Zobs|='+'|'+str(Zobs)+'|'+' es mayor que '+ 'Z_1-alfa/2='+str(Zalfa)+' entonces se rechaza H0'\n",
        "    else:\n",
        "      respuesta='Como no se cumple C.D ya que ' + '|Zobs|='+'|'+str(Zobs)+'|'+' es menor que '+ 'Z_1-alfa/2='+str(Zalfa)+' entonces no se rechaza H0'\n",
        "\n",
        "    p_valor=2*(1-ss.norm.cdf(abs(Zobs), 0,1))\n",
        "    if p_valor < alfa:\n",
        "      respuesta1='Como se cumple C.D ya que ' + 'P-valor='+str(p_valor)+  ' es menor que '+ 'alfa='+ str(alfa)+' entonces se rechaza H0'\n",
        "    else:\n",
        "      respuesta1='Como no se cumple C.D ya que ' + 'P-valor='+str(p_valor)+  ' es mayor que '+ 'alfa='+ str(alfa)+' entonces no se rechaza H0'\n",
        "\n",
        "  return respuesta, respuesta1"
      ],
      "metadata": {
        "id": "DCE9Y50cN5l2"
      },
      "execution_count": null,
      "outputs": []
    },
    {
      "cell_type": "markdown",
      "source": [
        "Ejemplo 4: Estudios de mercado indican que uno de cada 3 consumidores de un producto\n",
        "prefiere los de tipo A. En la empresa A deciden hacer su propia encuesta ya\n",
        "que ellos aseguran que sus productos tipo A está muy bien posicionado en el\n",
        "mercado.\n",
        "Se consulta a 200 consumidores del producto y se obtiene que 80 compran el\n",
        "de tipo A que produce la empresa A. ¿Qué puede concluirse sobre la\n",
        "proporción de clientes que consumen el producto de tipo A de la empresa A?\n",
        "Utilice un nivel de significación del 5%"
      ],
      "metadata": {
        "id": "WPn5Jp1sH6jl"
      }
    },
    {
      "cell_type": "code",
      "source": [
        "display(Math(r'1) \\thinspace X=\"preferencia \\thinspace por \\thinspace marca \\thinspace A\"'))\n",
        "print('')\n",
        "display(Math(r'2) \\thinspace X \\sim N(\\mu; \\sigma)'))\n",
        "print('')\n",
        "display(Math(r'3) \\thinspace H0: p \\leq {1 \\over 3}   \\thinspace H1: p > {1 \\over 3}'))\n",
        "print('')\n",
        "display(Math(r'4 y 5) \\thinspace Z_{obs}= {\\bar p - p \\over {p(1-p) \\over \\sqrt n}} \\sim N(0;1)'))\n",
        "print('')\n",
        "display(Math(r'6) \\thinspace CD: Z_{obs} > \\Z_{1-\\alpha}  \\thinspace para  \\thinspace rechazar  \\thinspace H0'))\n",
        "print('')\n",
        "display(Math(r'7)'))\n",
        "print(TH_PROPORCION(80/200, 1/3, 200, 0.05, '>')[0])\n",
        "print(TH_PROPORCION(80/200, 1/3, 200, 0.05, '>')[1])\n",
        "print('')\n",
        "print('8) No evidencia suficiente para concluir que la proporción de clientes de la empresa A que consumen su producto tipo A es superior a 0,33 con un 95% de confianza')\n"
      ],
      "metadata": {
        "colab": {
          "base_uri": "https://localhost:8080/",
          "height": 358
        },
        "collapsed": true,
        "id": "On2y0w4KEWeY",
        "outputId": "4c8f94fb-a6fa-41c8-da92-a9b29c4f54cf"
      },
      "execution_count": null,
      "outputs": [
        {
          "output_type": "display_data",
          "data": {
            "text/plain": [
              "<IPython.core.display.Math object>"
            ],
            "text/latex": "$\\displaystyle 1) \\thinspace X=\"preferencia \\thinspace por \\thinspace marca \\thinspace A\"$"
          },
          "metadata": {}
        },
        {
          "output_type": "stream",
          "name": "stdout",
          "text": [
            "\n"
          ]
        },
        {
          "output_type": "display_data",
          "data": {
            "text/plain": [
              "<IPython.core.display.Math object>"
            ],
            "text/latex": "$\\displaystyle 2) \\thinspace X \\sim N(\\mu; \\sigma)$"
          },
          "metadata": {}
        },
        {
          "output_type": "stream",
          "name": "stdout",
          "text": [
            "\n"
          ]
        },
        {
          "output_type": "display_data",
          "data": {
            "text/plain": [
              "<IPython.core.display.Math object>"
            ],
            "text/latex": "$\\displaystyle 3) \\thinspace H0: p \\leq {1 \\over 3}   \\thinspace H1: p > {1 \\over 3}$"
          },
          "metadata": {}
        },
        {
          "output_type": "stream",
          "name": "stdout",
          "text": [
            "\n"
          ]
        },
        {
          "output_type": "display_data",
          "data": {
            "text/plain": [
              "<IPython.core.display.Math object>"
            ],
            "text/latex": "$\\displaystyle 4 y 5) \\thinspace Z_{obs}= {\\bar p - p \\over {p(1-p) \\over \\sqrt n}} \\sim N(0;1)$"
          },
          "metadata": {}
        },
        {
          "output_type": "stream",
          "name": "stdout",
          "text": [
            "\n"
          ]
        },
        {
          "output_type": "display_data",
          "data": {
            "text/plain": [
              "<IPython.core.display.Math object>"
            ],
            "text/latex": "$\\displaystyle 6) \\thinspace CD: Z_{obs} > \\Z_{1-\\alpha}  \\thinspace para  \\thinspace rechazar  \\thinspace H0$"
          },
          "metadata": {}
        },
        {
          "output_type": "stream",
          "name": "stdout",
          "text": [
            "\n"
          ]
        },
        {
          "output_type": "display_data",
          "data": {
            "text/plain": [
              "<IPython.core.display.Math object>"
            ],
            "text/latex": "$\\displaystyle 7)$"
          },
          "metadata": {}
        },
        {
          "output_type": "stream",
          "name": "stdout",
          "text": [
            "Como se cumple C.D ya que Zobs=2.0 es mayor que Z_1-alfa=1.6449 entonces se rechaza H0\n",
            "Como se cumple C.D ya que P-valor=0.02275013194817921 es menor que alfa=0.05 entonces se rechaza H0\n",
            "\n",
            "8) No evidencia suficiente para concluir que la proporción de clientes de la empresa A que consumen su producto tipo A es superior a 0,33 con un 95% de confianza\n"
          ]
        }
      ]
    },
    {
      "cell_type": "markdown",
      "source": [
        "###Test de Hipótesis para la diferencia de medias con varianzas conocidas"
      ],
      "metadata": {
        "id": "D9GI_PlCEWuM"
      }
    },
    {
      "cell_type": "code",
      "source": [
        "def TH_DIFMEDIA_VARCON(MM_1, MM_2, DIF, sigma2_1, sigma2_2, n_1, n_2, alfa, simbolo_H1):\n",
        "  import scipy.stats as ss\n",
        "  import numpy as np\n",
        "  Zobs=round(((MM_1-MM_2)-DIF) / (np.sqrt((sigma2_1/n_1)+(sigma2_2/n_2))),4)\n",
        "  if simbolo_H1=='>':\n",
        "    Zalfa  = round(ss.norm.ppf(1-alfa, 0,1),4)\n",
        "    if Zobs > Zalfa:\n",
        "      respuesta='Como se cumple C.D ya que ' + 'Zobs='+str(Zobs)+' es mayor que '+ 'Z_1-alfa='+str(Zalfa)+' entonces se rechaza H0'\n",
        "    else:\n",
        "      respuesta='Como no se cumple C.D ya que ' + 'Zobs='+str(Zobs)+' es menor que '+ 'Z_1-alfa='+str(Zalfa)+' entonces no se rechaza H0'\n",
        "\n",
        "    p_valor=1-ss.norm.cdf(Zobs, 0,1)\n",
        "    if p_valor < alfa:\n",
        "      respuesta1='Como se cumple C.D ya que ' + 'P-valor='+str(p_valor)+  ' es menor que '+ 'alfa='+ str(alfa)+' entonces se rechaza H0'\n",
        "    else:\n",
        "      respuesta1='Como no se cumple C.D ya que ' + 'P-valor='+str(p_valor)+  ' es mayor que '+ 'alfa='+ str(alfa)+' entonces no se rechaza H0'\n",
        "\n",
        "  elif simbolo_H1=='<':\n",
        "    Zalfa  = round(ss.norm.ppf(alfa, 0,1),4)\n",
        "    if Zobs < Zalfa:\n",
        "      respuesta='Como se cumple C.D ya que ' + 'Zobs='+str(Zobs)+' es menor que '+ 'Zalfa='+str(Zalfa)+' entonces se rechaza H0'\n",
        "    else:\n",
        "      respuesta='Como no se cumple C.D ya que ' + 'Zobs='+str(Zobs)+' es mayor que '+ 'Zalfa='+str(Zalfa)+' entonces no se rechaza H0'\n",
        "\n",
        "    p_valor=ss.norm.cdf(Zobs, 0,1)\n",
        "    if p_valor < alfa:\n",
        "      respuesta1='Como se cumple C.D ya que ' + 'P-valor='+str(p_valor)+  ' es menor que '+ 'alfa='+ str(alfa)+' entonces se rechaza H0'\n",
        "    else:\n",
        "      respuesta1='Como no se cumple C.D ya que ' + 'P-valor='+str(p_valor)+  ' es mayor que '+ 'alfa='+ str(alfa)+' entonces no se rechaza H0'\n",
        "\n",
        "  else:\n",
        "    Zalfa  = round(ss.norm.ppf(1-alfa/2, 0,1),4)\n",
        "    if np.abs(Zobs) > Zalfa:\n",
        "      respuesta='Como se cumple C.D ya que ' + '|Zobs|='+'|'+str(Zobs)+'|'+' es mayor que '+ 'Z_1-alfa/2='+str(Zalfa)+' entonces se rechaza H0'\n",
        "    else:\n",
        "      respuesta='Como no se cumple C.D ya que ' + '|Zobs|='+'|'+str(Zobs)+'|'+' es menor que '+ 'Z_1-alfa/2='+str(Zalfa)+' entonces no se rechaza H0'\n",
        "\n",
        "    p_valor=2*(1-ss.norm.cdf(abs(Zobs), 0,1))\n",
        "    if p_valor < alfa:\n",
        "      respuesta1='Como se cumple C.D ya que ' + 'P-valor='+str(p_valor)+  ' es menor que '+ 'alfa='+ str(alfa)+' entonces se rechaza H0'\n",
        "    else:\n",
        "      respuesta1='Como no se cumple C.D ya que ' + 'P-valor='+str(p_valor)+  ' es mayor que '+ 'alfa='+ str(alfa)+' entonces no se rechaza H0'\n",
        "\n",
        "  return respuesta, respuesta1"
      ],
      "metadata": {
        "id": "C1CqxTGpG0DC"
      },
      "execution_count": null,
      "outputs": []
    },
    {
      "cell_type": "markdown",
      "source": [
        "Ejemplo 5:\n",
        "Una compañía de seguros médicos reúne datos sobre el tiempo de hospitalización (en días) de pacientes internados después de una cirugía de alto riesgo en dos hospitales A\n",
        "y B. Se sabe, por estudios anteriores, que las desviaciones estándar son 3,6 y 2,9 respectivamente y que los tiempos de internación siguen una distribución normal. En el\n",
        "hospital A se tomó una muestra de 56 pacientes y se obtuvo una media de 8,2 días. En\n",
        "el hospital B se tomó una muestra de 38 pacientes y se obtuvo una media de 9,4 días.\n",
        "Decida con un nivel de significación del 5% si los tiempos medios de internación\n",
        "difieren en ambos hospitales."
      ],
      "metadata": {
        "id": "TWXYELTxIwHh"
      }
    },
    {
      "cell_type": "code",
      "source": [
        "display(Math(r'1) \\thinspace X_A=\"tiempo \\thinspace hospitalización \\thinspace en \\thinspace hospital \\thinspace A\"'))\n",
        "display(Math(r'1) \\thinspace X_B=\"tiempo \\thinspace hospitalización \\thinspace en \\thinspace hospital \\thinspace B\"'))\n",
        "print('')\n",
        "display(Math(r'2) \\thinspace X_A \\sim N(\\mu_A; \\sigma_A) \\thinspace X_B \\sim N(\\mu_B; \\sigma_B) con varianzas conocidas'))\n",
        "print('')\n",
        "display(Math(r'3) \\thinspace H0: \\mu_A-\\mu_B = 0   \\thinspace H1: \\mu_A-\\mu_B \\neq 0'))\n",
        "print('')\n",
        "display(Math(r'4 y 5) \\thinspace Z_{obs}= {(\\bar X_A -\\bar X_B) - (\\mu_A -\\mu_B) \\over {\\sqrt {{\\sigma_A^2 \\over n_A}+{\\sigma_B^2 \\over n_B}}}} \\sim N(0;1)'))\n",
        "print('')\n",
        "display(Math(r'6) \\thinspace CD: |Z_{obs}| > \\Z_{1- {\\alpha \\over 2}}  \\thinspace para  \\thinspace rechazar  \\thinspace H0'))\n",
        "print('')\n",
        "display(Math(r'7)'))\n",
        "print(TH_DIFMEDIA_VARCON(8.2, 9.4, 0, 3.6**2, 2.9**2, 56, 38, 0.05, '')[0])\n",
        "print(TH_DIFMEDIA_VARCON(8.2, 9.4, 0, 3.6**2, 2.9**2, 56, 38, 0.05, '')[1])\n",
        "print('')\n",
        "print('8) No hay evidencia suficiente para concluir que hay diferencia significativa entre los tiempos medios de internación de ambos hospitales con un nivel de confianza del 95%')"
      ],
      "metadata": {
        "colab": {
          "base_uri": "https://localhost:8080/",
          "height": 377
        },
        "collapsed": true,
        "id": "nW9Xm0QiEcqB",
        "outputId": "3944baf5-4009-4e98-dfa8-2029779a590b"
      },
      "execution_count": null,
      "outputs": [
        {
          "output_type": "display_data",
          "data": {
            "text/plain": [
              "<IPython.core.display.Math object>"
            ],
            "text/latex": "$\\displaystyle 1) \\thinspace X_A=\"tiempo \\thinspace hospitalización \\thinspace en \\thinspace hospital \\thinspace A\"$"
          },
          "metadata": {}
        },
        {
          "output_type": "display_data",
          "data": {
            "text/plain": [
              "<IPython.core.display.Math object>"
            ],
            "text/latex": "$\\displaystyle 1) \\thinspace X_B=\"tiempo \\thinspace hospitalización \\thinspace en \\thinspace hospital \\thinspace B\"$"
          },
          "metadata": {}
        },
        {
          "output_type": "stream",
          "name": "stdout",
          "text": [
            "\n"
          ]
        },
        {
          "output_type": "display_data",
          "data": {
            "text/plain": [
              "<IPython.core.display.Math object>"
            ],
            "text/latex": "$\\displaystyle 2) \\thinspace X_A \\sim N(\\mu_A; \\sigma_A) \\thinspace X_B \\sim N(\\mu_B; \\sigma_B) con varianzas conocidas$"
          },
          "metadata": {}
        },
        {
          "output_type": "stream",
          "name": "stdout",
          "text": [
            "\n"
          ]
        },
        {
          "output_type": "display_data",
          "data": {
            "text/plain": [
              "<IPython.core.display.Math object>"
            ],
            "text/latex": "$\\displaystyle 3) \\thinspace H0: \\mu_A-\\mu_B = 0   \\thinspace H1: \\mu_A-\\mu_B \\neq 0$"
          },
          "metadata": {}
        },
        {
          "output_type": "stream",
          "name": "stdout",
          "text": [
            "\n"
          ]
        },
        {
          "output_type": "display_data",
          "data": {
            "text/plain": [
              "<IPython.core.display.Math object>"
            ],
            "text/latex": "$\\displaystyle 4 y 5) \\thinspace Z_{obs}= {(\\bar X_A -\\bar X_B) - (\\mu_A -\\mu_B) \\over {\\sqrt {{\\sigma_A^2 \\over n_A}+{\\sigma_B^2 \\over n_B}}}} \\sim N(0;1)$"
          },
          "metadata": {}
        },
        {
          "output_type": "stream",
          "name": "stdout",
          "text": [
            "\n"
          ]
        },
        {
          "output_type": "display_data",
          "data": {
            "text/plain": [
              "<IPython.core.display.Math object>"
            ],
            "text/latex": "$\\displaystyle 6) \\thinspace CD: |Z_{obs}| > \\Z_{1- {\\alpha \\over 2}}  \\thinspace para  \\thinspace rechazar  \\thinspace H0$"
          },
          "metadata": {}
        },
        {
          "output_type": "stream",
          "name": "stdout",
          "text": [
            "\n"
          ]
        },
        {
          "output_type": "display_data",
          "data": {
            "text/plain": [
              "<IPython.core.display.Math object>"
            ],
            "text/latex": "$\\displaystyle 7)$"
          },
          "metadata": {}
        },
        {
          "output_type": "stream",
          "name": "stdout",
          "text": [
            "Como no se cumple C.D ya que |Zobs|=|-1.7834| es menor que Z_1-alfa/2=1.96 entonces no se rechaza H0\n",
            "Como no se cumple C.D ya que P-valor=0.07452121324970529 es mayor que alfa=0.05 entonces no se rechaza H0\n",
            "\n",
            "8) No hay evidencia suficiente para concluir que hay diferencia significativa entre los tiempos medios de internación de ambos hospitales con un nivel de confianza del 95%\n"
          ]
        }
      ]
    },
    {
      "cell_type": "markdown",
      "source": [
        "###Test de Hipótesis para la diferencia de medias con varianzas desconocidas"
      ],
      "metadata": {
        "id": "gxEWdi4MEc6H"
      }
    },
    {
      "cell_type": "code",
      "source": [
        "def TH_DIFMEDIA_VARDESCON(MM_1,MM_2, DIF, varM_1, varM_2, n_1, n_2, alfa, simbolo_H1):\n",
        "  import scipy.stats as ss\n",
        "  import numpy as np\n",
        "  Sp=np.sqrt(((n_1-1)*(varM_1) + (n_2-1)*(varM_2))/(n_1+n_2-2))\n",
        "  tobs=round(((MM_1-MM_2)-DIF) / (Sp*(np.sqrt((1/n_1)+(1/n_2)))),4)\n",
        "  if simbolo_H1=='>':\n",
        "    talfa  = round(ss.t.ppf(1-alfa, n_1+n_2-2),4)\n",
        "    if tobs > talfa:\n",
        "      respuesta='Como se cumple C.D ya que ' + 'tobs='+str(tobs)+' es mayor que '+ 't_1-alfa;n_1+n_2-2='+str(talfa)+' entonces se rechaza H0'\n",
        "    else:\n",
        "      respuesta='Como no se cumple C.D ya que ' + 'tobs='+str(tobs)+' es menor que '+ 't_1-alfa;n_1+n_2-2='+str(talfa)+' entonces no se rechaza H0'\n",
        "\n",
        "    p_valor=round(1-ss.t.cdf(tobs, n_1+n_2-2),8)\n",
        "    if p_valor < alfa:\n",
        "      respuesta1='Como se cumple C.D ya que ' + 'P-valor='+str(p_valor)+  ' es menor que '+ 'alfa='+ str(alfa)+' entonces se rechaza H0'\n",
        "    else:\n",
        "      respuesta1='Como no se cumple C.D ya que ' + 'P-valor='+str(p_valor)+  ' es mayor que '+ 'alfa='+ str(alfa)+' entonces no se rechaza H0'\n",
        "\n",
        "  elif simbolo_H1=='<':\n",
        "    talfa  = round(ss.t.ppf(alfa, n_1+n_2-2),4)\n",
        "    if tobs < talfa:\n",
        "      respuesta='Como se cumple C.D ya que ' + 'tobs='+str(tobs)+' es menor que '+ 'talfa;n_1+n_2-2='+str(talfa)+' entonces se rechaza H0'\n",
        "    else:\n",
        "      respuesta='Como no se cumple C.D ya que ' + 'tobs='+str(tobs)+' es mayor que '+ 'talfa;n_1+n_2-2='+str(talfa)+' entonces no se rechaza H0'\n",
        "\n",
        "    p_valor=round(ss.t.cdf(tobs, n_1+n_2-2),8)\n",
        "    if p_valor < alfa:\n",
        "      respuesta1='Como se cumple C.D ya que ' + 'P-valor='+str(p_valor)+  ' es menor que '+ 'alfa='+ str(alfa)+' entonces se rechaza H0'\n",
        "    else:\n",
        "      respuesta1='Como no se cumple C.D ya que ' + 'P-valor='+str(p_valor)+  ' es mayor que '+ 'alfa='+ str(alfa)+' entonces no se rechaza H0'\n",
        "\n",
        "  else:\n",
        "    talfa  = round(ss.t.ppf(1-alfa/2, n_1+n_2-2),4)\n",
        "    if np.abs(tobs) > talfa:\n",
        "      respuesta='Como se cumple C.D ya que ' + '|tobs|='+'|'+str(tobs)+'|'+' es mayor que '+ 't_1-alfa/2;n_1+n_2-2='+str(talfa)+' entonces se rechaza H0'\n",
        "    else:\n",
        "      respuesta='Como no se cumple C.D ya que ' + '|tobs|='+'|'+str(tobs)+'|'+' es menor que '+ 't_1-alfa/2;n_1+n_2-2='+str(talfa)+' entonces no se rechaza H0'\n",
        "\n",
        "    p_valor=2*round(1-ss.t.cdf(abs(tobs), n_1+n_2-2),8)\n",
        "    if p_valor < alfa:\n",
        "      respuesta1='Como se cumple C.D ya que ' + 'P-valor='+str(p_valor)+  ' es menor que '+ 'alfa='+ str(alfa)+' entonces se rechaza H0'\n",
        "    else:\n",
        "      respuesta1='Como no se cumple C.D ya que ' + 'P-valor='+str(p_valor)+  ' es mayor que '+ 'alfa='+ str(alfa)+' entonces no se rechaza H0'\n",
        "\n",
        "  return respuesta, respuesta1"
      ],
      "metadata": {
        "id": "do9iDpAKGz7y"
      },
      "execution_count": null,
      "outputs": []
    },
    {
      "cell_type": "markdown",
      "source": [
        "Ejemplo 6:\n",
        "Se realizó un estudio para comparar el consumo de combustible en dos tipos de vehículos de\n",
        "características similares de marcas distintas. Se tomaron 12 automóviles Volkswagen y 10 Toyota\n",
        "en pruebas de 90 km/h.\n",
        "Para los autos Volkswagen se obtuvo un promedio de 16 km por litro con una desviación estándar\n",
        "de 1 km por litro. Para los autos Toyota se obtuvo un promedio de 11 km por litro con una\n",
        "desviación estándar de 1,8 km por litro.\n",
        "Pruebe la hipótesis que los vehículos Volkswagen consumen en promedio más de 3.953 km por\n",
        "litro con respecto a los Toyota. Utilice un nivel de significación del 10% y suponga que el consumo\n",
        "de combustible sigue una distribución normal."
      ],
      "metadata": {
        "id": "Rs72lad3KEon"
      }
    },
    {
      "cell_type": "code",
      "source": [
        "display(Math(r'1) \\thinspace X_A=\"consumo \\thinspace de \\thinspace combustible \\thinspace autos \\thinspace Volkswagen\"'))\n",
        "display(Math(r'1) \\thinspace X_B=\"consumo \\thinspace de \\thinspace combustible \\thinspace autos \\thinspace Toyota\"'))\n",
        "print('')\n",
        "display(Math(r'2) \\thinspace X_A \\sim N(\\mu_A; \\sigma_A) \\thinspace X_B \\sim N(\\mu_B; \\sigma_B) \\thinspace con \\thinspace \\sigma_A^2 \\thinspace y \\thinspace \\sigma_B^2 \\thinspace desconocidas \\thinspace y \\thinspace \\sigma_A^2=\\sigma_B^2'))\n",
        "print('')\n",
        "display(Math(r'3) \\thinspace H0: \\mu_A-\\mu_B \\leq 3.953   \\thinspace H1: \\mu_A-\\mu_B > 3.953'))\n",
        "print('')\n",
        "display(Math(r'4 y 5) \\thinspace Z_{obs}= {(\\bar X_A -\\bar X_B) - (\\mu_A -\\mu_B) \\over {S_p *\\sqrt {{1 \\over n_A}+{1 \\over n_B}}}} \\sim N(0;1)'))\n",
        "print('')\n",
        "display(Math(r'6) \\thinspace CD: Z_{obs} > \\Z_{1- \\alpha}  \\thinspace para  \\thinspace rechazar  \\thinspace H0'))\n",
        "print('')\n",
        "display(Math(r'7)'))\n",
        "print(TH_DIFMEDIA_VARDESCON(16, 11, 3.953, 1**2, 1.8**2, 12, 10, 0.1, '>')[0])\n",
        "print(TH_DIFMEDIA_VARDESCON(16, 11, 3.953, 1**2, 1.8**2, 12, 10, 0.1, '>')[1])\n",
        "print('')\n",
        "print('8) Hay evidencia suficiente para concluir que los vehículos Volkswagen consumen en promedio más de 3.953 km por litro con respecto a los vehículos Toyota con un nivel de confianza del 90%')"
      ],
      "metadata": {
        "colab": {
          "base_uri": "https://localhost:8080/",
          "height": 376
        },
        "collapsed": true,
        "id": "1vuNcttjEgos",
        "outputId": "11f0712d-2d5b-4e62-aa98-841aa4251a4e"
      },
      "execution_count": null,
      "outputs": [
        {
          "output_type": "display_data",
          "data": {
            "text/plain": [
              "<IPython.core.display.Math object>"
            ],
            "text/latex": "$\\displaystyle 1) \\thinspace X_A=\"consumo \\thinspace de \\thinspace combustible \\thinspace autos \\thinspace Volkswagen\"$"
          },
          "metadata": {}
        },
        {
          "output_type": "display_data",
          "data": {
            "text/plain": [
              "<IPython.core.display.Math object>"
            ],
            "text/latex": "$\\displaystyle 1) \\thinspace X_B=\"consumo \\thinspace de \\thinspace combustible \\thinspace autos \\thinspace Toyota\"$"
          },
          "metadata": {}
        },
        {
          "output_type": "stream",
          "name": "stdout",
          "text": [
            "\n"
          ]
        },
        {
          "output_type": "display_data",
          "data": {
            "text/plain": [
              "<IPython.core.display.Math object>"
            ],
            "text/latex": "$\\displaystyle 2) \\thinspace X_A \\sim N(\\mu_A; \\sigma_A) \\thinspace X_B \\sim N(\\mu_B; \\sigma_B) \\thinspace con \\thinspace \\sigma_A^2 \\thinspace y \\thinspace \\sigma_B^2 \\thinspace desconocidas \\thinspace y \\thinspace \\sigma_A^2=\\sigma_B^2$"
          },
          "metadata": {}
        },
        {
          "output_type": "stream",
          "name": "stdout",
          "text": [
            "\n"
          ]
        },
        {
          "output_type": "display_data",
          "data": {
            "text/plain": [
              "<IPython.core.display.Math object>"
            ],
            "text/latex": "$\\displaystyle 3) \\thinspace H0: \\mu_A-\\mu_B \\leq 3.953   \\thinspace H1: \\mu_A-\\mu_B > 3.953$"
          },
          "metadata": {}
        },
        {
          "output_type": "stream",
          "name": "stdout",
          "text": [
            "\n"
          ]
        },
        {
          "output_type": "display_data",
          "data": {
            "text/plain": [
              "<IPython.core.display.Math object>"
            ],
            "text/latex": "$\\displaystyle 4 y 5) \\thinspace Z_{obs}= {(\\bar X_A -\\bar X_B) - (\\mu_A -\\mu_B) \\over {S_p *\\sqrt {{1 \\over n_A}+{1 \\over n_B}}}} \\sim N(0;1)$"
          },
          "metadata": {}
        },
        {
          "output_type": "stream",
          "name": "stdout",
          "text": [
            "\n"
          ]
        },
        {
          "output_type": "display_data",
          "data": {
            "text/plain": [
              "<IPython.core.display.Math object>"
            ],
            "text/latex": "$\\displaystyle 6) \\thinspace CD: Z_{obs} > \\Z_{1- \\alpha}  \\thinspace para  \\thinspace rechazar  \\thinspace H0$"
          },
          "metadata": {}
        },
        {
          "output_type": "stream",
          "name": "stdout",
          "text": [
            "\n"
          ]
        },
        {
          "output_type": "display_data",
          "data": {
            "text/plain": [
              "<IPython.core.display.Math object>"
            ],
            "text/latex": "$\\displaystyle 7)$"
          },
          "metadata": {}
        },
        {
          "output_type": "stream",
          "name": "stdout",
          "text": [
            "Como se cumple C.D ya que tobs=1.7256 es mayor que t_1-alfa;n_1+n_2-2=1.3253 entonces se rechaza H0\n",
            "Como se cumple C.D ya que P-valor=0.04991905 es menor que alfa=0.1 entonces se rechaza H0\n",
            "\n",
            "8) Hay evidencia suficiente para concluir que los vehículos Volkswagen consumen en promedio más de 3.953 km por litro con respecto a los vehículos Toyota con un nivel de confianza del 90%\n"
          ]
        }
      ]
    },
    {
      "cell_type": "markdown",
      "source": [
        "###Test de Hipótesis para comparar varianzas"
      ],
      "metadata": {
        "id": "k7K2YxBMEg20"
      }
    },
    {
      "cell_type": "code",
      "source": [
        "def TH_IGUALDAD_VARIANZA(var_M1,var_M2, n_1, n_2, alfa, simbolo_H1):\n",
        "  import scipy.stats as ss\n",
        "  import numpy as np\n",
        "  Fobs=round(var_M1 / var_M2,4)\n",
        "  if simbolo_H1=='>':\n",
        "    falfa  = round(ss.f.ppf(1-alfa, n_1-1,n_2-1),4)\n",
        "    if Fobs > falfa:\n",
        "      respuesta='Como se cumple C.D ya que ' + 'Fobs='+str(Fobs)+' es mayor que '+ 'F_1-alfa;n1-1;n2-1='+str(falfa)+' entonces se rechaza H0'\n",
        "    else:\n",
        "      respuesta='Como no se cumple C.D ya que ' + 'Fobs='+str(Fobs)+' es menor que '+ 'F_1-alfa;n1-1;n2-1='+str(falfa)+' entonces no se rechaza H0'\n",
        "\n",
        "    p_valor=round(1-ss.f.cdf(Fobs, n_1-1,n_2-1),8)\n",
        "    if p_valor < alfa:\n",
        "      respuesta1='Como se cumple C.D ya que ' + 'P-valor='+str(p_valor)+  ' es menor que '+ 'alfa='+ str(alfa)+' entonces se rechaza H0'\n",
        "    else:\n",
        "      respuesta1='Como no se cumple C.D ya que ' + 'P-valor='+str(p_valor)+  ' es mayor que '+ 'alfa='+ str(alfa)+' entonces no se rechaza H0'\n",
        "\n",
        "  elif simbolo_H1=='<':\n",
        "    falfa  = round(ss.f.ppf(alfa, n_1-1,n_2-1),4)\n",
        "    if Fobs < falfa:\n",
        "      respuesta='Como se cumple C.D ya que ' + 'Fobs='+str(Fobs)+' es menor que '+ 'F_alfa;n1-1;n2-1='+str(falfa)+' entonces se rechaza H0'\n",
        "    else:\n",
        "      respuesta='Como no se cumple C.D ya que ' + 'Fobs='+str(Fobs)+' es mayor que '+ 'F_alfa;n1-1;n2-1='+str(falfa)+' entonces no se rechaza H0'\n",
        "\n",
        "    p_valor=round(ss.f.cdf(Fobs, n_1-1,n_2-1),8)\n",
        "    if p_valor < alfa:\n",
        "      respuesta1='Como se cumple C.D ya que ' + 'P-valor='+str(p_valor)+  ' es menor que '+ 'alfa='+ str(alfa)+' entonces se rechaza H0'\n",
        "    else:\n",
        "      respuesta1='Como no se cumple C.D ya que ' + 'P-valor='+str(p_valor)+  ' es mayor que '+ 'alfa='+ str(alfa)+' entonces no se rechaza H0'\n",
        "\n",
        "  else:\n",
        "    falfa  = round(ss.f.ppf(1-alfa/2, n_1-1,n_2-1),4)\n",
        "    if np.abs(Fobs) > falfa:\n",
        "      respuesta='Como se cumple C.D ya que ' + '|Fobs|='+'|'+str(Fobs)+'|'+' es mayor que '+ 'F_1-alfa/2;n1-1;n2-1='+str(falfa)+' entonces se rechaza H0'\n",
        "    else:\n",
        "      respuesta='Como no se cumple C.D ya que ' + '|Fobs|='+'|'+str(Fobs)+'|'+' es menor que '+ 'F_1-alfa/2;n1-1;n2-1='+str(falfa)+' entonces no se rechaza H0'\n",
        "\n",
        "    p_valor=2*np.min([round(1-ss.f.cdf(Fobs, n_1-1,n_2-1),8), round(ss.f.cdf(Fobs, n_1-1,n_2-1),8)])\n",
        "    if p_valor < alfa:\n",
        "      respuesta1='Como se cumple C.D ya que ' + 'P-valor='+str(p_valor)+  ' es menor que '+ 'alfa='+ str(alfa)+' entonces se rechaza H0'\n",
        "    else:\n",
        "      respuesta1='Como no se cumple C.D ya que ' + 'P-valor='+str(p_valor)+  ' es mayor que '+ 'alfa='+ str(alfa)+' entonces no se rechaza H0'\n",
        "\n",
        "  return respuesta, respuesta1"
      ],
      "metadata": {
        "id": "6i-6lomTGzyw"
      },
      "execution_count": null,
      "outputs": []
    },
    {
      "cell_type": "markdown",
      "source": [
        "Ejemplo 7:\n",
        "Estudie la hipótesis acerca de la igualdad de varianzas de las variables del\n",
        "ejemplo 6 para un nivel de significación del 2%"
      ],
      "metadata": {
        "id": "-LsBijFzLajV"
      }
    },
    {
      "cell_type": "code",
      "source": [
        "display(Math(r'1) \\thinspace X_A=\"consumo \\thinspace de \\thinspace combustible \\thinspace autos \\thinspace Volkswagen\"'))\n",
        "display(Math(r'1) \\thinspace X_B=\"consumo \\thinspace de \\thinspace combustible \\thinspace autos \\thinspace Toyota\"'))\n",
        "print('')\n",
        "display(Math(r'2) \\thinspace X_A \\sim N(\\mu_A; \\sigma_A) \\thinspace X_B \\sim N(\\mu_B; \\sigma_B)'))\n",
        "print('')\n",
        "display(Math(r'3) \\thinspace H0: \\sigma_A = \\sigma_B   \\thinspace H1: \\sigma_A \\neq \\sigma_B'))\n",
        "print('')\n",
        "display(Math(r'4 y 5) \\thinspace Z_{obs}= {S_A^2 \\over {S_B^2}} \\sim F_{n_A-1;n_B-1}'))\n",
        "print('')\n",
        "display(Math(r'6) \\thinspace CD: |F_{obs}| > F_{1- {\\alpha \\over 2}}  \\thinspace para  \\thinspace rechazar  \\thinspace H0'))\n",
        "print('')\n",
        "display(Math(r'7)'))\n",
        "print(TH_IGUALDAD_VARIANZA(1**2,1.8**2, 12, 10, 0.02, '')[0])\n",
        "print(TH_IGUALDAD_VARIANZA(1**2,1.8**2, 12, 10, 0.02, '')[1])\n",
        "print('')\n",
        "print('8) hay evidencia suficiente para concluir que no hay diferencia significativa entre las varianzas de ambas variables con un 98% de confianza')\n",
        "print('resultó adecuado haber usado el test de hipótesis de diferencia de medias en el ejemplo 6)')"
      ],
      "metadata": {
        "colab": {
          "base_uri": "https://localhost:8080/",
          "height": 361
        },
        "collapsed": true,
        "outputId": "ba9728ab-4a7a-44aa-9dcf-9eaa8a90e849",
        "id": "IjAO7RzlJmfM"
      },
      "execution_count": null,
      "outputs": [
        {
          "output_type": "display_data",
          "data": {
            "text/plain": [
              "<IPython.core.display.Math object>"
            ],
            "text/latex": "$\\displaystyle 1) \\thinspace X_A=\"consumo \\thinspace de \\thinspace combustible \\thinspace autos \\thinspace Volkswagen\"$"
          },
          "metadata": {}
        },
        {
          "output_type": "display_data",
          "data": {
            "text/plain": [
              "<IPython.core.display.Math object>"
            ],
            "text/latex": "$\\displaystyle 1) \\thinspace X_B=\"consumo \\thinspace de \\thinspace combustible \\thinspace autos \\thinspace Toyota\"$"
          },
          "metadata": {}
        },
        {
          "output_type": "stream",
          "name": "stdout",
          "text": [
            "\n"
          ]
        },
        {
          "output_type": "display_data",
          "data": {
            "text/plain": [
              "<IPython.core.display.Math object>"
            ],
            "text/latex": "$\\displaystyle 2) \\thinspace X_A \\sim N(\\mu_A; \\sigma_A) \\thinspace X_B \\sim N(\\mu_B; \\sigma_B)$"
          },
          "metadata": {}
        },
        {
          "output_type": "stream",
          "name": "stdout",
          "text": [
            "\n"
          ]
        },
        {
          "output_type": "display_data",
          "data": {
            "text/plain": [
              "<IPython.core.display.Math object>"
            ],
            "text/latex": "$\\displaystyle 3) \\thinspace H0: \\sigma_A = \\sigma_B   \\thinspace H1: \\sigma_A \\neq \\sigma_B$"
          },
          "metadata": {}
        },
        {
          "output_type": "stream",
          "name": "stdout",
          "text": [
            "\n"
          ]
        },
        {
          "output_type": "display_data",
          "data": {
            "text/plain": [
              "<IPython.core.display.Math object>"
            ],
            "text/latex": "$\\displaystyle 4 y 5) \\thinspace Z_{obs}= {S_A^2 \\over {S_B^2}} \\sim F_{n_A-1;n_B-1}$"
          },
          "metadata": {}
        },
        {
          "output_type": "stream",
          "name": "stdout",
          "text": [
            "\n"
          ]
        },
        {
          "output_type": "display_data",
          "data": {
            "text/plain": [
              "<IPython.core.display.Math object>"
            ],
            "text/latex": "$\\displaystyle 6) \\thinspace CD: |F_{obs}| > F_{1- {\\alpha \\over 2}}  \\thinspace para  \\thinspace rechazar  \\thinspace H0$"
          },
          "metadata": {}
        },
        {
          "output_type": "stream",
          "name": "stdout",
          "text": [
            "\n"
          ]
        },
        {
          "output_type": "display_data",
          "data": {
            "text/plain": [
              "<IPython.core.display.Math object>"
            ],
            "text/latex": "$\\displaystyle 7)$"
          },
          "metadata": {}
        },
        {
          "output_type": "stream",
          "name": "stdout",
          "text": [
            "Como no se cumple C.D ya que |Fobs|=|0.3086| es menor que F_1-alfa/2;n1-1;n2-1=5.1779 entonces no se rechaza H0\n",
            "Como no se cumple C.D ya que P-valor=0.07015458 es mayor que alfa=0.02 entonces no se rechaza H0\n",
            "\n",
            "8) hay evidencia suficiente para concluir que no hay diferencia significativa entre las varianzas de ambas variables con un 98% de confianza\n",
            "resultó adecuado haber usado el test de hipótesis de diferencia de medias en el ejemplo 6)\n"
          ]
        }
      ]
    },
    {
      "cell_type": "markdown",
      "source": [
        "### Test de Hipótesis para diferencia de proporciones"
      ],
      "metadata": {
        "id": "i6ILmAIAMH-N"
      }
    },
    {
      "cell_type": "code",
      "source": [
        "def TH_DIF_PROPORCIONES(PM_1, PM_2, DIF, n_1, n_2, alfa, simbolo_H1):\n",
        "  import scipy.stats as ss\n",
        "  import numpy as np\n",
        "  Zobs=round(((PM_1-PM_2)-DIF) / (np.sqrt((PM_1*(1-PM_1)/n_1)+(PM_2*(1-PM_2)/n_2))),4)\n",
        "  if simbolo_H1=='>':\n",
        "    Zalfa  = round(ss.norm.ppf(1-alfa, 0,1),4)\n",
        "    if Zobs > Zalfa:\n",
        "      respuesta='Como se cumple C.D ya que ' + 'Zobs='+str(Zobs)+' es mayor que '+ 'Z_1-alfa='+str(Zalfa)+' entonces se rechaza H0'\n",
        "    else:\n",
        "      respuesta='Como no se cumple C.D ya que ' + 'Zobs='+str(Zobs)+' es menor que '+ 'Z_1-alfa='+str(Zalfa)+' entonces no se rechaza H0'\n",
        "\n",
        "    p_valor=1-ss.norm.cdf(Zobs, 0,1)\n",
        "    if p_valor < alfa:\n",
        "      respuesta1='Como se cumple C.D ya que ' + 'P-valor='+str(p_valor)+  ' es menor que '+ 'alfa='+ str(alfa)+' entonces se rechaza H0'\n",
        "    else:\n",
        "      respuesta1='Como no se cumple C.D ya que ' + 'P-valor='+str(p_valor)+  ' es mayor que '+ 'alfa='+ str(alfa)+' entonces no se rechaza H0'\n",
        "\n",
        "  elif simbolo_H1=='<':\n",
        "    Zalfa  = round(ss.norm.ppf(alfa, 0,1),4)\n",
        "    if Zobs < Zalfa:\n",
        "      respuesta='Como se cumple C.D ya que ' + 'Zobs='+str(Zobs)+' es menor que '+ 'Zalfa='+str(Zalfa)+' entonces se rechaza H0'\n",
        "    else:\n",
        "      respuesta='Como no se cumple C.D ya que ' + 'Zobs='+str(Zobs)+' es mayor que '+ 'Zalfa='+str(Zalfa)+' entonces no se rechaza H0'\n",
        "\n",
        "    p_valor=ss.norm.cdf(Zobs, 0,1)\n",
        "    if p_valor < alfa:\n",
        "      respuesta1='Como se cumple C.D ya que ' + 'P-valor='+str(p_valor)+  ' es menor que '+ 'alfa='+ str(alfa)+' entonces se rechaza H0'\n",
        "    else:\n",
        "      respuesta1='Como no se cumple C.D ya que ' + 'P-valor='+str(p_valor)+  ' es mayor que '+ 'alfa='+ str(alfa)+' entonces no se rechaza H0'\n",
        "\n",
        "  else:\n",
        "    Zalfa  = round(ss.norm.ppf(1-alfa/2, 0,1),4)\n",
        "    if np.abs(Zobs) > Zalfa:\n",
        "      respuesta='Como se cumple C.D ya que ' + '|Zobs|='+'|'+str(Zobs)+'|'+' es mayor que '+ 'Z_1-alfa/2='+str(Zalfa)+' entonces se rechaza H0'\n",
        "    else:\n",
        "      respuesta='Como no se cumple C.D ya que ' + '|Zobs|='+'|'+str(Zobs)+'|'+' es menor que '+ 'Z_1-alfa/2='+str(Zalfa)+' entonces no se rechaza H0'\n",
        "\n",
        "    p_valor=2*(1-ss.norm.cdf(abs(Zobs), 0,1))\n",
        "    if p_valor < alfa:\n",
        "      respuesta1='Como se cumple C.D ya que ' + 'P-valor='+str(p_valor)+  ' es menor que '+ 'alfa='+ str(alfa)+' entonces se rechaza H0'\n",
        "    else:\n",
        "      respuesta1='Como no se cumple C.D ya que ' + 'P-valor='+str(p_valor)+  ' es mayor que '+ 'alfa='+ str(alfa)+' entonces no se rechaza H0'\n",
        "\n",
        "  return respuesta, respuesta1"
      ],
      "metadata": {
        "id": "LdvmzYNdMZL6"
      },
      "execution_count": null,
      "outputs": []
    },
    {
      "cell_type": "markdown",
      "source": [
        "Ejemplo 8:\n",
        "Se va a registrar el voto de los residentes de una ciudad y de la zona\n",
        "suburbana para determinar si se debe construir una planta química dentro de\n",
        "los límites de la ciudad. Si 120 de los 200 votantes del pueblo y 240 de los 500\n",
        "de la zona suburbana están de acuerdo con la propuesta, ¿esto favorece la\n",
        "hipótesis de que la proporción de votantes a favor de la propuesta de la ciudad\n",
        "es mayor que la proporción del área suburbana? Utilice un nivel de\n",
        "significancia de 0,025."
      ],
      "metadata": {
        "id": "bHWG4MlzMYJ3"
      }
    },
    {
      "cell_type": "code",
      "source": [
        "display(Math(r'1) \\thinspace X_A=\"residentes \\thinspace de \\thinspace la \\thinspace ciudad\"'))\n",
        "display(Math(r'1) \\thinspace X_B=\"residentes \\thinspace de \\thinspace la \\thinspace zona \\thinspace suburbana\"'))\n",
        "print('')\n",
        "display(Math(r'2) \\thinspace X_A \\sim N(\\mu_A; \\sigma_A) \\thinspace X_B \\sim N(\\mu_B; \\sigma_B)'))\n",
        "print('')\n",
        "display(Math(r'3) \\thinspace H0: \\bar P_A -\\bar P_B \\leq 0   \\thinspace H1: \\bar P_A -\\bar P_B > 0'))\n",
        "print('')\n",
        "display(Math(r'4 y 5) \\thinspace Z_{obs}= {(\\bar P_A -\\bar P_B) - (p_A -p_B) \\over {\\sqrt {{ \\bar P_A * (1-\\bar {P_A}) \\over n_A}+{ \\bar P_B * (1-\\bar {P_B}) \\over n_B}}}} \\sim N(0;1)'))\n",
        "print('')\n",
        "display(Math(r'6) \\thinspace CD: Z_{obs} > \\Z_{1- \\alpha }  \\thinspace para  \\thinspace rechazar  \\thinspace H0'))\n",
        "print('')\n",
        "display(Math(r'7)'))\n",
        "print(TH_DIF_PROPORCIONES(120/200, 240/500, 0, 200, 500, 0.025, '>')[0])\n",
        "print(TH_DIF_PROPORCIONES(120/200, 240/500, 0, 200, 500, 0.025, '>')[1])\n",
        "print('')\n",
        "print('8) Hay evidencia suficiente para concluir que la proporción de votantes en al ciudad es mayor a los del área suburbana con un nivel de confianza del 97,5%')"
      ],
      "metadata": {
        "colab": {
          "base_uri": "https://localhost:8080/",
          "height": 376
        },
        "collapsed": true,
        "id": "zJGK6YsZMCRl",
        "outputId": "18167242-237e-4756-f976-f4c55f5b3f5c"
      },
      "execution_count": null,
      "outputs": [
        {
          "output_type": "display_data",
          "data": {
            "text/plain": [
              "<IPython.core.display.Math object>"
            ],
            "text/latex": "$\\displaystyle 1) \\thinspace X_A=\"residentes \\thinspace de \\thinspace la \\thinspace ciudad\"$"
          },
          "metadata": {}
        },
        {
          "output_type": "display_data",
          "data": {
            "text/plain": [
              "<IPython.core.display.Math object>"
            ],
            "text/latex": "$\\displaystyle 1) \\thinspace X_B=\"residentes \\thinspace de \\thinspace la \\thinspace zona \\thinspace suburbana\"$"
          },
          "metadata": {}
        },
        {
          "output_type": "stream",
          "name": "stdout",
          "text": [
            "\n"
          ]
        },
        {
          "output_type": "display_data",
          "data": {
            "text/plain": [
              "<IPython.core.display.Math object>"
            ],
            "text/latex": "$\\displaystyle 2) \\thinspace X_A \\sim N(\\mu_A; \\sigma_A) \\thinspace X_B \\sim N(\\mu_B; \\sigma_B)$"
          },
          "metadata": {}
        },
        {
          "output_type": "stream",
          "name": "stdout",
          "text": [
            "\n"
          ]
        },
        {
          "output_type": "display_data",
          "data": {
            "text/plain": [
              "<IPython.core.display.Math object>"
            ],
            "text/latex": "$\\displaystyle 3) \\thinspace H0: \\bar P_A -\\bar P_B \\leq 0   \\thinspace H1: \\bar P_A -\\bar P_B > 0$"
          },
          "metadata": {}
        },
        {
          "output_type": "stream",
          "name": "stdout",
          "text": [
            "\n"
          ]
        },
        {
          "output_type": "display_data",
          "data": {
            "text/plain": [
              "<IPython.core.display.Math object>"
            ],
            "text/latex": "$\\displaystyle 4 y 5) \\thinspace Z_{obs}= {(\\bar P_A -\\bar P_B) - (p_A -p_B) \\over {\\sqrt {{ \\bar P_A * (1-\\bar {P_A}) \\over n_A}+{ \\bar P_B * (1-\\bar {P_B}) \\over n_B}}}} \\sim N(0;1)$"
          },
          "metadata": {}
        },
        {
          "output_type": "stream",
          "name": "stdout",
          "text": [
            "\n"
          ]
        },
        {
          "output_type": "display_data",
          "data": {
            "text/plain": [
              "<IPython.core.display.Math object>"
            ],
            "text/latex": "$\\displaystyle 6) \\thinspace CD: Z_{obs} > \\Z_{1- \\alpha }  \\thinspace para  \\thinspace rechazar  \\thinspace H0$"
          },
          "metadata": {}
        },
        {
          "output_type": "stream",
          "name": "stdout",
          "text": [
            "\n"
          ]
        },
        {
          "output_type": "display_data",
          "data": {
            "text/plain": [
              "<IPython.core.display.Math object>"
            ],
            "text/latex": "$\\displaystyle 7)$"
          },
          "metadata": {}
        },
        {
          "output_type": "stream",
          "name": "stdout",
          "text": [
            "Como se cumple C.D ya que Zobs=2.9111 es mayor que Z_1-alfa=1.96 entonces se rechaza H0\n",
            "Como se cumple C.D ya que P-valor=0.0018007936421329251 es menor que alfa=0.025 entonces se rechaza H0\n",
            "\n",
            "8) Hay evidencia suficiente para concluir que la proporción de votantes en al ciudad es mayor a los del área suburbana con un nivel de confianza del 97,5%\n"
          ]
        }
      ]
    },
    {
      "cell_type": "markdown",
      "source": [
        "###A partir de lo visto, resolver los siguientes ejemplos"
      ],
      "metadata": {
        "id": "JATmy9xyOrsm"
      }
    },
    {
      "cell_type": "markdown",
      "source": [
        "**1)** Un productor cuenta con dos máquinas cosechadoras y sospecha que la los\n",
        "tiempos medios de cosecha de la máquina A son superiores a los de la B.\n",
        "Para poner a prueba dicha afirmación se toma una muestra del tiempo de 9\n",
        "cosechas realizadas, obteniendo una media de 15 con un desvío de 2, para\n",
        "la primera máquina, y una media de 9 con un desvío de 1.08 para la\n",
        "segunda. Considerando que ambos tiempos de cosecha se distribuyen\n",
        "normalmente.\n",
        "Valide los supuestos que considere necesarios y realice el test\n",
        "correspondiente, en ambos casos con una significación del 2%."
      ],
      "metadata": {
        "id": "4cANaucTOv5-"
      }
    },
    {
      "cell_type": "markdown",
      "source": [
        "**2)** Considere la cotización diaria de los activos bursátiles de VISA (Xa) y de\n",
        "Mastercard (Xb) en el período comprendido entre el 9/6/2023 y el 7/7/2023. A continuación, las estadísticas muestrales:\n",
        "\n",
        "\\begin{equation}\n",
        "\\begin{array}{|c|c|}\n",
        "    \\hline\n",
        "     & n & Media & Desvío \\\\\n",
        "    \\hline\n",
        "    VISA & 25 & 229,1 & 5,1 \\\\\n",
        "    \\hline\n",
        "    MASTERCARD & 25 & 379,1 & 8,2 \\\\\n",
        "    \\hline\n",
        "\\end{array}\n",
        "\\end{equation}\n",
        "\n",
        "A) ¿Existe suficiente evidencia para suponer que las varianzas de ambas\n",
        "cotizaciones son iguales? Utilice un α=0,05. Escriba la respuesta..\n",
        "\n",
        "B) ¿Existe suficiente evidencia para asegurar que la cotización media diaria\n",
        "de VISA es más chica en 150,1 dólares respecto de la cotización media\n",
        "diaria de MASTERCARD? Utilice un α=0,05. Escriba la respuesta."
      ],
      "metadata": {
        "id": "sTwYAfipOwPI"
      }
    },
    {
      "cell_type": "markdown",
      "source": [
        "**3)** Consideremos la inflación mensual durante 2024 (IPC-INDEC) del rubro\n",
        "Alimentos y Servicios básicos. En el siguiente cuadro tenemos las medias y\n",
        "los desvíos estándar correspondientes a los datos desde enero de 2024\n",
        "hasta diciembre de 2024.\n",
        "\n",
        "\\begin{equation}\n",
        "\\begin{array}{|c|c|}\n",
        "    \\hline\n",
        "     & Media & Desvío \\\\\n",
        "    \\hline\n",
        "    IPC \\thinspace Servicios & 11,3 & 9,3 \\\\\n",
        "    \\hline\n",
        "    IPC \\thinspace Alimentos & 5,8 & 5,7 \\\\\n",
        "    \\hline\n",
        "\\end{array}\n",
        "\\end{equation}\n",
        "\n",
        "a) ¿Existe suficiente evidencia para suponer que las varianzas de ambos\n",
        "grupos de datos son iguales? Utilice un α=0,05\n",
        "\n",
        "b) ¿Existe suficiente evidencia para asegurar que la media mensual del IPC\n",
        "Servicios es significativamente mayor que la media mensual del IPC\n",
        "Alimentos? Utilice un α=0,05"
      ],
      "metadata": {
        "id": "rCoFesvyOwm5"
      }
    },
    {
      "cell_type": "markdown",
      "source": [
        "**4)** Considere la cotización (tomada de\n",
        "https://finance.yahoo.com/cryptocurrencies/ ) en dólares de las\n",
        "criptomonedas Bitcoin (BTC) y Wrapped Bitcoin (WBTC) para un período de\n",
        "50 días en cada caso comprendido entre el 8/4/2022 y el 28/5/2022. En este\n",
        "período, se obtuvo una media 35735,45 y un desvío 5031,74 para BTC; y\n",
        "una media de 35732,03 y un desvío de 5033,59 para WBTC.\n",
        "\n",
        "a) ¿Existe suficiente evidencia para suponer que las varianzas de ambas\n",
        "cotizaciones son iguales? Utilice un α=0,05\n",
        "\n",
        "b) ¿Existe suficiente evidencia para asegurar que la cotización media diaria\n",
        "de BTC difiere significativamente de la cotización media diaria de WTBC?\n",
        "Utilice un α=0,05"
      ],
      "metadata": {
        "id": "k3zHhI69Ow7F"
      }
    }
  ]
}