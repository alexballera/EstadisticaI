{
  "cells": [
    {
      "cell_type": "markdown",
      "metadata": {
        "colab_type": "text",
        "id": "view-in-github"
      },
      "source": [
        "<a href=\"https://colab.research.google.com/github/TGADEstadisticaI/EstadisticaI/blob/main/0%20Elementos%20iniciales/TGAD_Nociones_b%C3%A1sicas_Python.ipynb\" target=\"_parent\"><img src=\"https://colab.research.google.com/assets/colab-badge.svg\" alt=\"Open In Colab\"/></a>"
      ]
    },
    {
      "cell_type": "markdown",
      "metadata": {
        "id": "drvDSfWaaYWS"
      },
      "source": [
        "<figure>\n",
        "<center>\n",
        "<img src='https://www.economicas.uba.ar/wp-content/uploads/2020/08/cropped-logo_FCE.png' />\n",
        "</figure>"
      ]
    },
    {
      "cell_type": "markdown",
      "metadata": {
        "id": "eMuYyGo7uqxJ"
      },
      "source": [
        "# **Universidad de Buenos Aires**\n",
        "## **Facultad de Ciencias Económicas**\n",
        "\n",
        "### **Estadística I**\n",
        "\n",
        "### Cátedra: Bianco\n",
        "\n",
        "#### **Nociones introductorias a Python**\n",
        "\n",
        "***Material elaborado por la profesora Natalia Salaberry***"
      ]
    },
    {
      "cell_type": "markdown",
      "metadata": {
        "id": "Q-Uh4lDiw-1A"
      },
      "source": [
        "# Tipos de datos en Python"
      ]
    },
    {
      "cell_type": "markdown",
      "metadata": {
        "id": "hJHQuwyXkWwN"
      },
      "source": [
        "###**1.NÚMEROS**"
      ]
    },
    {
      "cell_type": "markdown",
      "metadata": {
        "id": "1bGbLBkZVZ3p"
      },
      "source": [
        "Si bien existen varios tipos de números en Python, nos centraremos en enteros y decimales.\n",
        "\n",
        "<table>\n",
        "<tr>\n",
        "    <th>Ejemplo</th>\n",
        "    <th>Número \"Tipo\"</th>\n",
        "    <th>Función asociada </th>\n",
        "</tr>\n",
        "\n",
        "<tr>\n",
        "    <td>1,2,-5,1000</td>\n",
        "    <td>Integers</td>\n",
        "    <td>int()</td>\n",
        "</tr>\n",
        "\n",
        "<tr>\n",
        "    <td>1.2,-0.5,2e2,3E2</td>\n",
        "    <td>Floating-point numbers</td>\n",
        "    <td>float()</td>\n",
        "</tr>\n",
        "\n",
        " </table>"
      ]
    },
    {
      "cell_type": "markdown",
      "metadata": {
        "id": "5s4DlhTdlPbL"
      },
      "source": [
        "Operaciones aritméticas básicas"
      ]
    },
    {
      "cell_type": "code",
      "execution_count": 1,
      "metadata": {
        "colab": {
          "base_uri": "https://localhost:8080/"
        },
        "id": "sau11kl4cV8U",
        "outputId": "fcd284ff-695f-4e0c-b72c-1105af00fe92"
      },
      "outputs": [
        {
          "data": {
            "text/plain": [
              "3.2"
            ]
          },
          "execution_count": 1,
          "metadata": {},
          "output_type": "execute_result"
        }
      ],
      "source": [
        "#realizar la operación de Suma\n",
        "\n",
        "2+1.2"
      ]
    },
    {
      "cell_type": "code",
      "execution_count": 2,
      "metadata": {
        "colab": {
          "base_uri": "https://localhost:8080/"
        },
        "id": "XXrdlaJXle-A",
        "outputId": "df5994ff-8517-48b0-e90a-044e4c69b685"
      },
      "outputs": [
        {
          "data": {
            "text/plain": [
              "1"
            ]
          },
          "execution_count": 2,
          "metadata": {},
          "output_type": "execute_result"
        }
      ],
      "source": [
        "# Resta\n",
        "2-1"
      ]
    },
    {
      "cell_type": "code",
      "execution_count": 3,
      "metadata": {
        "colab": {
          "base_uri": "https://localhost:8080/"
        },
        "id": "PAxetCuEljXy",
        "outputId": "c697b2fe-a4f7-450b-b2dd-a591cde8550e"
      },
      "outputs": [
        {
          "data": {
            "text/plain": [
              "4"
            ]
          },
          "execution_count": 3,
          "metadata": {},
          "output_type": "execute_result"
        }
      ],
      "source": [
        "# Multiplicación\n",
        "2*2"
      ]
    },
    {
      "cell_type": "code",
      "execution_count": 4,
      "metadata": {
        "colab": {
          "base_uri": "https://localhost:8080/"
        },
        "id": "TwIDgLVBloOW",
        "outputId": "c9352dd3-bdaf-46a9-f6cf-b6bae250db4e"
      },
      "outputs": [
        {
          "data": {
            "text/plain": [
              "1.5"
            ]
          },
          "execution_count": 4,
          "metadata": {},
          "output_type": "execute_result"
        }
      ],
      "source": [
        "# Division\n",
        "3/2"
      ]
    },
    {
      "cell_type": "code",
      "execution_count": 5,
      "metadata": {
        "colab": {
          "base_uri": "https://localhost:8080/"
        },
        "id": "a-D4pKdxoQfj",
        "outputId": "027c02ec-73d9-44e1-d683-c682ecc54637"
      },
      "outputs": [
        {
          "data": {
            "text/plain": [
              "16"
            ]
          },
          "execution_count": 5,
          "metadata": {},
          "output_type": "execute_result"
        }
      ],
      "source": [
        "#potencia\n",
        "2**4"
      ]
    },
    {
      "cell_type": "code",
      "execution_count": 6,
      "metadata": {
        "colab": {
          "base_uri": "https://localhost:8080/"
        },
        "id": "2kcnmbQ2xZMQ",
        "outputId": "6a3648ba-52d9-4165-f78f-510be8cffe77"
      },
      "outputs": [
        {
          "data": {
            "text/plain": [
              "2.0"
            ]
          },
          "execution_count": 6,
          "metadata": {},
          "output_type": "execute_result"
        }
      ],
      "source": [
        "4**0.5"
      ]
    },
    {
      "cell_type": "markdown",
      "metadata": {
        "id": "tFgxVa_Lq6bY"
      },
      "source": [
        "### **2. STRINGS**\n"
      ]
    },
    {
      "cell_type": "markdown",
      "metadata": {
        "id": "rbhEcnEv0k9Y"
      },
      "source": [
        "Estos son una cadena de caracteres. Para crear un string se debe encerrar la cadena entre comillas dobles. También es posible entre comillas simples, pero en el caso del idioma inglés por ejemplo, nos dará error si en el texto hay una comilla simple. Frente a esto es mejor utilizar siempre comillas dobles."
      ]
    },
    {
      "cell_type": "code",
      "execution_count": 7,
      "metadata": {
        "colab": {
          "base_uri": "https://localhost:8080/",
          "height": 35
        },
        "id": "l2QZq0Eyg2_P",
        "outputId": "4bbb7469-1852-4d44-8ac4-676fd0204ff3"
      },
      "outputs": [
        {
          "data": {
            "text/plain": [
              "\"I'm Natalia\""
            ]
          },
          "execution_count": 7,
          "metadata": {},
          "output_type": "execute_result"
        }
      ],
      "source": [
        "\"I'm Natalia\""
      ]
    },
    {
      "cell_type": "code",
      "execution_count": 8,
      "metadata": {
        "colab": {
          "base_uri": "https://localhost:8080/",
          "height": 36
        },
        "id": "NZ67-TQHXx8l",
        "outputId": "2b154e17-619c-4ac8-afb6-2e6be9cf0104"
      },
      "outputs": [
        {
          "data": {
            "text/plain": [
              "\"I'm Natalia\""
            ]
          },
          "execution_count": 8,
          "metadata": {},
          "output_type": "execute_result"
        }
      ],
      "source": [
        "\"I'm Natalia\""
      ]
    },
    {
      "cell_type": "code",
      "execution_count": 9,
      "metadata": {
        "colab": {
          "base_uri": "https://localhost:8080/",
          "height": 36
        },
        "id": "AkFiKACmq_Yf",
        "outputId": "971a99b2-7d2b-402f-e0e4-0c564a5a4e84"
      },
      "outputs": [
        {
          "data": {
            "text/plain": [
              "'Taller de programación'"
            ]
          },
          "execution_count": 9,
          "metadata": {},
          "output_type": "execute_result"
        }
      ],
      "source": [
        "\"Taller de programación\" #definimos un string"
      ]
    },
    {
      "cell_type": "code",
      "execution_count": 10,
      "metadata": {
        "colab": {
          "base_uri": "https://localhost:8080/",
          "height": 35
        },
        "id": "XddXs__QWn3C",
        "outputId": "689d4625-09e4-42ac-d54f-bb33ec7c4c48"
      },
      "outputs": [
        {
          "data": {
            "text/plain": [
              "'Taller de programación'"
            ]
          },
          "execution_count": 10,
          "metadata": {},
          "output_type": "execute_result"
        }
      ],
      "source": [
        "'Taller de programación'"
      ]
    },
    {
      "cell_type": "markdown",
      "metadata": {
        "id": "IgVZ65Aa4rSO"
      },
      "source": [
        "### **3.BOOLEANS**"
      ]
    },
    {
      "cell_type": "markdown",
      "metadata": {
        "id": "xW_Ys_gY7fLW"
      },
      "source": [
        "Este tipo solo puede devolver verdadero o falso. Resultan útiles para cuando se quiere establecer una condición en un proceso lógico (IF, WHILE que veremos en la próxima clase)"
      ]
    },
    {
      "cell_type": "markdown",
      "metadata": {
        "id": "UJowHnHhEjM9"
      },
      "source": [
        "<table class=\"table table-bordered\">\n",
        "<tr>\n",
        "<th style=\"width:10%\">Operador</th><th style=\"width:45%\">Descripción</th><th>Example</th>\n",
        "</tr>\n",
        "<tr>\n",
        "<td>==</td>\n",
        "<td>Si los valores son exactamente igual, la condición será verdadera.</td>\n",
        "<td> (a == b) is not true.</td>\n",
        "</tr>\n",
        "<tr>\n",
        "<td>!=</td>\n",
        "<td>Si los valores son distintos , la condición será verdadera.</td>\n",
        "<td> (a != b) is true.</td>\n",
        "</tr>\n",
        "<tr>\n",
        "<td>&gt;</td>\n",
        "<td>Si el valor de la izquierda es estrictamente mayor que el de la derecha, la condición devolverá verdadero.</td>\n",
        "<td> (a &gt; b) is not true.</td>\n",
        "</tr>\n",
        "<tr>\n",
        "<td>&lt;</td>\n",
        "<td>Si el valor de la izquierda es estrictamente menor que el de la derecha, la condición devolverá verdadero.</td>\n",
        "<td> (a &lt; b) is true.</td>\n",
        "</tr>\n",
        "<tr>\n",
        "<td>&gt;=</td>\n",
        "<td>Si el valor de la izquierda es mayor o igual que el de la derecha, la condición devolverá verdadero.</td>\n",
        "<td> (a &gt;= b) is not true. </td>\n",
        "</tr>\n",
        "<tr>\n",
        "<td>&lt;=</td>\n",
        "<td>Si el valor de la izquierda es menosr o igual que el de la derecha, la condición devolverá verdadero.</td>\n",
        "<td> (a &lt;= b) is true. </td>\n",
        "</tr>\n",
        "</table>"
      ]
    },
    {
      "cell_type": "code",
      "execution_count": 11,
      "metadata": {
        "colab": {
          "base_uri": "https://localhost:8080/"
        },
        "id": "S4aENjV64qqx",
        "outputId": "be97a98d-a98a-40d0-a69c-e9e88ebb6ebd"
      },
      "outputs": [
        {
          "data": {
            "text/plain": [
              "False"
            ]
          },
          "execution_count": 11,
          "metadata": {},
          "output_type": "execute_result"
        }
      ],
      "source": [
        "1>2 #preguntamos si uno es mayor que dos"
      ]
    },
    {
      "cell_type": "code",
      "execution_count": 12,
      "metadata": {
        "colab": {
          "base_uri": "https://localhost:8080/"
        },
        "id": "SP9DZXy64eyf",
        "outputId": "ca4d547d-6d5c-4e9b-fc01-683bd760e3e9"
      },
      "outputs": [
        {
          "data": {
            "text/plain": [
              "True"
            ]
          },
          "execution_count": 12,
          "metadata": {},
          "output_type": "execute_result"
        }
      ],
      "source": [
        "2>1 #preguntamos si dos es mayor que uno"
      ]
    },
    {
      "cell_type": "code",
      "execution_count": 13,
      "metadata": {
        "colab": {
          "base_uri": "https://localhost:8080/"
        },
        "id": "77cxjlj68izh",
        "outputId": "b825b225-8e57-4596-b03b-7a6bda8ed9a5"
      },
      "outputs": [
        {
          "data": {
            "text/plain": [
              "True"
            ]
          },
          "execution_count": 13,
          "metadata": {},
          "output_type": "execute_result"
        }
      ],
      "source": [
        "2>=1 #preguntamos si dos es mayor o menor que uno"
      ]
    },
    {
      "cell_type": "code",
      "execution_count": 14,
      "metadata": {
        "colab": {
          "base_uri": "https://localhost:8080/"
        },
        "id": "3D1pM9Ps8SsV",
        "outputId": "e6c56a67-5a0f-4e4d-8f06-3791a9ba1237"
      },
      "outputs": [
        {
          "data": {
            "text/plain": [
              "False"
            ]
          },
          "execution_count": 14,
          "metadata": {},
          "output_type": "execute_result"
        }
      ],
      "source": [
        "2==1 #preguntamos si dos es igual a uno"
      ]
    },
    {
      "cell_type": "markdown",
      "metadata": {
        "id": "fWXYGlXR8pR8"
      },
      "source": [
        "Pensemos una pregunta de este tipo pero ahora con strings"
      ]
    },
    {
      "cell_type": "code",
      "execution_count": 15,
      "metadata": {
        "colab": {
          "base_uri": "https://localhost:8080/",
          "height": 35
        },
        "id": "33KYnoICigWs",
        "outputId": "e8fb9b5c-3a50-4a37-eb35-811913a33c4c"
      },
      "outputs": [
        {
          "data": {
            "text/plain": [
              "'casa'"
            ]
          },
          "execution_count": 15,
          "metadata": {},
          "output_type": "execute_result"
        }
      ],
      "source": [
        "\"casa\""
      ]
    },
    {
      "cell_type": "code",
      "execution_count": 16,
      "metadata": {
        "id": "iz3HAGXiil05"
      },
      "outputs": [],
      "source": [
        "texto1=\"casa\""
      ]
    },
    {
      "cell_type": "code",
      "execution_count": 17,
      "metadata": {
        "colab": {
          "base_uri": "https://localhost:8080/",
          "height": 35
        },
        "id": "K6xBRCIdi2_r",
        "outputId": "a8ac1630-0f88-479c-aefe-875593a0803d"
      },
      "outputs": [
        {
          "data": {
            "text/plain": [
              "'casa'"
            ]
          },
          "execution_count": 17,
          "metadata": {},
          "output_type": "execute_result"
        }
      ],
      "source": [
        "texto1"
      ]
    },
    {
      "cell_type": "code",
      "execution_count": 18,
      "metadata": {
        "id": "g5Op0i7h8onW"
      },
      "outputs": [],
      "source": [
        "texto1=\"casa\"\n",
        "texto2=\"CASA\""
      ]
    },
    {
      "cell_type": "code",
      "execution_count": 19,
      "metadata": {
        "colab": {
          "base_uri": "https://localhost:8080/",
          "height": 35
        },
        "id": "9yDSRaqP0Bzt",
        "outputId": "6fa05ea4-39e5-419b-e637-7925e9f49db1"
      },
      "outputs": [
        {
          "data": {
            "text/plain": [
              "'CASA'"
            ]
          },
          "execution_count": 19,
          "metadata": {},
          "output_type": "execute_result"
        }
      ],
      "source": [
        "texto2"
      ]
    },
    {
      "cell_type": "code",
      "execution_count": 20,
      "metadata": {
        "colab": {
          "base_uri": "https://localhost:8080/"
        },
        "id": "dVDu1Cdh83wU",
        "outputId": "b2c2a0f6-376b-4702-c837-2aead9530d00"
      },
      "outputs": [
        {
          "data": {
            "text/plain": [
              "False"
            ]
          },
          "execution_count": 20,
          "metadata": {},
          "output_type": "execute_result"
        }
      ],
      "source": [
        "texto1==texto2"
      ]
    },
    {
      "cell_type": "markdown",
      "metadata": {
        "id": "FEa3Kbwn_g-I"
      },
      "source": [
        "Aplicando alguna de las funciones que vimos para strings podemos llegar  a resultados diferentes"
      ]
    },
    {
      "cell_type": "code",
      "execution_count": 21,
      "metadata": {
        "colab": {
          "base_uri": "https://localhost:8080/",
          "height": 35
        },
        "id": "Wh-rfbnH04m_",
        "outputId": "78c4668f-e643-4344-c6d4-56db904a3394"
      },
      "outputs": [
        {
          "data": {
            "text/plain": [
              "'CASA'"
            ]
          },
          "execution_count": 21,
          "metadata": {},
          "output_type": "execute_result"
        }
      ],
      "source": [
        "texto3=texto1.upper()\n",
        "texto3"
      ]
    },
    {
      "cell_type": "code",
      "execution_count": 22,
      "metadata": {
        "colab": {
          "base_uri": "https://localhost:8080/"
        },
        "id": "fxNDjxOQkSde",
        "outputId": "23c67e98-2662-4260-9c3f-dd726c2f34c8"
      },
      "outputs": [
        {
          "data": {
            "text/plain": [
              "True"
            ]
          },
          "execution_count": 22,
          "metadata": {},
          "output_type": "execute_result"
        }
      ],
      "source": [
        "texto2==texto3"
      ]
    },
    {
      "cell_type": "code",
      "execution_count": 23,
      "metadata": {
        "colab": {
          "base_uri": "https://localhost:8080/",
          "height": 35
        },
        "id": "hOVlABJNaLdB",
        "outputId": "8d289f06-92cd-4c98-ae03-b3b4537dbea3"
      },
      "outputs": [
        {
          "data": {
            "text/plain": [
              "'casa'"
            ]
          },
          "execution_count": 23,
          "metadata": {},
          "output_type": "execute_result"
        }
      ],
      "source": [
        "texto1"
      ]
    },
    {
      "cell_type": "code",
      "execution_count": 24,
      "metadata": {
        "colab": {
          "base_uri": "https://localhost:8080/"
        },
        "id": "A-A05obT9S6a",
        "outputId": "e8f1ab57-09ad-4257-d107-14c021bb22db"
      },
      "outputs": [
        {
          "data": {
            "text/plain": [
              "True"
            ]
          },
          "execution_count": 24,
          "metadata": {},
          "output_type": "execute_result"
        }
      ],
      "source": [
        "texto1.upper()==texto2"
      ]
    },
    {
      "cell_type": "code",
      "execution_count": 25,
      "metadata": {
        "colab": {
          "base_uri": "https://localhost:8080/",
          "height": 35
        },
        "id": "lgXB210D1Gxj",
        "outputId": "40b278d8-b0be-477f-af56-e65b42143854"
      },
      "outputs": [
        {
          "data": {
            "text/plain": [
              "'casa'"
            ]
          },
          "execution_count": 25,
          "metadata": {},
          "output_type": "execute_result"
        }
      ],
      "source": [
        "texto2.lower()"
      ]
    },
    {
      "cell_type": "code",
      "execution_count": 26,
      "metadata": {
        "colab": {
          "base_uri": "https://localhost:8080/"
        },
        "id": "ynfVjImo9fir",
        "outputId": "2b55f698-06d1-40b5-9b0b-3a441a36840e"
      },
      "outputs": [
        {
          "data": {
            "text/plain": [
              "True"
            ]
          },
          "execution_count": 26,
          "metadata": {},
          "output_type": "execute_result"
        }
      ],
      "source": [
        "texto1==texto2.lower()\n"
      ]
    },
    {
      "cell_type": "code",
      "execution_count": 27,
      "metadata": {
        "id": "zdVwqA6hbtxl"
      },
      "outputs": [],
      "source": [
        "texto=\"Clases de estadística\""
      ]
    },
    {
      "cell_type": "code",
      "execution_count": 28,
      "metadata": {
        "colab": {
          "base_uri": "https://localhost:8080/"
        },
        "id": "boZjenEl1Neb",
        "outputId": "82d1bb3c-c205-467e-b9d8-9e573e30af30"
      },
      "outputs": [
        {
          "data": {
            "text/plain": [
              "21"
            ]
          },
          "execution_count": 28,
          "metadata": {},
          "output_type": "execute_result"
        }
      ],
      "source": [
        "len(texto)"
      ]
    },
    {
      "cell_type": "code",
      "execution_count": 29,
      "metadata": {
        "id": "xGfNJKJX9Aac"
      },
      "outputs": [],
      "source": [
        "texto3=len(texto1)\n",
        "texto4=len(texto2)"
      ]
    },
    {
      "cell_type": "code",
      "execution_count": 30,
      "metadata": {
        "colab": {
          "base_uri": "https://localhost:8080/"
        },
        "id": "dghZiWao9Ng7",
        "outputId": "6f76d55f-4a40-4048-fc49-08c2bcfe1af0"
      },
      "outputs": [
        {
          "data": {
            "text/plain": [
              "True"
            ]
          },
          "execution_count": 30,
          "metadata": {},
          "output_type": "execute_result"
        }
      ],
      "source": [
        "texto3==texto4"
      ]
    },
    {
      "cell_type": "code",
      "execution_count": 31,
      "metadata": {
        "id": "el7xLSaA1Woi"
      },
      "outputs": [],
      "source": [
        "texto3=\"Taller de programación\""
      ]
    },
    {
      "cell_type": "code",
      "execution_count": 32,
      "metadata": {
        "colab": {
          "base_uri": "https://localhost:8080/",
          "height": 36
        },
        "id": "6Dz8MGbW1Znz",
        "outputId": "8c0971aa-9551-4a3a-f99a-d495dbfcfdee"
      },
      "outputs": [
        {
          "data": {
            "text/plain": [
              "'Taller de programación'"
            ]
          },
          "execution_count": 32,
          "metadata": {},
          "output_type": "execute_result"
        }
      ],
      "source": [
        "texto3"
      ]
    },
    {
      "cell_type": "code",
      "execution_count": 33,
      "metadata": {
        "colab": {
          "base_uri": "https://localhost:8080/"
        },
        "id": "19c3R5341bfn",
        "outputId": "882ac63e-78a5-43c3-c4b2-1de64d413846"
      },
      "outputs": [
        {
          "data": {
            "text/plain": [
              "22"
            ]
          },
          "execution_count": 33,
          "metadata": {},
          "output_type": "execute_result"
        }
      ],
      "source": [
        "len(texto3)"
      ]
    },
    {
      "cell_type": "markdown",
      "metadata": {
        "id": "LV4nsX898P-P"
      },
      "source": [
        "### **4.LISTAS**"
      ]
    },
    {
      "cell_type": "markdown",
      "metadata": {
        "id": "JGeEgnPS-quj"
      },
      "source": [
        "El tipo más frecuente de secuencia de elementos son las **listas**. Las listas permiten combinar elementos de diferente tipo y son mutables. Al ser mutables, es decir, se puede cambiar su contenido, brindan flexibilidad a la hora de manipular objetos.\n",
        "Para crear una lista utilizamos corchetes y separamos los elementos con coma."
      ]
    },
    {
      "cell_type": "code",
      "execution_count": 34,
      "metadata": {
        "id": "m8ar6RqY7rMH"
      },
      "outputs": [],
      "source": [
        "lista=['uno', 'dos', 3, 4] #creamos una lista"
      ]
    },
    {
      "cell_type": "code",
      "execution_count": 35,
      "metadata": {
        "colab": {
          "base_uri": "https://localhost:8080/"
        },
        "id": "bsGnvkm-cp1A",
        "outputId": "6d4ada13-31ba-4ea3-db49-66fd987f6882"
      },
      "outputs": [
        {
          "data": {
            "text/plain": [
              "list"
            ]
          },
          "execution_count": 35,
          "metadata": {},
          "output_type": "execute_result"
        }
      ],
      "source": [
        "type(lista)"
      ]
    },
    {
      "cell_type": "code",
      "execution_count": 36,
      "metadata": {
        "colab": {
          "base_uri": "https://localhost:8080/"
        },
        "id": "vlDPXfJ_mc9o",
        "outputId": "825931f6-cad8-4901-b06f-8f8c42ecf0c0"
      },
      "outputs": [
        {
          "data": {
            "text/plain": [
              "int"
            ]
          },
          "execution_count": 36,
          "metadata": {},
          "output_type": "execute_result"
        }
      ],
      "source": [
        "type(5)"
      ]
    },
    {
      "cell_type": "code",
      "execution_count": 37,
      "metadata": {
        "colab": {
          "base_uri": "https://localhost:8080/"
        },
        "id": "TRBoNK1tcclX",
        "outputId": "a50ba8d6-19d8-43b5-9aa4-e74fa646f665"
      },
      "outputs": [
        {
          "data": {
            "text/plain": [
              "['uno', 'dos', 3, 4]"
            ]
          },
          "execution_count": 37,
          "metadata": {},
          "output_type": "execute_result"
        }
      ],
      "source": [
        "lista"
      ]
    },
    {
      "cell_type": "code",
      "execution_count": 38,
      "metadata": {
        "colab": {
          "base_uri": "https://localhost:8080/",
          "height": 35
        },
        "id": "s981s4E2cffo",
        "outputId": "6ff2a213-2148-47e4-8d04-f08c752c96d5"
      },
      "outputs": [
        {
          "data": {
            "text/plain": [
              "'uno'"
            ]
          },
          "execution_count": 38,
          "metadata": {},
          "output_type": "execute_result"
        }
      ],
      "source": [
        "# obtenemos un elemento de la lista por posición\n",
        "lista[0]"
      ]
    },
    {
      "cell_type": "code",
      "execution_count": 39,
      "metadata": {
        "colab": {
          "base_uri": "https://localhost:8080/"
        },
        "id": "CBeJTMim3GSt",
        "outputId": "d534a71f-e985-41d2-8015-13430e4426c9"
      },
      "outputs": [
        {
          "data": {
            "text/plain": [
              "4"
            ]
          },
          "execution_count": 39,
          "metadata": {},
          "output_type": "execute_result"
        }
      ],
      "source": [
        "lista[3]"
      ]
    },
    {
      "cell_type": "code",
      "execution_count": 40,
      "metadata": {
        "colab": {
          "base_uri": "https://localhost:8080/"
        },
        "id": "gwhV3rTScv7P",
        "outputId": "89f32d77-29b9-4827-fa21-aff61b30a06d"
      },
      "outputs": [
        {
          "data": {
            "text/plain": [
              "['dos', 3]"
            ]
          },
          "execution_count": 40,
          "metadata": {},
          "output_type": "execute_result"
        }
      ],
      "source": [
        "#obtenemos el mismo elemento de otra manera\n",
        "lista[1:3]"
      ]
    },
    {
      "cell_type": "code",
      "execution_count": 41,
      "metadata": {
        "colab": {
          "base_uri": "https://localhost:8080/"
        },
        "id": "zs19Qq5N3aZV",
        "outputId": "955e0ab3-4a80-4023-ba9a-e62f5c3e9c42"
      },
      "outputs": [
        {
          "data": {
            "text/plain": [
              "['dos', 3, 4]"
            ]
          },
          "execution_count": 41,
          "metadata": {},
          "output_type": "execute_result"
        }
      ],
      "source": [
        "lista[1:4]"
      ]
    },
    {
      "cell_type": "code",
      "execution_count": 42,
      "metadata": {
        "colab": {
          "base_uri": "https://localhost:8080/"
        },
        "id": "QX_4pBV7c4cI",
        "outputId": "4d9c829a-77e7-4bd6-963b-836f29aff07b"
      },
      "outputs": [
        {
          "data": {
            "text/plain": [
              "4"
            ]
          },
          "execution_count": 42,
          "metadata": {},
          "output_type": "execute_result"
        }
      ],
      "source": [
        "#vemos la cantidad de elementos que tiene nuestra lista\n",
        "len(lista)"
      ]
    },
    {
      "cell_type": "code",
      "execution_count": 43,
      "metadata": {
        "colab": {
          "base_uri": "https://localhost:8080/"
        },
        "id": "whoeD0UNc7Pj",
        "outputId": "2a9dcbd3-e60f-442b-ee9b-fd76357b7a4d"
      },
      "outputs": [
        {
          "data": {
            "text/plain": [
              "['uno', 'dos', 3, 4, 'item']"
            ]
          },
          "execution_count": 43,
          "metadata": {},
          "output_type": "execute_result"
        }
      ],
      "source": [
        "#agregamos un elemento a nuestra lista\n",
        "lista + ['item']"
      ]
    },
    {
      "cell_type": "code",
      "execution_count": 44,
      "metadata": {
        "colab": {
          "base_uri": "https://localhost:8080/"
        },
        "id": "of6pvFmldZnk",
        "outputId": "ca5f625b-ec20-4c8f-c66a-7b72fd6d7d67"
      },
      "outputs": [
        {
          "data": {
            "text/plain": [
              "['uno', 'dos', 3, 4]"
            ]
          },
          "execution_count": 44,
          "metadata": {},
          "output_type": "execute_result"
        }
      ],
      "source": [
        "# pero quedó agregado?\n",
        "lista"
      ]
    },
    {
      "cell_type": "code",
      "execution_count": 45,
      "metadata": {
        "colab": {
          "base_uri": "https://localhost:8080/"
        },
        "id": "ZzeylWzcdlcn",
        "outputId": "fe88dd1e-1543-422b-ba94-9903a6d2f4df"
      },
      "outputs": [
        {
          "data": {
            "text/plain": [
              "['uno', 'dos', 3, 4, 'item']"
            ]
          },
          "execution_count": 45,
          "metadata": {},
          "output_type": "execute_result"
        }
      ],
      "source": [
        "lista_1=lista + ['item']\n",
        "lista_1"
      ]
    },
    {
      "cell_type": "code",
      "execution_count": 46,
      "metadata": {
        "colab": {
          "base_uri": "https://localhost:8080/"
        },
        "id": "LzcUuGTq4042",
        "outputId": "b7dd1006-5637-4fcf-990a-0ed6bf9929e0"
      },
      "outputs": [
        {
          "data": {
            "text/plain": [
              "['uno', 'dos', 3, 4]"
            ]
          },
          "execution_count": 46,
          "metadata": {},
          "output_type": "execute_result"
        }
      ],
      "source": [
        "lista"
      ]
    },
    {
      "cell_type": "code",
      "execution_count": 47,
      "metadata": {
        "colab": {
          "base_uri": "https://localhost:8080/"
        },
        "id": "nMCkoCNGdsnk",
        "outputId": "b6f2aa35-3437-450a-d65f-5a216fd0443e"
      },
      "outputs": [
        {
          "data": {
            "text/plain": [
              "['uno', 'dos', 3, 4, 'item', 'uno', 'dos', 3, 4, 'item']"
            ]
          },
          "execution_count": 47,
          "metadata": {},
          "output_type": "execute_result"
        }
      ],
      "source": [
        "# podemos duplicar los elementos de la lista\n",
        "lista_1*2"
      ]
    },
    {
      "cell_type": "code",
      "execution_count": 48,
      "metadata": {
        "colab": {
          "base_uri": "https://localhost:8080/"
        },
        "id": "zO9r0b7wd0iK",
        "outputId": "e70968cc-c56d-4eeb-d36e-371b585e6103"
      },
      "outputs": [
        {
          "data": {
            "text/plain": [
              "['uno', 'dos', 3, 4, 'item']"
            ]
          },
          "execution_count": 48,
          "metadata": {},
          "output_type": "execute_result"
        }
      ],
      "source": [
        "#pero seguimos conservando la original lista_1\n",
        "lista_1"
      ]
    },
    {
      "cell_type": "markdown",
      "metadata": {
        "id": "IQDO6n-oeHiJ"
      },
      "source": [
        "También podemos utilizar la función append() para acortar el camino cuando queremos agregar un elemento en forma definitiva, lo hacemos del siguiente modo"
      ]
    },
    {
      "cell_type": "markdown",
      "metadata": {
        "id": "qHn0KDgvi6nZ"
      },
      "source": [
        "Si queremos modificar un elemento de la lista"
      ]
    },
    {
      "cell_type": "code",
      "execution_count": 49,
      "metadata": {
        "colab": {
          "base_uri": "https://localhost:8080/"
        },
        "id": "80tGs9ew5nq-",
        "outputId": "7d98a1c5-9da1-4136-92a4-37f3cc095d8f"
      },
      "outputs": [
        {
          "data": {
            "text/plain": [
              "['uno', 'dos', 3, 4, 'item']"
            ]
          },
          "execution_count": 49,
          "metadata": {},
          "output_type": "execute_result"
        }
      ],
      "source": [
        "lista_1"
      ]
    },
    {
      "cell_type": "code",
      "execution_count": 50,
      "metadata": {
        "id": "uffB7z9Si2q9"
      },
      "outputs": [],
      "source": [
        "lista_1[4]=5 #reemplazar un elemento de la lista"
      ]
    },
    {
      "cell_type": "code",
      "execution_count": 51,
      "metadata": {
        "colab": {
          "base_uri": "https://localhost:8080/"
        },
        "id": "XGPHGkykjJkq",
        "outputId": "d3649039-8998-4d94-cc21-085ed165e80e"
      },
      "outputs": [
        {
          "data": {
            "text/plain": [
              "['uno', 'dos', 3, 4, 5]"
            ]
          },
          "execution_count": 51,
          "metadata": {},
          "output_type": "execute_result"
        }
      ],
      "source": [
        "lista_1"
      ]
    },
    {
      "cell_type": "code",
      "execution_count": 52,
      "metadata": {
        "id": "Io3lvduTjJJL"
      },
      "outputs": [],
      "source": [
        "lista_1[0:2]=[1,2] #reemplazar varios elementos de la lista"
      ]
    },
    {
      "cell_type": "code",
      "execution_count": 53,
      "metadata": {
        "colab": {
          "base_uri": "https://localhost:8080/"
        },
        "id": "JIobktasjVcT",
        "outputId": "0c5a04f7-4e09-45cf-f765-8cfba2479729"
      },
      "outputs": [
        {
          "data": {
            "text/plain": [
              "[1, 2, 3, 4, 5]"
            ]
          },
          "execution_count": 53,
          "metadata": {},
          "output_type": "execute_result"
        }
      ],
      "source": [
        "lista_1"
      ]
    },
    {
      "cell_type": "markdown",
      "metadata": {
        "id": "eHN8IZLBxGUL"
      },
      "source": [
        "# Sentencias de programación y creación de funciones"
      ]
    },
    {
      "cell_type": "markdown",
      "metadata": {
        "id": "midK3TUe0V-k"
      },
      "source": [
        "**Condicional IF**"
      ]
    },
    {
      "cell_type": "markdown",
      "metadata": {
        "id": "6dxMcSF-4rjb"
      },
      "source": [
        "La sentencia IF permite instruir acciones alternativas a realizar sobre un conjunto de resultados posibles.\n",
        "\n",
        "La sintaxis general es\n",
        "\n",
        "    if condición1:\n",
        "        realizá la acción1\n",
        "    elif condición2:\n",
        "        realizá la acción3\n",
        "    else:\n",
        "        realizá la acción3"
      ]
    },
    {
      "cell_type": "markdown",
      "metadata": {
        "id": "Yff-1v5a3XSj"
      },
      "source": [
        "Comenzemos con una instrucción simple"
      ]
    },
    {
      "cell_type": "code",
      "execution_count": 54,
      "metadata": {
        "colab": {
          "base_uri": "https://localhost:8080/"
        },
        "id": "nu9CQVcQ3XSj",
        "outputId": "5f1959e2-7737-413b-dbff-e19cfae8c6eb"
      },
      "outputs": [
        {
          "name": "stdout",
          "output_type": "stream",
          "text": [
            "x es verdadero!\n"
          ]
        }
      ],
      "source": [
        "#definimos una variable sobre la cual operar\n",
        "x = True\n",
        "\n",
        "if x:\n",
        "  print('x es verdadero!')\n"
      ]
    },
    {
      "cell_type": "code",
      "execution_count": 55,
      "metadata": {
        "id": "bup8wLXoe300"
      },
      "outputs": [],
      "source": [
        "x = False\n",
        "\n",
        "if x:\n",
        "    print('x es verdadero!')"
      ]
    },
    {
      "cell_type": "markdown",
      "metadata": {
        "id": "L7F7s3rUe_5H"
      },
      "source": [
        "Si no se cumple la condición no devuelve nada. Entonces, podemos completar la alternativa del siguiente modo"
      ]
    },
    {
      "cell_type": "code",
      "execution_count": 56,
      "metadata": {
        "colab": {
          "base_uri": "https://localhost:8080/"
        },
        "id": "4Jp25bcH3XSk",
        "outputId": "b87e203a-0ffb-4aa2-871c-d0b0cce9c7db"
      },
      "outputs": [
        {
          "name": "stdout",
          "output_type": "stream",
          "text": [
            "x no es verdadero!\n"
          ]
        }
      ],
      "source": [
        "x = False\n",
        "\n",
        "if x:\n",
        "    print('x es verdadero!')\n",
        "else:\n",
        "    print('x no es verdadero!')"
      ]
    },
    {
      "cell_type": "markdown",
      "metadata": {
        "id": "2wrl3Xc1fcq1"
      },
      "source": [
        "También podemos agregar más opciones de acción utilizando elif"
      ]
    },
    {
      "cell_type": "code",
      "execution_count": 57,
      "metadata": {
        "colab": {
          "base_uri": "https://localhost:8080/"
        },
        "id": "OFjBkeXCfcHC",
        "outputId": "84fc694c-fa30-45db-f042-590544e54aa7"
      },
      "outputs": [
        {
          "name": "stdout",
          "output_type": "stream",
          "text": [
            "Bienvenido al banco!\n"
          ]
        }
      ],
      "source": [
        "x = 'Banco'\n",
        "\n",
        "if x == 'Veterinaria':\n",
        "    print('Bienvenido a la Veterinaria!')\n",
        "elif x == 'Banco':\n",
        "    print('Bienvenido al banco!')\n",
        "else:\n",
        "    print('¿Donde estoy?!')"
      ]
    },
    {
      "cell_type": "code",
      "execution_count": 58,
      "metadata": {
        "colab": {
          "base_uri": "https://localhost:8080/"
        },
        "id": "Ggb9uXoO3XSk",
        "outputId": "9e4bd499-2417-492f-c042-af02df29bcf9"
      },
      "outputs": [
        {
          "name": "stdout",
          "output_type": "stream",
          "text": [
            "Nada\n"
          ]
        }
      ],
      "source": [
        "x = 1\n",
        "y = 3\n",
        "\n",
        "if x == 1 and y==0:\n",
        "    print(x+y)\n",
        "elif x == 1 and y==2:\n",
        "    print(x*y)\n",
        "else:\n",
        "    print('Nada')"
      ]
    },
    {
      "cell_type": "code",
      "execution_count": 59,
      "metadata": {
        "colab": {
          "base_uri": "https://localhost:8080/"
        },
        "id": "T6xkKx8RsBHV",
        "outputId": "39e758f9-fdf5-476e-8ff1-6cb537ad0605"
      },
      "outputs": [
        {
          "name": "stdout",
          "output_type": "stream",
          "text": [
            "2\n"
          ]
        }
      ],
      "source": [
        "x = 1\n",
        "y = 2\n",
        "\n",
        "if x == 1 and y==0:\n",
        "    print(x+y)\n",
        "elif x == 1 and y==2:\n",
        "    print(x*y)\n",
        "else:\n",
        "    print('Nada')"
      ]
    },
    {
      "cell_type": "markdown",
      "metadata": {
        "id": "HiJ5EsBY0nIs"
      },
      "source": [
        "**Bucle FOR**"
      ]
    },
    {
      "cell_type": "markdown",
      "metadata": {
        "id": "pwg8CyiR3XSk"
      },
      "source": [
        "La sentencia FOR permite iterar sobre diferentes objetos como por ejemplo una secuencia o cualquier objeto iterable y realizar diferentes acciones.\n",
        "\n",
        "La sintaxis general es\n",
        "\n",
        "    for item in object:\n",
        "        determinar acciones a realizar\n"
      ]
    },
    {
      "cell_type": "code",
      "execution_count": 60,
      "metadata": {
        "id": "WRh9S9liy1Bp"
      },
      "outputs": [],
      "source": [
        "list1 = [1,2,3,4,5,6,7,8,9,10]  #también se puede definir una lista de strings"
      ]
    },
    {
      "cell_type": "code",
      "execution_count": 61,
      "metadata": {
        "colab": {
          "base_uri": "https://localhost:8080/"
        },
        "id": "PNDcT9563XSl",
        "outputId": "a761c300-8fa1-4382-9a00-26671e01c1fe"
      },
      "outputs": [
        {
          "name": "stdout",
          "output_type": "stream",
          "text": [
            "1\n",
            "2\n",
            "3\n",
            "4\n",
            "5\n",
            "6\n",
            "7\n",
            "8\n",
            "9\n",
            "10\n"
          ]
        }
      ],
      "source": [
        "for i in list1:\n",
        "   print(i)"
      ]
    },
    {
      "cell_type": "code",
      "execution_count": 62,
      "metadata": {
        "colab": {
          "base_uri": "https://localhost:8080/"
        },
        "id": "Z5XT0A21066b",
        "outputId": "7a899da7-f7a2-4da7-cb94-1411fa3f6047"
      },
      "outputs": [
        {
          "name": "stdout",
          "output_type": "stream",
          "text": [
            "2\n",
            "2\n",
            "6\n",
            "4\n",
            "10\n",
            "6\n",
            "14\n",
            "8\n",
            "18\n",
            "10\n"
          ]
        }
      ],
      "source": [
        "#obtenemos los elementos que cumplen con una condición\n",
        "for i in list1:\n",
        "    if i % 2 == 0: #si el resto de la división es igual a 0\n",
        "       print(i)\n",
        "    elif  i % 2 != 0:\n",
        "       print(i*2)"
      ]
    },
    {
      "cell_type": "code",
      "execution_count": 63,
      "metadata": {
        "colab": {
          "base_uri": "https://localhost:8080/"
        },
        "id": "2g3BY96g_CFb",
        "outputId": "b24c4728-f8fb-43b1-c4aa-03cedebef12d"
      },
      "outputs": [
        {
          "data": {
            "text/plain": [
              "[1, 2, 3, 4, 5, 6, 7, 8, 9, 10]"
            ]
          },
          "execution_count": 63,
          "metadata": {},
          "output_type": "execute_result"
        }
      ],
      "source": [
        "list1"
      ]
    },
    {
      "cell_type": "code",
      "execution_count": 64,
      "metadata": {
        "colab": {
          "base_uri": "https://localhost:8080/"
        },
        "id": "c3SvSixu1EF_",
        "outputId": "3e0c6bc9-1cae-461e-c373-efd38d761fee"
      },
      "outputs": [
        {
          "name": "stdout",
          "output_type": "stream",
          "text": [
            "55\n"
          ]
        }
      ],
      "source": [
        "# o podemos obtener un único resultado\n",
        "list_sum = 0\n",
        "\n",
        "for i in list1:\n",
        "    list_sum = list_sum + i\n",
        "\n",
        "\n",
        "print(list_sum)"
      ]
    },
    {
      "cell_type": "markdown",
      "metadata": {
        "id": "1YzwFC9_1fVy"
      },
      "source": [
        "**WHILE**"
      ]
    },
    {
      "cell_type": "code",
      "execution_count": 65,
      "metadata": {
        "colab": {
          "base_uri": "https://localhost:8080/"
        },
        "id": "h9LlykRVUZMk",
        "outputId": "e3165b56-bbf2-4fa6-aece-02d8dbd9cb46"
      },
      "outputs": [
        {
          "name": "stdout",
          "output_type": "stream",
          "text": [
            "0\n",
            "1\n",
            "2\n",
            "3\n",
            "4\n",
            "5\n",
            "6\n",
            "7\n",
            "8\n",
            "9\n"
          ]
        }
      ],
      "source": [
        "x = 0\n",
        "\n",
        "while x < 10:\n",
        "    print(x)\n",
        "    x+=1"
      ]
    },
    {
      "cell_type": "markdown",
      "metadata": {
        "id": "eEIw4OH4VPOy"
      },
      "source": [
        "Podemos completar la sintaxis del siguiente modo"
      ]
    },
    {
      "cell_type": "code",
      "execution_count": 66,
      "metadata": {
        "colab": {
          "base_uri": "https://localhost:8080/"
        },
        "id": "z_VLvCY1VOQn",
        "outputId": "bd539a5a-f144-4e0e-cf88-0dd2f0eda2d5"
      },
      "outputs": [
        {
          "name": "stdout",
          "output_type": "stream",
          "text": [
            "0\n",
            "1\n",
            "2\n",
            "3\n",
            "4\n",
            "5\n",
            "6\n",
            "7\n",
            "8\n",
            "9\n",
            "trabajo finalizado\n"
          ]
        }
      ],
      "source": [
        "x = 0\n",
        "\n",
        "while x < 10:\n",
        "    print(x)\n",
        "    x+=1\n",
        "else:\n",
        "  print('trabajo finalizado')"
      ]
    },
    {
      "cell_type": "markdown",
      "metadata": {
        "id": "1543kfuhVvJM"
      },
      "source": [
        "Podriamos necesitar encontrar mediante las iteraciones un valor puntual"
      ]
    },
    {
      "cell_type": "code",
      "execution_count": 67,
      "metadata": {
        "colab": {
          "base_uri": "https://localhost:8080/"
        },
        "id": "UOOMHtG_VucA",
        "outputId": "c1db0264-df2e-49e9-9d41-b2bb14d91bc3"
      },
      "outputs": [
        {
          "name": "stdout",
          "output_type": "stream",
          "text": [
            "0\n",
            "1\n",
            "2\n",
            "x es igual a 3\n",
            "3\n",
            "4\n",
            "5\n",
            "6\n",
            "7\n",
            "8\n",
            "9\n",
            "trabajo finalizado\n"
          ]
        }
      ],
      "source": [
        "x = 0\n",
        "\n",
        "while x < 10:\n",
        "    print(x)\n",
        "    x+=1\n",
        "    if x==3:\n",
        "        print('x es igual a 3')  # cuando se cumple la condición que nos avise\n",
        "    else:\n",
        "        continue # y luego que continúe\n",
        "else:\n",
        "  print('trabajo finalizado')"
      ]
    },
    {
      "cell_type": "markdown",
      "metadata": {
        "id": "PkpL5sh5W3hD"
      },
      "source": [
        "O podriamos querer que cuando encuentre un valor buscado nos avise, lo imprima y termine el ciclo"
      ]
    },
    {
      "cell_type": "code",
      "execution_count": 68,
      "metadata": {
        "colab": {
          "base_uri": "https://localhost:8080/"
        },
        "id": "2RUBNeVqW3Et",
        "outputId": "23f509be-a6d6-40fd-994a-aa926ece09ce"
      },
      "outputs": [
        {
          "name": "stdout",
          "output_type": "stream",
          "text": [
            "0\n",
            "1\n",
            "2\n",
            "3\n",
            "Trabajo exitoso\n"
          ]
        }
      ],
      "source": [
        "x = 0\n",
        "\n",
        "while x < 10:\n",
        "    print(x) #comentamos esta instancia si solo queremos nos muestre el valor buscado\n",
        "    x+=1\n",
        "    if x==3:\n",
        "        #print('x es igual a 3')\n",
        "        print(x)\n",
        "        print('Trabajo exitoso')\n",
        "        break #finaliza el ciclo\n",
        "    else: # agregamos la instancia else porque si nunca se cumple la condición pretendemos que continue hasta el final (probar cambiando en el if por 11).\n",
        "        continue\n",
        "else: print('trabajo finalizado')\n"
      ]
    },
    {
      "cell_type": "markdown",
      "metadata": {
        "id": "XDnEgpth1MV_"
      },
      "source": [
        "**Creación de funciones**"
      ]
    },
    {
      "cell_type": "markdown",
      "metadata": {
        "id": "KPuzf0bg3XSo"
      },
      "source": [
        "Formalmente, una función es un conjunto de declaraciones que se pueden ejecutar más de una vez. También nos permite pasarle parámetros con los cuales operará.\n",
        "\n",
        "En definitiva, las funciones nos evitan tener que escribir reiteradamente un código. Por ejemplo, cuando utlizamos la función len() verificamos el tamaño de la lista sin tener que hacerlo con desarrollo de un código.\n",
        "\n",
        "La sintaxis general es\n",
        "\n",
        "    def nombre_de_la_funcion(arg1,arg2):\n",
        "   \n",
        "    '''\n",
        "   \n",
        "    #Generalmente se recomienda describir la función (documentar)\n",
        "   \n",
        "    '''\n",
        "   \n",
        "    Bloque de código\n",
        "   \n",
        "    Return (el reultado)"
      ]
    },
    {
      "cell_type": "code",
      "execution_count": 69,
      "metadata": {
        "id": "lsMA81tK3XSo"
      },
      "outputs": [],
      "source": [
        "def suma_num(num1,num2):\n",
        "    resultado=num1+num2\n",
        "    return resultado #retorna la suma de dos números"
      ]
    },
    {
      "cell_type": "code",
      "execution_count": 70,
      "metadata": {
        "colab": {
          "base_uri": "https://localhost:8080/"
        },
        "id": "StX4WYSEC_b8",
        "outputId": "bd7875a7-0203-4c3c-98b1-a4f0b706e063"
      },
      "outputs": [
        {
          "data": {
            "text/plain": [
              "3"
            ]
          },
          "execution_count": 70,
          "metadata": {},
          "output_type": "execute_result"
        }
      ],
      "source": [
        "suma_num(1,2)"
      ]
    },
    {
      "cell_type": "code",
      "execution_count": 71,
      "metadata": {
        "colab": {
          "base_uri": "https://localhost:8080/"
        },
        "id": "SzpWWWb7lggF",
        "outputId": "cdff9086-8b10-45a8-bb15-8fe2ab32fde7"
      },
      "outputs": [
        {
          "data": {
            "text/plain": [
              "5"
            ]
          },
          "execution_count": 71,
          "metadata": {},
          "output_type": "execute_result"
        }
      ],
      "source": [
        "suma_num(2,3)"
      ]
    },
    {
      "cell_type": "markdown",
      "metadata": {
        "id": "620Kyb8ToMwz"
      },
      "source": [
        "También podría ser util tener una función que cuente las veces que aparece una palabra en un campo de mis datos"
      ]
    },
    {
      "cell_type": "code",
      "execution_count": 72,
      "metadata": {
        "id": "f2M21aMpnc7f"
      },
      "outputs": [],
      "source": [
        "def buscar_palabra(lista, palabra):\n",
        "    #cuenta las veces que aparece una palabra (o podría pensarse en buscar un producto, etc)\n",
        "    for n,i in enumerate(lista):\n",
        "      if i ==palabra :\n",
        "       result=lista.count(palabra)\n",
        "    return result"
      ]
    },
    {
      "cell_type": "code",
      "execution_count": 73,
      "metadata": {
        "colab": {
          "base_uri": "https://localhost:8080/"
        },
        "id": "9RiFnJuCoEec",
        "outputId": "34f93af4-dac1-492e-8967-050e68fdafc1"
      },
      "outputs": [
        {
          "data": {
            "text/plain": [
              "2"
            ]
          },
          "execution_count": 73,
          "metadata": {},
          "output_type": "execute_result"
        }
      ],
      "source": [
        "lista_txt=['casa', 'departamento', 'mansion', 'casa']\n",
        "\n",
        "buscar_palabra(lista_txt, 'casa')"
      ]
    }
  ],
  "metadata": {
    "colab": {
      "collapsed_sections": [
        "Q-Uh4lDiw-1A",
        "hJHQuwyXkWwN",
        "tFgxVa_Lq6bY",
        "IgVZ65Aa4rSO",
        "LV4nsX898P-P",
        "eHN8IZLBxGUL"
      ],
      "include_colab_link": true,
      "provenance": []
    },
    "kernelspec": {
      "display_name": ".venv",
      "language": "python",
      "name": "python3"
    },
    "language_info": {
      "codemirror_mode": {
        "name": "ipython",
        "version": 3
      },
      "file_extension": ".py",
      "mimetype": "text/x-python",
      "name": "python",
      "nbconvert_exporter": "python",
      "pygments_lexer": "ipython3",
      "version": "3.12.3"
    }
  },
  "nbformat": 4,
  "nbformat_minor": 0
}
